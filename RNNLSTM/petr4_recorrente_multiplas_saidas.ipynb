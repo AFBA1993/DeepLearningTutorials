{
  "nbformat": 4,
  "nbformat_minor": 0,
  "metadata": {
    "colab": {
      "name": "petr4_recorrente_multiplas_saidas.ipynb",
      "provenance": [],
      "collapsed_sections": [],
      "mount_file_id": "1y2MEOLnSN3W8wHjhMnSeqrsJX4n75KtL",
      "authorship_tag": "ABX9TyMR+5dmV7CTCvJPgBvvvGf5",
      "include_colab_link": true
    },
    "kernelspec": {
      "name": "python3",
      "display_name": "Python 3"
    },
    "language_info": {
      "name": "python"
    }
  },
  "cells": [
    {
      "cell_type": "markdown",
      "metadata": {
        "id": "view-in-github",
        "colab_type": "text"
      },
      "source": [
        "<a href=\"https://colab.research.google.com/github/AFBA1993/DeepLearningTutorials/blob/main/RNNLSTM/petr4_recorrente_multiplas_saidas.ipynb\" target=\"_parent\"><img src=\"https://colab.research.google.com/assets/colab-badge.svg\" alt=\"Open In Colab\"/></a>"
      ]
    },
    {
      "cell_type": "code",
      "execution_count": 1,
      "metadata": {
        "id": "c8Ve55w2GQV6"
      },
      "outputs": [],
      "source": [
        "from keras.models import Sequential\n",
        "from keras.layers import Dense, Dropout, LSTM\n",
        "from sklearn.preprocessing import MinMaxScaler\n",
        "import numpy as np\n",
        "import pandas as pd\n",
        "import matplotlib.pyplot as plt"
      ]
    },
    {
      "cell_type": "code",
      "source": [
        "base = pd.read_csv('/content/drive/MyDrive/UdemyDeepCSVs/petr4_treinamento.csv')\n",
        "base = base.dropna()\n",
        "base_treinamento = base.iloc[:, 1:2].values\n",
        "base_valor_maximo = base.iloc[:, 2:3].values"
      ],
      "metadata": {
        "id": "hmX1AnrSHFrp"
      },
      "execution_count": 2,
      "outputs": []
    },
    {
      "cell_type": "code",
      "source": [
        "normalizador = MinMaxScaler(feature_range = (0,1))\n",
        "base_treinamento_normalizada = normalizador.fit_transform(base_treinamento)\n",
        "base_valor_maximo_normalizado = normalizador.fit_transform(base_valor_maximo)"
      ],
      "metadata": {
        "id": "SRaNxte_H_d4"
      },
      "execution_count": 3,
      "outputs": []
    },
    {
      "cell_type": "code",
      "source": [
        "previsores = []\n",
        "preco_real1 = []\n",
        "preco_real2 = []\n",
        "for i in range(90, 1242):\n",
        "  previsores.append(base_treinamento_normalizada[i-90:i,0])\n",
        "  preco_real1.append(base_treinamento_normalizada[i, 0])\n",
        "  preco_real2.append(base_valor_maximo_normalizado[i, 0])"
      ],
      "metadata": {
        "id": "Xn4mEP-UJHN9"
      },
      "execution_count": 4,
      "outputs": []
    },
    {
      "cell_type": "code",
      "source": [
        "previsores, preco_real1, preco_real2 = np.array(previsores), np.array(preco_real1), np.array(preco_real2)"
      ],
      "metadata": {
        "id": "7ZIJa6M2J8rZ"
      },
      "execution_count": 5,
      "outputs": []
    },
    {
      "cell_type": "code",
      "source": [
        "previsores = np.reshape(previsores, \n",
        "                        (previsores.shape[0], previsores.shape[1],1))"
      ],
      "metadata": {
        "id": "yIpunnjYKelq"
      },
      "execution_count": 6,
      "outputs": []
    },
    {
      "cell_type": "code",
      "source": [
        "preco_real = np.column_stack((preco_real1, preco_real2))"
      ],
      "metadata": {
        "id": "MIfIzHkbK02L"
      },
      "execution_count": 7,
      "outputs": []
    },
    {
      "cell_type": "code",
      "source": [
        "previsores.shape"
      ],
      "metadata": {
        "colab": {
          "base_uri": "https://localhost:8080/"
        },
        "id": "Z_Bv8bAYNWpk",
        "outputId": "26d5c80a-11a8-48c3-a7f8-d138b811d774"
      },
      "execution_count": 8,
      "outputs": [
        {
          "output_type": "execute_result",
          "data": {
            "text/plain": [
              "(1152, 90, 1)"
            ]
          },
          "metadata": {},
          "execution_count": 8
        }
      ]
    },
    {
      "cell_type": "code",
      "source": [
        "regressor = Sequential()\n",
        "regressor.add(LSTM(units = 100, return_sequences = True, \n",
        "                   input_shape = (previsores.shape[1],1)))\n",
        "regressor.add(Dropout(0.3))\n",
        "\n",
        "regressor.add(LSTM(units = 50, return_sequences = True))\n",
        "regressor.add(Dropout(0.3))\n",
        "\n",
        "regressor.add(LSTM(units = 50, return_sequences = True))\n",
        "regressor.add(Dropout(0.3))\n",
        "\n",
        "regressor.add(LSTM(units = 50))\n",
        "regressor.add(Dropout(0.3))\n",
        "\n",
        "regressor.add(Dense(units = 2, activation = 'linear'))\n",
        "\n",
        "regressor.compile(optimizer = 'rmsprop', loss = 'mean_squared_error',\n",
        "                  metrics = ['mean_absolute_error'])\n",
        "regressor.fit(previsores, preco_real, epochs = 100, batch_size = 32)"
      ],
      "metadata": {
        "colab": {
          "base_uri": "https://localhost:8080/"
        },
        "id": "BcKSYHamLM7q",
        "outputId": "a66c19f0-d4a5-482d-d33a-fa49916ae433"
      },
      "execution_count": 9,
      "outputs": [
        {
          "output_type": "stream",
          "name": "stdout",
          "text": [
            "Epoch 1/100\n",
            "36/36 [==============================] - 12s 176ms/step - loss: 0.0346 - mean_absolute_error: 0.1383\n",
            "Epoch 2/100\n",
            "36/36 [==============================] - 6s 176ms/step - loss: 0.0167 - mean_absolute_error: 0.1017\n",
            "Epoch 3/100\n",
            "36/36 [==============================] - 6s 175ms/step - loss: 0.0133 - mean_absolute_error: 0.0906\n",
            "Epoch 4/100\n",
            "36/36 [==============================] - 6s 174ms/step - loss: 0.0141 - mean_absolute_error: 0.0920\n",
            "Epoch 5/100\n",
            "36/36 [==============================] - 6s 174ms/step - loss: 0.0111 - mean_absolute_error: 0.0799\n",
            "Epoch 6/100\n",
            "36/36 [==============================] - 6s 175ms/step - loss: 0.0100 - mean_absolute_error: 0.0764\n",
            "Epoch 7/100\n",
            "36/36 [==============================] - 6s 176ms/step - loss: 0.0091 - mean_absolute_error: 0.0729\n",
            "Epoch 8/100\n",
            "36/36 [==============================] - 6s 176ms/step - loss: 0.0078 - mean_absolute_error: 0.0677\n",
            "Epoch 9/100\n",
            "36/36 [==============================] - 6s 176ms/step - loss: 0.0083 - mean_absolute_error: 0.0687\n",
            "Epoch 10/100\n",
            "36/36 [==============================] - 6s 174ms/step - loss: 0.0073 - mean_absolute_error: 0.0648\n",
            "Epoch 11/100\n",
            "36/36 [==============================] - 6s 175ms/step - loss: 0.0073 - mean_absolute_error: 0.0641\n",
            "Epoch 12/100\n",
            "36/36 [==============================] - 6s 175ms/step - loss: 0.0073 - mean_absolute_error: 0.0634\n",
            "Epoch 13/100\n",
            "36/36 [==============================] - 6s 175ms/step - loss: 0.0058 - mean_absolute_error: 0.0581\n",
            "Epoch 14/100\n",
            "36/36 [==============================] - 6s 174ms/step - loss: 0.0063 - mean_absolute_error: 0.0598\n",
            "Epoch 15/100\n",
            "36/36 [==============================] - 6s 175ms/step - loss: 0.0055 - mean_absolute_error: 0.0565\n",
            "Epoch 16/100\n",
            "36/36 [==============================] - 6s 174ms/step - loss: 0.0051 - mean_absolute_error: 0.0548\n",
            "Epoch 17/100\n",
            "36/36 [==============================] - 6s 174ms/step - loss: 0.0049 - mean_absolute_error: 0.0537\n",
            "Epoch 18/100\n",
            "36/36 [==============================] - 6s 175ms/step - loss: 0.0048 - mean_absolute_error: 0.0516\n",
            "Epoch 19/100\n",
            "36/36 [==============================] - 6s 174ms/step - loss: 0.0044 - mean_absolute_error: 0.0502\n",
            "Epoch 20/100\n",
            "36/36 [==============================] - 6s 176ms/step - loss: 0.0045 - mean_absolute_error: 0.0507\n",
            "Epoch 21/100\n",
            "36/36 [==============================] - 6s 177ms/step - loss: 0.0043 - mean_absolute_error: 0.0500\n",
            "Epoch 22/100\n",
            "36/36 [==============================] - 6s 177ms/step - loss: 0.0043 - mean_absolute_error: 0.0498\n",
            "Epoch 23/100\n",
            "36/36 [==============================] - 6s 175ms/step - loss: 0.0043 - mean_absolute_error: 0.0503\n",
            "Epoch 24/100\n",
            "36/36 [==============================] - 6s 175ms/step - loss: 0.0040 - mean_absolute_error: 0.0481\n",
            "Epoch 25/100\n",
            "36/36 [==============================] - 6s 177ms/step - loss: 0.0038 - mean_absolute_error: 0.0467\n",
            "Epoch 26/100\n",
            "36/36 [==============================] - 6s 174ms/step - loss: 0.0038 - mean_absolute_error: 0.0467\n",
            "Epoch 27/100\n",
            "36/36 [==============================] - 6s 177ms/step - loss: 0.0033 - mean_absolute_error: 0.0434\n",
            "Epoch 28/100\n",
            "36/36 [==============================] - 6s 176ms/step - loss: 0.0035 - mean_absolute_error: 0.0453\n",
            "Epoch 29/100\n",
            "36/36 [==============================] - 6s 175ms/step - loss: 0.0032 - mean_absolute_error: 0.0433\n",
            "Epoch 30/100\n",
            "36/36 [==============================] - 6s 175ms/step - loss: 0.0034 - mean_absolute_error: 0.0447\n",
            "Epoch 31/100\n",
            "36/36 [==============================] - 6s 175ms/step - loss: 0.0031 - mean_absolute_error: 0.0413\n",
            "Epoch 32/100\n",
            "36/36 [==============================] - 6s 176ms/step - loss: 0.0031 - mean_absolute_error: 0.0424\n",
            "Epoch 33/100\n",
            "36/36 [==============================] - 6s 175ms/step - loss: 0.0029 - mean_absolute_error: 0.0416\n",
            "Epoch 34/100\n",
            "36/36 [==============================] - 6s 175ms/step - loss: 0.0032 - mean_absolute_error: 0.0423\n",
            "Epoch 35/100\n",
            "36/36 [==============================] - 6s 175ms/step - loss: 0.0029 - mean_absolute_error: 0.0404\n",
            "Epoch 36/100\n",
            "36/36 [==============================] - 6s 176ms/step - loss: 0.0029 - mean_absolute_error: 0.0411\n",
            "Epoch 37/100\n",
            "36/36 [==============================] - 6s 177ms/step - loss: 0.0027 - mean_absolute_error: 0.0398\n",
            "Epoch 38/100\n",
            "36/36 [==============================] - 6s 177ms/step - loss: 0.0028 - mean_absolute_error: 0.0398\n",
            "Epoch 39/100\n",
            "36/36 [==============================] - 6s 177ms/step - loss: 0.0028 - mean_absolute_error: 0.0399\n",
            "Epoch 40/100\n",
            "36/36 [==============================] - 6s 176ms/step - loss: 0.0026 - mean_absolute_error: 0.0381\n",
            "Epoch 41/100\n",
            "36/36 [==============================] - 6s 177ms/step - loss: 0.0026 - mean_absolute_error: 0.0385\n",
            "Epoch 42/100\n",
            "36/36 [==============================] - 6s 175ms/step - loss: 0.0026 - mean_absolute_error: 0.0390\n",
            "Epoch 43/100\n",
            "36/36 [==============================] - 6s 175ms/step - loss: 0.0023 - mean_absolute_error: 0.0363\n",
            "Epoch 44/100\n",
            "36/36 [==============================] - 6s 174ms/step - loss: 0.0024 - mean_absolute_error: 0.0371\n",
            "Epoch 45/100\n",
            "36/36 [==============================] - 6s 176ms/step - loss: 0.0026 - mean_absolute_error: 0.0373\n",
            "Epoch 46/100\n",
            "36/36 [==============================] - 6s 175ms/step - loss: 0.0021 - mean_absolute_error: 0.0351\n",
            "Epoch 47/100\n",
            "36/36 [==============================] - 6s 173ms/step - loss: 0.0022 - mean_absolute_error: 0.0354\n",
            "Epoch 48/100\n",
            "36/36 [==============================] - 6s 175ms/step - loss: 0.0025 - mean_absolute_error: 0.0379\n",
            "Epoch 49/100\n",
            "36/36 [==============================] - 6s 175ms/step - loss: 0.0021 - mean_absolute_error: 0.0344\n",
            "Epoch 50/100\n",
            "36/36 [==============================] - 6s 175ms/step - loss: 0.0023 - mean_absolute_error: 0.0363\n",
            "Epoch 51/100\n",
            "36/36 [==============================] - 6s 175ms/step - loss: 0.0021 - mean_absolute_error: 0.0348\n",
            "Epoch 52/100\n",
            "36/36 [==============================] - 6s 175ms/step - loss: 0.0022 - mean_absolute_error: 0.0351\n",
            "Epoch 53/100\n",
            "36/36 [==============================] - 6s 175ms/step - loss: 0.0020 - mean_absolute_error: 0.0342\n",
            "Epoch 54/100\n",
            "36/36 [==============================] - 6s 173ms/step - loss: 0.0023 - mean_absolute_error: 0.0357\n",
            "Epoch 55/100\n",
            "36/36 [==============================] - 6s 174ms/step - loss: 0.0020 - mean_absolute_error: 0.0339\n",
            "Epoch 56/100\n",
            "36/36 [==============================] - 6s 176ms/step - loss: 0.0021 - mean_absolute_error: 0.0346\n",
            "Epoch 57/100\n",
            "36/36 [==============================] - 6s 176ms/step - loss: 0.0020 - mean_absolute_error: 0.0341\n",
            "Epoch 58/100\n",
            "36/36 [==============================] - 6s 176ms/step - loss: 0.0020 - mean_absolute_error: 0.0332\n",
            "Epoch 59/100\n",
            "36/36 [==============================] - 6s 176ms/step - loss: 0.0020 - mean_absolute_error: 0.0343\n",
            "Epoch 60/100\n",
            "36/36 [==============================] - 6s 178ms/step - loss: 0.0021 - mean_absolute_error: 0.0337\n",
            "Epoch 61/100\n",
            "36/36 [==============================] - 6s 176ms/step - loss: 0.0018 - mean_absolute_error: 0.0322\n",
            "Epoch 62/100\n",
            "36/36 [==============================] - 6s 176ms/step - loss: 0.0019 - mean_absolute_error: 0.0329\n",
            "Epoch 63/100\n",
            "36/36 [==============================] - 6s 177ms/step - loss: 0.0019 - mean_absolute_error: 0.0329\n",
            "Epoch 64/100\n",
            "36/36 [==============================] - 6s 176ms/step - loss: 0.0018 - mean_absolute_error: 0.0316\n",
            "Epoch 65/100\n",
            "36/36 [==============================] - 6s 179ms/step - loss: 0.0018 - mean_absolute_error: 0.0321\n",
            "Epoch 66/100\n",
            "36/36 [==============================] - 6s 176ms/step - loss: 0.0020 - mean_absolute_error: 0.0338\n",
            "Epoch 67/100\n",
            "36/36 [==============================] - 6s 176ms/step - loss: 0.0017 - mean_absolute_error: 0.0309\n",
            "Epoch 68/100\n",
            "36/36 [==============================] - 6s 176ms/step - loss: 0.0017 - mean_absolute_error: 0.0315\n",
            "Epoch 69/100\n",
            "36/36 [==============================] - 6s 176ms/step - loss: 0.0018 - mean_absolute_error: 0.0319\n",
            "Epoch 70/100\n",
            "36/36 [==============================] - 6s 178ms/step - loss: 0.0018 - mean_absolute_error: 0.0310\n",
            "Epoch 71/100\n",
            "36/36 [==============================] - 6s 176ms/step - loss: 0.0018 - mean_absolute_error: 0.0320\n",
            "Epoch 72/100\n",
            "36/36 [==============================] - 6s 176ms/step - loss: 0.0017 - mean_absolute_error: 0.0310\n",
            "Epoch 73/100\n",
            "36/36 [==============================] - 6s 176ms/step - loss: 0.0017 - mean_absolute_error: 0.0309\n",
            "Epoch 74/100\n",
            "36/36 [==============================] - 6s 179ms/step - loss: 0.0018 - mean_absolute_error: 0.0318\n",
            "Epoch 75/100\n",
            "36/36 [==============================] - 6s 176ms/step - loss: 0.0016 - mean_absolute_error: 0.0298\n",
            "Epoch 76/100\n",
            "36/36 [==============================] - 6s 176ms/step - loss: 0.0018 - mean_absolute_error: 0.0314\n",
            "Epoch 77/100\n",
            "36/36 [==============================] - 6s 176ms/step - loss: 0.0017 - mean_absolute_error: 0.0305\n",
            "Epoch 78/100\n",
            "36/36 [==============================] - 6s 175ms/step - loss: 0.0017 - mean_absolute_error: 0.0314\n",
            "Epoch 79/100\n",
            "36/36 [==============================] - 6s 177ms/step - loss: 0.0017 - mean_absolute_error: 0.0311\n",
            "Epoch 80/100\n",
            "36/36 [==============================] - 6s 176ms/step - loss: 0.0015 - mean_absolute_error: 0.0299\n",
            "Epoch 81/100\n",
            "36/36 [==============================] - 6s 178ms/step - loss: 0.0017 - mean_absolute_error: 0.0306\n",
            "Epoch 82/100\n",
            "36/36 [==============================] - 6s 176ms/step - loss: 0.0017 - mean_absolute_error: 0.0305\n",
            "Epoch 83/100\n",
            "36/36 [==============================] - 6s 177ms/step - loss: 0.0015 - mean_absolute_error: 0.0291\n",
            "Epoch 84/100\n",
            "36/36 [==============================] - 6s 178ms/step - loss: 0.0017 - mean_absolute_error: 0.0307\n",
            "Epoch 85/100\n",
            "36/36 [==============================] - 6s 177ms/step - loss: 0.0017 - mean_absolute_error: 0.0297\n",
            "Epoch 86/100\n",
            "36/36 [==============================] - 6s 175ms/step - loss: 0.0016 - mean_absolute_error: 0.0306\n",
            "Epoch 87/100\n",
            "36/36 [==============================] - 6s 176ms/step - loss: 0.0015 - mean_absolute_error: 0.0297\n",
            "Epoch 88/100\n",
            "36/36 [==============================] - 6s 174ms/step - loss: 0.0016 - mean_absolute_error: 0.0301\n",
            "Epoch 89/100\n",
            "36/36 [==============================] - 6s 176ms/step - loss: 0.0015 - mean_absolute_error: 0.0294\n",
            "Epoch 90/100\n",
            "36/36 [==============================] - 6s 177ms/step - loss: 0.0015 - mean_absolute_error: 0.0292\n",
            "Epoch 91/100\n",
            "36/36 [==============================] - 6s 177ms/step - loss: 0.0016 - mean_absolute_error: 0.0296\n",
            "Epoch 92/100\n",
            "36/36 [==============================] - 6s 177ms/step - loss: 0.0016 - mean_absolute_error: 0.0295\n",
            "Epoch 93/100\n",
            "36/36 [==============================] - 6s 177ms/step - loss: 0.0015 - mean_absolute_error: 0.0292\n",
            "Epoch 94/100\n",
            "36/36 [==============================] - 6s 177ms/step - loss: 0.0015 - mean_absolute_error: 0.0288\n",
            "Epoch 95/100\n",
            "36/36 [==============================] - 6s 176ms/step - loss: 0.0015 - mean_absolute_error: 0.0292\n",
            "Epoch 96/100\n",
            "36/36 [==============================] - 6s 178ms/step - loss: 0.0016 - mean_absolute_error: 0.0297\n",
            "Epoch 97/100\n",
            "36/36 [==============================] - 6s 177ms/step - loss: 0.0015 - mean_absolute_error: 0.0289\n",
            "Epoch 98/100\n",
            "36/36 [==============================] - 6s 177ms/step - loss: 0.0016 - mean_absolute_error: 0.0300\n",
            "Epoch 99/100\n",
            "36/36 [==============================] - 6s 176ms/step - loss: 0.0016 - mean_absolute_error: 0.0300\n",
            "Epoch 100/100\n",
            "36/36 [==============================] - 6s 174ms/step - loss: 0.0016 - mean_absolute_error: 0.0296\n"
          ]
        },
        {
          "output_type": "execute_result",
          "data": {
            "text/plain": [
              "<keras.callbacks.History at 0x7f0f7536d750>"
            ]
          },
          "metadata": {},
          "execution_count": 9
        }
      ]
    },
    {
      "cell_type": "code",
      "source": [
        "base_teste = pd.read_csv('/content/drive/MyDrive/UdemyDeepCSVs/petr4_teste.csv')"
      ],
      "metadata": {
        "id": "NP0F8y37QqeN"
      },
      "execution_count": 10,
      "outputs": []
    },
    {
      "cell_type": "code",
      "source": [
        "preco_real_open = base_teste.iloc[:, 1:2].values\n",
        "preco_real_high = base_teste.iloc[:, 2:3].values"
      ],
      "metadata": {
        "id": "LzcHKLQ1Q7wA"
      },
      "execution_count": 11,
      "outputs": []
    },
    {
      "cell_type": "code",
      "source": [
        "base_completa = pd.concat((base['Open'], base_teste['Open']), axis = 0)\n",
        "entradas = base_completa[len(base_completa)-len(base_teste)-90:].values\n",
        "entradas = entradas.reshape(-1, 1)\n",
        "entradas = normalizador.transform(entradas)\n",
        "\n"
      ],
      "metadata": {
        "id": "zTS6CKxuRXQV"
      },
      "execution_count": 13,
      "outputs": []
    },
    {
      "cell_type": "code",
      "source": [
        "X_teste = []\n",
        "for i in range(90,112):\n",
        "  X_teste.append(entradas[i-90:i, 0])\n",
        "X_teste = np.array(X_teste)\n",
        "X_teste = np.reshape(X_teste, (X_teste.shape[0], X_teste.shape[1], 1))"
      ],
      "metadata": {
        "id": "K_MpSMzoTAg4"
      },
      "execution_count": 15,
      "outputs": []
    },
    {
      "cell_type": "code",
      "source": [
        "X_teste.shape"
      ],
      "metadata": {
        "colab": {
          "base_uri": "https://localhost:8080/"
        },
        "id": "DHOVDe0XTVlJ",
        "outputId": "61995434-a16c-45d0-bcd0-1c93abf59a90"
      },
      "execution_count": 16,
      "outputs": [
        {
          "output_type": "execute_result",
          "data": {
            "text/plain": [
              "(22, 90, 1)"
            ]
          },
          "metadata": {},
          "execution_count": 16
        }
      ]
    },
    {
      "cell_type": "code",
      "source": [
        "previsoes = regressor.predict(X_teste)\n",
        "previsoes = normalizador.inverse_transform(previsoes)\n",
        "previsoes"
      ],
      "metadata": {
        "colab": {
          "base_uri": "https://localhost:8080/"
        },
        "id": "xHicatQ4Thxf",
        "outputId": "a3ba7eb9-380c-44a9-f51b-66cfb7f4c85f"
      },
      "execution_count": 19,
      "outputs": [
        {
          "output_type": "execute_result",
          "data": {
            "text/plain": [
              "array([[16.144827, 16.311602],\n",
              "       [16.195553, 16.362352],\n",
              "       [16.414837, 16.584326],\n",
              "       [16.697649, 16.870447],\n",
              "       [16.72628 , 16.898172],\n",
              "       [16.717598, 16.888395],\n",
              "       [16.917849, 17.091114],\n",
              "       [16.942692, 17.115574],\n",
              "       [16.883926, 17.055313],\n",
              "       [16.96878 , 17.141188],\n",
              "       [17.207903, 17.383646],\n",
              "       [17.307203, 17.483767],\n",
              "       [17.682724, 17.864328],\n",
              "       [18.121649, 18.308975],\n",
              "       [18.19441 , 18.381372],\n",
              "       [18.126328, 18.311062],\n",
              "       [18.210714, 18.396177],\n",
              "       [18.28174 , 18.467955],\n",
              "       [18.928886, 19.124994],\n",
              "       [19.338541, 19.54039 ],\n",
              "       [19.392405, 19.593922],\n",
              "       [19.442072, 19.643465]], dtype=float32)"
            ]
          },
          "metadata": {},
          "execution_count": 19
        }
      ]
    },
    {
      "cell_type": "code",
      "source": [
        "plt.plot(preco_real_open, color ='red', label = 'Preço abertura real')\n",
        "plt.plot(preco_real_high, color ='black', label = 'Preço alta real')\n",
        "\n",
        "plt.plot(previsoes[:, 0], color = 'blue', label = 'Previsões abertura')\n",
        "plt.plot(previsoes[:, 1], color = 'orange', label = 'Previsões alta')\n",
        "\n",
        "\n",
        "plt.title('Previsao preço das ações')\n",
        "plt.xlabel('Tempo')\n",
        "plt.ylabel('Valor yahoo')\n",
        "plt.legend()\n",
        "plt.show()"
      ],
      "metadata": {
        "colab": {
          "base_uri": "https://localhost:8080/",
          "height": 295
        },
        "id": "5eWXGmOQTpys",
        "outputId": "da93cdd2-374e-41be-d40d-4445ff56a9da"
      },
      "execution_count": 20,
      "outputs": [
        {
          "output_type": "display_data",
          "data": {
            "image/png": "[encoded data removed]",
            "text/plain": [
              "<Figure size 432x288 with 1 Axes>"
            ]
          },
          "metadata": {
            "needs_background": "light"
          }
        }
      ]
    }
  ]
}