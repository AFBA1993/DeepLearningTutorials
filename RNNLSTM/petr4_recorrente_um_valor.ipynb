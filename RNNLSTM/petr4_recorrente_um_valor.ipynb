{
  "nbformat": 4,
  "nbformat_minor": 0,
  "metadata": {
    "colab": {
      "name": "petr4_recorrente_um_valor.ipynb",
      "provenance": [],
      "mount_file_id": "1IfevEDCrwuLwJ6-SIN2j6ZF7EQoLQqSj",
      "authorship_tag": "ABX9TyM7J4QC63OjNY/6SiHjBY8y",
      "include_colab_link": true
    },
    "kernelspec": {
      "name": "python3",
      "display_name": "Python 3"
    },
    "language_info": {
      "name": "python"
    }
  },
  "cells": [
    {
      "cell_type": "markdown",
      "metadata": {
        "id": "view-in-github",
        "colab_type": "text"
      },
      "source": [
        "<a href=\"https://colab.research.google.com/github/AFBA1993/DeepLearningTutorials/blob/main/RNNLSTM/petr4_recorrente_um_valor.ipynb\" target=\"_parent\"><img src=\"https://colab.research.google.com/assets/colab-badge.svg\" alt=\"Open In Colab\"/></a>"
      ]
    },
    {
      "cell_type": "code",
      "execution_count": 28,
      "metadata": {
        "id": "26xVjLL9J3LC"
      },
      "outputs": [],
      "source": [
        "from keras.models import Sequential\n",
        "from keras.layers import Dense, LSTM, Dropout\n",
        "from sklearn.preprocessing import MinMaxScaler\n",
        "import numpy as np\n",
        "import pandas as pd\n",
        "import matplotlib.pyplot as plt"
      ]
    },
    {
      "cell_type": "code",
      "source": [
        "base = pd.read_csv('/content/drive/MyDrive/UdemyDeepCSVs/petr4_treinamento.csv')\n",
        "base = base.dropna()\n",
        "base_treinamento = base.iloc[:, 1:2].values"
      ],
      "metadata": {
        "id": "5UJpYMs9KIwG"
      },
      "execution_count": 2,
      "outputs": []
    },
    {
      "cell_type": "code",
      "source": [
        "normalizador = MinMaxScaler(feature_range = (0,1))\n",
        "base_treinamento_norm = normalizador.fit_transform(base_treinamento)"
      ],
      "metadata": {
        "id": "NouB9JMrLLp7"
      },
      "execution_count": 3,
      "outputs": []
    },
    {
      "cell_type": "code",
      "source": [
        "previsores = []\n",
        "preco_real = []"
      ],
      "metadata": {
        "id": "rU2ks88vM-GT"
      },
      "execution_count": 4,
      "outputs": []
    },
    {
      "cell_type": "code",
      "source": [
        "for i in range(90, 1242):\n",
        "  previsores.append(base_treinamento_norm[i-90:i,0])\n",
        "  preco_real.append(base_treinamento_norm[i, 0])"
      ],
      "metadata": {
        "id": "v11pb7vMNRct"
      },
      "execution_count": 5,
      "outputs": []
    },
    {
      "cell_type": "code",
      "source": [
        "previsores, preco_real = np.array(previsores), np.array(preco_real)"
      ],
      "metadata": {
        "id": "MtooqKLEOdD5"
      },
      "execution_count": 6,
      "outputs": []
    },
    {
      "cell_type": "code",
      "source": [
        "previsores = np.reshape(previsores, (previsores.shape[0],\n",
        "                                     previsores.shape[1], 1))"
      ],
      "metadata": {
        "id": "NOwtwP3vPWMX"
      },
      "execution_count": 7,
      "outputs": []
    },
    {
      "cell_type": "code",
      "source": [
        "regressor = Sequential()\n",
        "regressor.add(LSTM(units = 100, return_sequences = True, \n",
        "                   input_shape = (previsores.shape[1], 1)))\n",
        "regressor.add(Dropout(0.3))"
      ],
      "metadata": {
        "id": "Ds-U1t-RPzCm"
      },
      "execution_count": 8,
      "outputs": []
    },
    {
      "cell_type": "code",
      "source": [
        "regressor.add(LSTM(units = 50, return_sequences = True))\n",
        "regressor.add(Dropout(0.3))"
      ],
      "metadata": {
        "id": "3xWicR_jQq43"
      },
      "execution_count": 9,
      "outputs": []
    },
    {
      "cell_type": "code",
      "source": [
        "regressor.add(LSTM(units = 50, return_sequences = True))\n",
        "regressor.add(Dropout(0.3))"
      ],
      "metadata": {
        "id": "3YYohw0xREK5"
      },
      "execution_count": 10,
      "outputs": []
    },
    {
      "cell_type": "code",
      "source": [
        "regressor.add(LSTM(units = 50))\n",
        "regressor.add(Dropout(0.3))"
      ],
      "metadata": {
        "id": "NIily6PvRG41"
      },
      "execution_count": 11,
      "outputs": []
    },
    {
      "cell_type": "code",
      "source": [
        "regressor.add(Dense(units = 1, activation = 'linear'))"
      ],
      "metadata": {
        "id": "XKssx9xTRIxM"
      },
      "execution_count": 12,
      "outputs": []
    },
    {
      "cell_type": "code",
      "source": [
        "regressor.compile(optimizer = 'rmsprop', loss = 'mse',\n",
        "                  metrics = ['mae'])"
      ],
      "metadata": {
        "id": "NxgcY3RTRmRY"
      },
      "execution_count": 13,
      "outputs": []
    },
    {
      "cell_type": "code",
      "source": [
        "regressor.fit(previsores, preco_real, epochs = 100,\n",
        "              batch_size = 32)"
      ],
      "metadata": {
        "colab": {
          "base_uri": "https://localhost:8080/"
        },
        "id": "JnQO8ZwCR5gG",
        "outputId": "41608fbc-38e6-44d9-b919-2f9d387d814b"
      },
      "execution_count": 14,
      "outputs": [
        {
          "output_type": "stream",
          "name": "stdout",
          "text": [
            "Epoch 1/100\n",
            "36/36 [==============================] - 14s 191ms/step - loss: 0.0358 - mae: 0.1325\n",
            "Epoch 2/100\n",
            "36/36 [==============================] - 7s 187ms/step - loss: 0.0170 - mae: 0.1029\n",
            "Epoch 3/100\n",
            "36/36 [==============================] - 7s 185ms/step - loss: 0.0128 - mae: 0.0871\n",
            "Epoch 4/100\n",
            "36/36 [==============================] - 7s 193ms/step - loss: 0.0123 - mae: 0.0852\n",
            "Epoch 5/100\n",
            "36/36 [==============================] - 7s 186ms/step - loss: 0.0100 - mae: 0.0773\n",
            "Epoch 6/100\n",
            "36/36 [==============================] - 7s 186ms/step - loss: 0.0084 - mae: 0.0720\n",
            "Epoch 7/100\n",
            "36/36 [==============================] - 7s 185ms/step - loss: 0.0089 - mae: 0.0728\n",
            "Epoch 8/100\n",
            "36/36 [==============================] - 7s 187ms/step - loss: 0.0079 - mae: 0.0686\n",
            "Epoch 9/100\n",
            "36/36 [==============================] - 7s 188ms/step - loss: 0.0082 - mae: 0.0682\n",
            "Epoch 10/100\n",
            "36/36 [==============================] - 7s 193ms/step - loss: 0.0065 - mae: 0.0615\n",
            "Epoch 11/100\n",
            "36/36 [==============================] - 6s 180ms/step - loss: 0.0064 - mae: 0.0604\n",
            "Epoch 12/100\n",
            "36/36 [==============================] - 7s 188ms/step - loss: 0.0060 - mae: 0.0595\n",
            "Epoch 13/100\n",
            "36/36 [==============================] - 7s 182ms/step - loss: 0.0057 - mae: 0.0585\n",
            "Epoch 14/100\n",
            "36/36 [==============================] - 7s 185ms/step - loss: 0.0055 - mae: 0.0558\n",
            "Epoch 15/100\n",
            "36/36 [==============================] - 7s 194ms/step - loss: 0.0058 - mae: 0.0580\n",
            "Epoch 16/100\n",
            "36/36 [==============================] - 7s 193ms/step - loss: 0.0049 - mae: 0.0539\n",
            "Epoch 17/100\n",
            "36/36 [==============================] - 7s 193ms/step - loss: 0.0047 - mae: 0.0517\n",
            "Epoch 18/100\n",
            "36/36 [==============================] - 7s 191ms/step - loss: 0.0048 - mae: 0.0529\n",
            "Epoch 19/100\n",
            "36/36 [==============================] - 7s 185ms/step - loss: 0.0047 - mae: 0.0520\n",
            "Epoch 20/100\n",
            "36/36 [==============================] - 7s 188ms/step - loss: 0.0044 - mae: 0.0510\n",
            "Epoch 21/100\n",
            "36/36 [==============================] - 7s 186ms/step - loss: 0.0047 - mae: 0.0512\n",
            "Epoch 22/100\n",
            "36/36 [==============================] - 7s 191ms/step - loss: 0.0036 - mae: 0.0467\n",
            "Epoch 23/100\n",
            "36/36 [==============================] - 6s 178ms/step - loss: 0.0038 - mae: 0.0476\n",
            "Epoch 24/100\n",
            "36/36 [==============================] - 6s 179ms/step - loss: 0.0039 - mae: 0.0471\n",
            "Epoch 25/100\n",
            "36/36 [==============================] - 7s 182ms/step - loss: 0.0036 - mae: 0.0459\n",
            "Epoch 26/100\n",
            "36/36 [==============================] - 7s 181ms/step - loss: 0.0037 - mae: 0.0461\n",
            "Epoch 27/100\n",
            "36/36 [==============================] - 7s 184ms/step - loss: 0.0030 - mae: 0.0423\n",
            "Epoch 28/100\n",
            "36/36 [==============================] - 6s 178ms/step - loss: 0.0032 - mae: 0.0430\n",
            "Epoch 29/100\n",
            "36/36 [==============================] - 6s 179ms/step - loss: 0.0038 - mae: 0.0464\n",
            "Epoch 30/100\n",
            "36/36 [==============================] - 6s 180ms/step - loss: 0.0032 - mae: 0.0438\n",
            "Epoch 31/100\n",
            "36/36 [==============================] - 7s 186ms/step - loss: 0.0031 - mae: 0.0427\n",
            "Epoch 32/100\n",
            "36/36 [==============================] - 6s 180ms/step - loss: 0.0032 - mae: 0.0433\n",
            "Epoch 33/100\n",
            "36/36 [==============================] - 7s 181ms/step - loss: 0.0030 - mae: 0.0419\n",
            "Epoch 34/100\n",
            "36/36 [==============================] - 7s 187ms/step - loss: 0.0030 - mae: 0.0426\n",
            "Epoch 35/100\n",
            "36/36 [==============================] - 7s 190ms/step - loss: 0.0029 - mae: 0.0405\n",
            "Epoch 36/100\n",
            "36/36 [==============================] - 7s 191ms/step - loss: 0.0028 - mae: 0.0406\n",
            "Epoch 37/100\n",
            "36/36 [==============================] - 7s 186ms/step - loss: 0.0027 - mae: 0.0395\n",
            "Epoch 38/100\n",
            "36/36 [==============================] - 7s 187ms/step - loss: 0.0029 - mae: 0.0406\n",
            "Epoch 39/100\n",
            "36/36 [==============================] - 7s 191ms/step - loss: 0.0026 - mae: 0.0388\n",
            "Epoch 40/100\n",
            "36/36 [==============================] - 7s 191ms/step - loss: 0.0028 - mae: 0.0404\n",
            "Epoch 41/100\n",
            "36/36 [==============================] - 7s 189ms/step - loss: 0.0026 - mae: 0.0385\n",
            "Epoch 42/100\n",
            "36/36 [==============================] - 7s 189ms/step - loss: 0.0025 - mae: 0.0384\n",
            "Epoch 43/100\n",
            "36/36 [==============================] - 7s 189ms/step - loss: 0.0024 - mae: 0.0374\n",
            "Epoch 44/100\n",
            "36/36 [==============================] - 7s 192ms/step - loss: 0.0027 - mae: 0.0397\n",
            "Epoch 45/100\n",
            "36/36 [==============================] - 7s 191ms/step - loss: 0.0024 - mae: 0.0370\n",
            "Epoch 46/100\n",
            "36/36 [==============================] - 7s 194ms/step - loss: 0.0024 - mae: 0.0361\n",
            "Epoch 47/100\n",
            "36/36 [==============================] - 7s 189ms/step - loss: 0.0023 - mae: 0.0359\n",
            "Epoch 48/100\n",
            "36/36 [==============================] - 7s 189ms/step - loss: 0.0023 - mae: 0.0371\n",
            "Epoch 49/100\n",
            "36/36 [==============================] - 7s 191ms/step - loss: 0.0024 - mae: 0.0369\n",
            "Epoch 50/100\n",
            "36/36 [==============================] - 7s 191ms/step - loss: 0.0021 - mae: 0.0349\n",
            "Epoch 51/100\n",
            "36/36 [==============================] - 7s 189ms/step - loss: 0.0023 - mae: 0.0365\n",
            "Epoch 52/100\n",
            "36/36 [==============================] - 7s 194ms/step - loss: 0.0023 - mae: 0.0359\n",
            "Epoch 53/100\n",
            "36/36 [==============================] - 7s 189ms/step - loss: 0.0021 - mae: 0.0349\n",
            "Epoch 54/100\n",
            "36/36 [==============================] - 7s 189ms/step - loss: 0.0022 - mae: 0.0356\n",
            "Epoch 55/100\n",
            "36/36 [==============================] - 7s 185ms/step - loss: 0.0018 - mae: 0.0325\n",
            "Epoch 56/100\n",
            "36/36 [==============================] - 7s 182ms/step - loss: 0.0020 - mae: 0.0349\n",
            "Epoch 57/100\n",
            "36/36 [==============================] - 6s 180ms/step - loss: 0.0020 - mae: 0.0347\n",
            "Epoch 58/100\n",
            "36/36 [==============================] - 6s 176ms/step - loss: 0.0021 - mae: 0.0350\n",
            "Epoch 59/100\n",
            "36/36 [==============================] - 7s 190ms/step - loss: 0.0020 - mae: 0.0341\n",
            "Epoch 60/100\n",
            "36/36 [==============================] - 6s 180ms/step - loss: 0.0021 - mae: 0.0350\n",
            "Epoch 61/100\n",
            "36/36 [==============================] - 7s 181ms/step - loss: 0.0020 - mae: 0.0337\n",
            "Epoch 62/100\n",
            "36/36 [==============================] - 7s 185ms/step - loss: 0.0019 - mae: 0.0325\n",
            "Epoch 63/100\n",
            "36/36 [==============================] - 7s 181ms/step - loss: 0.0019 - mae: 0.0321\n",
            "Epoch 64/100\n",
            "36/36 [==============================] - 6s 180ms/step - loss: 0.0018 - mae: 0.0323\n",
            "Epoch 65/100\n",
            "36/36 [==============================] - 6s 179ms/step - loss: 0.0021 - mae: 0.0346\n",
            "Epoch 66/100\n",
            "36/36 [==============================] - 7s 184ms/step - loss: 0.0019 - mae: 0.0324\n",
            "Epoch 67/100\n",
            "36/36 [==============================] - 7s 190ms/step - loss: 0.0018 - mae: 0.0323\n",
            "Epoch 68/100\n",
            "36/36 [==============================] - 7s 187ms/step - loss: 0.0019 - mae: 0.0337\n",
            "Epoch 69/100\n",
            "36/36 [==============================] - 7s 185ms/step - loss: 0.0018 - mae: 0.0318\n",
            "Epoch 70/100\n",
            "36/36 [==============================] - 7s 185ms/step - loss: 0.0019 - mae: 0.0320\n",
            "Epoch 71/100\n",
            "36/36 [==============================] - 7s 193ms/step - loss: 0.0019 - mae: 0.0326\n",
            "Epoch 72/100\n",
            "36/36 [==============================] - 7s 189ms/step - loss: 0.0018 - mae: 0.0320\n",
            "Epoch 73/100\n",
            "36/36 [==============================] - 7s 184ms/step - loss: 0.0018 - mae: 0.0319\n",
            "Epoch 74/100\n",
            "36/36 [==============================] - 7s 190ms/step - loss: 0.0018 - mae: 0.0314\n",
            "Epoch 75/100\n",
            "36/36 [==============================] - 7s 187ms/step - loss: 0.0018 - mae: 0.0309\n",
            "Epoch 76/100\n",
            "36/36 [==============================] - 7s 190ms/step - loss: 0.0018 - mae: 0.0317\n",
            "Epoch 77/100\n",
            "36/36 [==============================] - 7s 188ms/step - loss: 0.0017 - mae: 0.0312\n",
            "Epoch 78/100\n",
            "36/36 [==============================] - 7s 190ms/step - loss: 0.0019 - mae: 0.0324\n",
            "Epoch 79/100\n",
            "36/36 [==============================] - 7s 189ms/step - loss: 0.0016 - mae: 0.0299\n",
            "Epoch 80/100\n",
            "36/36 [==============================] - 7s 195ms/step - loss: 0.0018 - mae: 0.0321\n",
            "Epoch 81/100\n",
            "36/36 [==============================] - 6s 177ms/step - loss: 0.0019 - mae: 0.0327\n",
            "Epoch 82/100\n",
            "36/36 [==============================] - 7s 184ms/step - loss: 0.0018 - mae: 0.0315\n",
            "Epoch 83/100\n",
            "36/36 [==============================] - 7s 183ms/step - loss: 0.0018 - mae: 0.0317\n",
            "Epoch 84/100\n",
            "36/36 [==============================] - 7s 188ms/step - loss: 0.0016 - mae: 0.0302\n",
            "Epoch 85/100\n",
            "36/36 [==============================] - 7s 191ms/step - loss: 0.0016 - mae: 0.0296\n",
            "Epoch 86/100\n",
            "36/36 [==============================] - 7s 188ms/step - loss: 0.0017 - mae: 0.0306\n",
            "Epoch 87/100\n",
            "36/36 [==============================] - 7s 192ms/step - loss: 0.0016 - mae: 0.0307\n",
            "Epoch 88/100\n",
            "36/36 [==============================] - 7s 193ms/step - loss: 0.0017 - mae: 0.0302\n",
            "Epoch 89/100\n",
            "36/36 [==============================] - 7s 193ms/step - loss: 0.0016 - mae: 0.0300\n",
            "Epoch 90/100\n",
            "36/36 [==============================] - 7s 192ms/step - loss: 0.0015 - mae: 0.0292\n",
            "Epoch 91/100\n",
            "36/36 [==============================] - 7s 190ms/step - loss: 0.0015 - mae: 0.0293\n",
            "Epoch 92/100\n",
            "36/36 [==============================] - 7s 191ms/step - loss: 0.0015 - mae: 0.0291\n",
            "Epoch 93/100\n",
            "36/36 [==============================] - 7s 187ms/step - loss: 0.0017 - mae: 0.0308\n",
            "Epoch 94/100\n",
            "36/36 [==============================] - 7s 181ms/step - loss: 0.0015 - mae: 0.0286\n",
            "Epoch 95/100\n",
            "36/36 [==============================] - 6s 176ms/step - loss: 0.0015 - mae: 0.0290\n",
            "Epoch 96/100\n",
            "36/36 [==============================] - 7s 189ms/step - loss: 0.0015 - mae: 0.0289\n",
            "Epoch 97/100\n",
            "36/36 [==============================] - 7s 187ms/step - loss: 0.0015 - mae: 0.0303\n",
            "Epoch 98/100\n",
            "36/36 [==============================] - 7s 191ms/step - loss: 0.0016 - mae: 0.0287\n",
            "Epoch 99/100\n",
            "36/36 [==============================] - 7s 190ms/step - loss: 0.0014 - mae: 0.0285\n",
            "Epoch 100/100\n",
            "36/36 [==============================] - 7s 184ms/step - loss: 0.0015 - mae: 0.0292\n"
          ]
        },
        {
          "output_type": "execute_result",
          "data": {
            "text/plain": [
              "<keras.callbacks.History at 0x7fb74e1d0c50>"
            ]
          },
          "metadata": {},
          "execution_count": 14
        }
      ]
    },
    {
      "cell_type": "code",
      "source": [
        "base_teste =  pd.read_csv('/content/drive/MyDrive/UdemyDeepCSVs/petr4_teste.csv')"
      ],
      "metadata": {
        "id": "G2kkXxKFVfyP"
      },
      "execution_count": 15,
      "outputs": []
    },
    {
      "cell_type": "code",
      "source": [
        "base_completa = pd.concat((base['Open'],base_teste['Open']), axis = 0)"
      ],
      "metadata": {
        "id": "S-NsYUCOZgPQ"
      },
      "execution_count": 16,
      "outputs": []
    },
    {
      "cell_type": "code",
      "source": [
        "entradas = base_completa[len(base_completa)-len(base_teste)-90:].values"
      ],
      "metadata": {
        "id": "8D4XShTJaAJh"
      },
      "execution_count": 17,
      "outputs": []
    },
    {
      "cell_type": "code",
      "source": [
        "entradas = entradas.reshape(-1, 1)"
      ],
      "metadata": {
        "id": "NphEBolza1jS"
      },
      "execution_count": 18,
      "outputs": []
    },
    {
      "cell_type": "code",
      "source": [
        "entradas = normalizador.transform(entradas)"
      ],
      "metadata": {
        "id": "n49SC2WIbEHm"
      },
      "execution_count": 19,
      "outputs": []
    },
    {
      "cell_type": "code",
      "source": [
        "X_teste = []\n",
        "for i in range(90,112):\n",
        "  X_teste.append(entradas[i-90:i,0])\n",
        "X_teste = np.array(X_teste)\n",
        "X_teste = np.reshape(X_teste, (X_teste.shape[0], X_teste.shape[1],1))"
      ],
      "metadata": {
        "id": "lbkxqwhPbXyD"
      },
      "execution_count": 20,
      "outputs": []
    },
    {
      "cell_type": "code",
      "source": [
        "previsoes = regressor.predict(X_teste)"
      ],
      "metadata": {
        "id": "vPqlh4E_cjsX"
      },
      "execution_count": 21,
      "outputs": []
    },
    {
      "cell_type": "code",
      "source": [
        "previsoes = normalizador.inverse_transform(previsoes)"
      ],
      "metadata": {
        "id": "L_fv62SFcysS"
      },
      "execution_count": 22,
      "outputs": []
    },
    {
      "cell_type": "code",
      "source": [
        "previsoes.mean()"
      ],
      "metadata": {
        "colab": {
          "base_uri": "https://localhost:8080/"
        },
        "id": "_KKBZAkfc_0V",
        "outputId": "bc2f7ed7-4feb-487c-fb95-15d6149fc6eb"
      },
      "execution_count": 23,
      "outputs": [
        {
          "output_type": "execute_result",
          "data": {
            "text/plain": [
              "18.096636"
            ]
          },
          "metadata": {},
          "execution_count": 23
        }
      ]
    },
    {
      "cell_type": "code",
      "source": [
        "preco_real_teste = base_teste.iloc[:, 1:2].values"
      ],
      "metadata": {
        "id": "0G58LLT8dGF3"
      },
      "execution_count": 24,
      "outputs": []
    },
    {
      "cell_type": "code",
      "source": [
        "preco_real_teste.mean()"
      ],
      "metadata": {
        "colab": {
          "base_uri": "https://localhost:8080/"
        },
        "id": "aabL9ooudUMQ",
        "outputId": "e2f0f4f0-f35d-4945-96ff-c5a5eec1de70"
      },
      "execution_count": 25,
      "outputs": [
        {
          "output_type": "execute_result",
          "data": {
            "text/plain": [
              "17.87454563636364"
            ]
          },
          "metadata": {},
          "execution_count": 25
        }
      ]
    },
    {
      "cell_type": "code",
      "source": [
        "plt.plot(preco_real_teste, color = 'red', label = 'Preço real')\n",
        "plt.plot(previsoes, color = 'blue', label = 'Previsões')\n",
        "plt.xlabel('Tempo')\n",
        "plt.ylabel('Valor Yahoo')\n",
        "plt.legend()\n",
        "plt.show()"
      ],
      "metadata": {
        "colab": {
          "base_uri": "https://localhost:8080/",
          "height": 279
        },
        "id": "FDmNMIOR4UC_",
        "outputId": "83b6c935-d4fe-4692-dbbb-70bd00341c23"
      },
      "execution_count": 31,
      "outputs": [
        {
          "output_type": "display_data",
          "data": {
            "image/png": "[encoded data removed]",
            "text/plain": [
              "<Figure size 432x288 with 1 Axes>"
            ]
          },
          "metadata": {
            "needs_background": "light"
          }
        }
      ]
    }
  ]
}