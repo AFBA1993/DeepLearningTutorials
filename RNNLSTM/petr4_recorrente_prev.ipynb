{
  "nbformat": 4,
  "nbformat_minor": 0,
  "metadata": {
    "colab": {
      "name": "petr4_recorrente_prev.ipynb",
      "provenance": [],
      "mount_file_id": "1UXnQKGiX8IUcI9E7kvXmraDKwDTz4Xpq",
      "authorship_tag": "ABX9TyOzp98OxG0Ngx6iUy9jN0Ps",
      "include_colab_link": true
    },
    "kernelspec": {
      "name": "python3",
      "display_name": "Python 3"
    },
    "language_info": {
      "name": "python"
    }
  },
  "cells": [
    {
      "cell_type": "markdown",
      "metadata": {
        "id": "view-in-github",
        "colab_type": "text"
      },
      "source": [
        "<a href=\"https://colab.research.google.com/github/AFBA1993/DeepLearningTutorials/blob/main/RNNLSTM/petr4_recorrente_prev.ipynb\" target=\"_parent\"><img src=\"https://colab.research.google.com/assets/colab-badge.svg\" alt=\"Open In Colab\"/></a>"
      ]
    },
    {
      "cell_type": "code",
      "execution_count": 1,
      "metadata": {
        "id": "tiohEo5I5rui"
      },
      "outputs": [],
      "source": [
        "from keras.models import Sequential\n",
        "from keras.layers import Dense, Dropout, LSTM\n",
        "from sklearn.preprocessing import MinMaxScaler\n",
        "import numpy as np\n",
        "import pandas as pd\n",
        "import matplotlib.pyplot as plt\n",
        "from keras.callbacks import EarlyStopping, ReduceLROnPlateau, ModelCheckpoint"
      ]
    },
    {
      "cell_type": "code",
      "source": [
        "base = pd.read_csv('/content/drive/MyDrive/UdemyDeepCSVs/petr4_treinamento.csv')\n",
        "base = base.dropna()\n",
        "base_treinamento = base.iloc[:, 1:7].values"
      ],
      "metadata": {
        "id": "JHAFSkCH54kV"
      },
      "execution_count": 2,
      "outputs": []
    },
    {
      "cell_type": "code",
      "source": [
        "normalizador = MinMaxScaler(feature_range=(0,1))\n",
        "base_treinamento_normalizada = normalizador.fit_transform(base_treinamento)"
      ],
      "metadata": {
        "id": "ObhXci-O6P65"
      },
      "execution_count": 5,
      "outputs": []
    },
    {
      "cell_type": "code",
      "source": [
        "normalizador_previsao = MinMaxScaler(feature_range=(0,1))\n",
        "normalizador_previsao.fit_transform(base_treinamento[:,0:1])"
      ],
      "metadata": {
        "colab": {
          "base_uri": "https://localhost:8080/"
        },
        "id": "6Au3286h5_38",
        "outputId": "f055653a-b55b-4bca-9502-2f1e82e47df5"
      },
      "execution_count": 3,
      "outputs": [
        {
          "output_type": "execute_result",
          "data": {
            "text/plain": [
              "array([[0.76501938],\n",
              "       [0.7562984 ],\n",
              "       [0.78149225],\n",
              "       ...,\n",
              "       [0.57122093],\n",
              "       [0.57655039],\n",
              "       [0.57655039]])"
            ]
          },
          "metadata": {},
          "execution_count": 3
        }
      ]
    },
    {
      "cell_type": "code",
      "source": [
        "previsores = []\n",
        "preco_real = []\n",
        "for i in range(90, 1242):\n",
        "    previsores.append(base_treinamento_normalizada[i-90:i, 0:6])\n",
        "    preco_real.append(base_treinamento_normalizada[i, 0])\n",
        "previsores, preco_real = np.array(previsores), np.array(preco_real)"
      ],
      "metadata": {
        "id": "B_j6yoQy6DeF"
      },
      "execution_count": 6,
      "outputs": []
    },
    {
      "cell_type": "code",
      "source": [
        "regressor = Sequential()\n",
        "regressor.add(LSTM(units = 100, return_sequences = True, input_shape = (previsores.shape[1], 6)))\n",
        "regressor.add(Dropout(0.3))\n",
        "\n",
        "regressor.add(LSTM(units = 50, return_sequences = True))\n",
        "regressor.add(Dropout(0.3))\n",
        "\n",
        "regressor.add(LSTM(units = 50, return_sequences = True))\n",
        "regressor.add(Dropout(0.3))\n",
        "\n",
        "regressor.add(LSTM(units = 50))\n",
        "regressor.add(Dropout(0.3))\n",
        "\n",
        "regressor.add(Dense(units = 1, activation = 'sigmoid'))\n",
        "\n",
        "regressor.compile(optimizer = 'adam', loss = 'mean_squared_error',\n",
        "                  metrics = ['mean_absolute_error'])"
      ],
      "metadata": {
        "id": "nqIlGWfW6VfG"
      },
      "execution_count": 7,
      "outputs": []
    },
    {
      "cell_type": "code",
      "source": [
        "es = EarlyStopping(monitor = 'loss', min_delta = 1e-10, patience = 10, verbose = 1)\n",
        "rlr = ReduceLROnPlateau(monitor = 'loss', factor = 0.2, patience = 5, verbose = 1)\n",
        "mcp = ModelCheckpoint(filepath = 'pesos.h5', monitor = 'loss', \n",
        "                      save_best_only = True, verbose = 1)\n",
        "regressor.fit(previsores, preco_real, epochs = 100, batch_size = 32,\n",
        "              callbacks = [es, rlr, mcp])"
      ],
      "metadata": {
        "colab": {
          "base_uri": "https://localhost:8080/"
        },
        "id": "tRNGxBI26YAp",
        "outputId": "bdcb5620-0717-4e83-9859-a2402f9f40bc"
      },
      "execution_count": 8,
      "outputs": [
        {
          "output_type": "stream",
          "name": "stdout",
          "text": [
            "Epoch 1/100\n",
            "36/36 [==============================] - ETA: 0s - loss: 0.0172 - mean_absolute_error: 0.0989\n",
            "Epoch 00001: loss improved from inf to 0.01723, saving model to pesos.h5\n",
            "36/36 [==============================] - 12s 174ms/step - loss: 0.0172 - mean_absolute_error: 0.0989 - lr: 0.0010\n",
            "Epoch 2/100\n",
            "36/36 [==============================] - ETA: 0s - loss: 0.0059 - mean_absolute_error: 0.0596\n",
            "Epoch 00002: loss improved from 0.01723 to 0.00590, saving model to pesos.h5\n",
            "36/36 [==============================] - 6s 168ms/step - loss: 0.0059 - mean_absolute_error: 0.0596 - lr: 0.0010\n",
            "Epoch 3/100\n",
            "36/36 [==============================] - ETA: 0s - loss: 0.0042 - mean_absolute_error: 0.0497\n",
            "Epoch 00003: loss improved from 0.00590 to 0.00416, saving model to pesos.h5\n",
            "36/36 [==============================] - 6s 169ms/step - loss: 0.0042 - mean_absolute_error: 0.0497 - lr: 0.0010\n",
            "Epoch 4/100\n",
            "36/36 [==============================] - ETA: 0s - loss: 0.0041 - mean_absolute_error: 0.0487\n",
            "Epoch 00004: loss improved from 0.00416 to 0.00405, saving model to pesos.h5\n",
            "36/36 [==============================] - 6s 169ms/step - loss: 0.0041 - mean_absolute_error: 0.0487 - lr: 0.0010\n",
            "Epoch 5/100\n",
            "36/36 [==============================] - ETA: 0s - loss: 0.0038 - mean_absolute_error: 0.0477\n",
            "Epoch 00005: loss improved from 0.00405 to 0.00377, saving model to pesos.h5\n",
            "36/36 [==============================] - 6s 169ms/step - loss: 0.0038 - mean_absolute_error: 0.0477 - lr: 0.0010\n",
            "Epoch 6/100\n",
            "36/36 [==============================] - ETA: 0s - loss: 0.0034 - mean_absolute_error: 0.0449\n",
            "Epoch 00006: loss improved from 0.00377 to 0.00342, saving model to pesos.h5\n",
            "36/36 [==============================] - 6s 166ms/step - loss: 0.0034 - mean_absolute_error: 0.0449 - lr: 0.0010\n",
            "Epoch 7/100\n",
            "36/36 [==============================] - ETA: 0s - loss: 0.0033 - mean_absolute_error: 0.0446\n",
            "Epoch 00007: loss improved from 0.00342 to 0.00332, saving model to pesos.h5\n",
            "36/36 [==============================] - 6s 168ms/step - loss: 0.0033 - mean_absolute_error: 0.0446 - lr: 0.0010\n",
            "Epoch 8/100\n",
            "36/36 [==============================] - ETA: 0s - loss: 0.0029 - mean_absolute_error: 0.0413\n",
            "Epoch 00008: loss improved from 0.00332 to 0.00291, saving model to pesos.h5\n",
            "36/36 [==============================] - 6s 170ms/step - loss: 0.0029 - mean_absolute_error: 0.0413 - lr: 0.0010\n",
            "Epoch 9/100\n",
            "36/36 [==============================] - ETA: 0s - loss: 0.0027 - mean_absolute_error: 0.0398\n",
            "Epoch 00009: loss improved from 0.00291 to 0.00269, saving model to pesos.h5\n",
            "36/36 [==============================] - 6s 170ms/step - loss: 0.0027 - mean_absolute_error: 0.0398 - lr: 0.0010\n",
            "Epoch 10/100\n",
            "36/36 [==============================] - ETA: 0s - loss: 0.0025 - mean_absolute_error: 0.0383\n",
            "Epoch 00010: loss improved from 0.00269 to 0.00250, saving model to pesos.h5\n",
            "36/36 [==============================] - 6s 171ms/step - loss: 0.0025 - mean_absolute_error: 0.0383 - lr: 0.0010\n",
            "Epoch 11/100\n",
            "36/36 [==============================] - ETA: 0s - loss: 0.0022 - mean_absolute_error: 0.0362\n",
            "Epoch 00011: loss improved from 0.00250 to 0.00221, saving model to pesos.h5\n",
            "36/36 [==============================] - 6s 169ms/step - loss: 0.0022 - mean_absolute_error: 0.0362 - lr: 0.0010\n",
            "Epoch 12/100\n",
            "36/36 [==============================] - ETA: 0s - loss: 0.0022 - mean_absolute_error: 0.0362\n",
            "Epoch 00012: loss improved from 0.00221 to 0.00220, saving model to pesos.h5\n",
            "36/36 [==============================] - 6s 168ms/step - loss: 0.0022 - mean_absolute_error: 0.0362 - lr: 0.0010\n",
            "Epoch 13/100\n",
            "36/36 [==============================] - ETA: 0s - loss: 0.0021 - mean_absolute_error: 0.0347\n",
            "Epoch 00013: loss improved from 0.00220 to 0.00206, saving model to pesos.h5\n",
            "36/36 [==============================] - 6s 170ms/step - loss: 0.0021 - mean_absolute_error: 0.0347 - lr: 0.0010\n",
            "Epoch 14/100\n",
            "36/36 [==============================] - ETA: 0s - loss: 0.0019 - mean_absolute_error: 0.0334\n",
            "Epoch 00014: loss improved from 0.00206 to 0.00191, saving model to pesos.h5\n",
            "36/36 [==============================] - 6s 172ms/step - loss: 0.0019 - mean_absolute_error: 0.0334 - lr: 0.0010\n",
            "Epoch 15/100\n",
            "36/36 [==============================] - ETA: 0s - loss: 0.0020 - mean_absolute_error: 0.0344\n",
            "Epoch 00015: loss did not improve from 0.00191\n",
            "36/36 [==============================] - 6s 167ms/step - loss: 0.0020 - mean_absolute_error: 0.0344 - lr: 0.0010\n",
            "Epoch 16/100\n",
            "36/36 [==============================] - ETA: 0s - loss: 0.0020 - mean_absolute_error: 0.0339\n",
            "Epoch 00016: loss did not improve from 0.00191\n",
            "36/36 [==============================] - 6s 165ms/step - loss: 0.0020 - mean_absolute_error: 0.0339 - lr: 0.0010\n",
            "Epoch 17/100\n",
            "36/36 [==============================] - ETA: 0s - loss: 0.0018 - mean_absolute_error: 0.0322\n",
            "Epoch 00017: loss improved from 0.00191 to 0.00178, saving model to pesos.h5\n",
            "36/36 [==============================] - 6s 167ms/step - loss: 0.0018 - mean_absolute_error: 0.0322 - lr: 0.0010\n",
            "Epoch 18/100\n",
            "36/36 [==============================] - ETA: 0s - loss: 0.0016 - mean_absolute_error: 0.0307\n",
            "Epoch 00018: loss improved from 0.00178 to 0.00165, saving model to pesos.h5\n",
            "36/36 [==============================] - 6s 169ms/step - loss: 0.0016 - mean_absolute_error: 0.0307 - lr: 0.0010\n",
            "Epoch 19/100\n",
            "36/36 [==============================] - ETA: 0s - loss: 0.0016 - mean_absolute_error: 0.0302\n",
            "Epoch 00019: loss improved from 0.00165 to 0.00164, saving model to pesos.h5\n",
            "36/36 [==============================] - 6s 170ms/step - loss: 0.0016 - mean_absolute_error: 0.0302 - lr: 0.0010\n",
            "Epoch 20/100\n",
            "36/36 [==============================] - ETA: 0s - loss: 0.0017 - mean_absolute_error: 0.0319\n",
            "Epoch 00020: loss did not improve from 0.00164\n",
            "36/36 [==============================] - 6s 166ms/step - loss: 0.0017 - mean_absolute_error: 0.0319 - lr: 0.0010\n",
            "Epoch 21/100\n",
            "36/36 [==============================] - ETA: 0s - loss: 0.0017 - mean_absolute_error: 0.0308\n",
            "Epoch 00021: loss did not improve from 0.00164\n",
            "36/36 [==============================] - 6s 168ms/step - loss: 0.0017 - mean_absolute_error: 0.0308 - lr: 0.0010\n",
            "Epoch 22/100\n",
            "36/36 [==============================] - ETA: 0s - loss: 0.0017 - mean_absolute_error: 0.0314\n",
            "Epoch 00022: loss did not improve from 0.00164\n",
            "36/36 [==============================] - 6s 166ms/step - loss: 0.0017 - mean_absolute_error: 0.0314 - lr: 0.0010\n",
            "Epoch 23/100\n",
            "36/36 [==============================] - ETA: 0s - loss: 0.0015 - mean_absolute_error: 0.0297\n",
            "Epoch 00023: loss improved from 0.00164 to 0.00153, saving model to pesos.h5\n",
            "36/36 [==============================] - 6s 167ms/step - loss: 0.0015 - mean_absolute_error: 0.0297 - lr: 0.0010\n",
            "Epoch 24/100\n",
            "36/36 [==============================] - ETA: 0s - loss: 0.0014 - mean_absolute_error: 0.0287\n",
            "Epoch 00024: loss improved from 0.00153 to 0.00143, saving model to pesos.h5\n",
            "36/36 [==============================] - 6s 169ms/step - loss: 0.0014 - mean_absolute_error: 0.0287 - lr: 0.0010\n",
            "Epoch 25/100\n",
            "36/36 [==============================] - ETA: 0s - loss: 0.0015 - mean_absolute_error: 0.0295\n",
            "Epoch 00025: loss did not improve from 0.00143\n",
            "36/36 [==============================] - 6s 165ms/step - loss: 0.0015 - mean_absolute_error: 0.0295 - lr: 0.0010\n",
            "Epoch 26/100\n",
            "36/36 [==============================] - ETA: 0s - loss: 0.0015 - mean_absolute_error: 0.0294\n",
            "Epoch 00026: loss did not improve from 0.00143\n",
            "36/36 [==============================] - 6s 169ms/step - loss: 0.0015 - mean_absolute_error: 0.0294 - lr: 0.0010\n",
            "Epoch 27/100\n",
            "36/36 [==============================] - ETA: 0s - loss: 0.0014 - mean_absolute_error: 0.0287\n",
            "Epoch 00027: loss improved from 0.00143 to 0.00143, saving model to pesos.h5\n",
            "36/36 [==============================] - 6s 170ms/step - loss: 0.0014 - mean_absolute_error: 0.0287 - lr: 0.0010\n",
            "Epoch 28/100\n",
            "36/36 [==============================] - ETA: 0s - loss: 0.0016 - mean_absolute_error: 0.0304\n",
            "Epoch 00028: loss did not improve from 0.00143\n",
            "36/36 [==============================] - 6s 169ms/step - loss: 0.0016 - mean_absolute_error: 0.0304 - lr: 0.0010\n",
            "Epoch 29/100\n",
            "36/36 [==============================] - ETA: 0s - loss: 0.0016 - mean_absolute_error: 0.0298\n",
            "Epoch 00029: ReduceLROnPlateau reducing learning rate to 0.00020000000949949026.\n",
            "\n",
            "Epoch 00029: loss did not improve from 0.00143\n",
            "36/36 [==============================] - 6s 169ms/step - loss: 0.0016 - mean_absolute_error: 0.0298 - lr: 0.0010\n",
            "Epoch 30/100\n",
            "36/36 [==============================] - ETA: 0s - loss: 0.0013 - mean_absolute_error: 0.0267\n",
            "Epoch 00030: loss improved from 0.00143 to 0.00132, saving model to pesos.h5\n",
            "36/36 [==============================] - 6s 166ms/step - loss: 0.0013 - mean_absolute_error: 0.0267 - lr: 2.0000e-04\n",
            "Epoch 31/100\n",
            "36/36 [==============================] - ETA: 0s - loss: 0.0012 - mean_absolute_error: 0.0260\n",
            "Epoch 00031: loss improved from 0.00132 to 0.00124, saving model to pesos.h5\n",
            "36/36 [==============================] - 6s 170ms/step - loss: 0.0012 - mean_absolute_error: 0.0260 - lr: 2.0000e-04\n",
            "Epoch 32/100\n",
            "36/36 [==============================] - ETA: 0s - loss: 0.0013 - mean_absolute_error: 0.0269\n",
            "Epoch 00032: loss did not improve from 0.00124\n",
            "36/36 [==============================] - 6s 166ms/step - loss: 0.0013 - mean_absolute_error: 0.0269 - lr: 2.0000e-04\n",
            "Epoch 33/100\n",
            "36/36 [==============================] - ETA: 0s - loss: 0.0013 - mean_absolute_error: 0.0272\n",
            "Epoch 00033: loss did not improve from 0.00124\n",
            "36/36 [==============================] - 6s 168ms/step - loss: 0.0013 - mean_absolute_error: 0.0272 - lr: 2.0000e-04\n",
            "Epoch 34/100\n",
            "36/36 [==============================] - ETA: 0s - loss: 0.0013 - mean_absolute_error: 0.0262\n",
            "Epoch 00034: loss did not improve from 0.00124\n",
            "36/36 [==============================] - 6s 166ms/step - loss: 0.0013 - mean_absolute_error: 0.0262 - lr: 2.0000e-04\n",
            "Epoch 35/100\n",
            "36/36 [==============================] - ETA: 0s - loss: 0.0012 - mean_absolute_error: 0.0257\n",
            "Epoch 00035: ReduceLROnPlateau reducing learning rate to 4.0000001899898055e-05.\n",
            "\n",
            "Epoch 00035: loss improved from 0.00124 to 0.00123, saving model to pesos.h5\n",
            "36/36 [==============================] - 6s 168ms/step - loss: 0.0012 - mean_absolute_error: 0.0257 - lr: 2.0000e-04\n",
            "Epoch 36/100\n",
            "36/36 [==============================] - ETA: 0s - loss: 0.0013 - mean_absolute_error: 0.0260\n",
            "Epoch 00036: loss did not improve from 0.00123\n",
            "36/36 [==============================] - 6s 167ms/step - loss: 0.0013 - mean_absolute_error: 0.0260 - lr: 4.0000e-05\n",
            "Epoch 37/100\n",
            "36/36 [==============================] - ETA: 0s - loss: 0.0011 - mean_absolute_error: 0.0251\n",
            "Epoch 00037: loss improved from 0.00123 to 0.00114, saving model to pesos.h5\n",
            "36/36 [==============================] - 6s 168ms/step - loss: 0.0011 - mean_absolute_error: 0.0251 - lr: 4.0000e-05\n",
            "Epoch 38/100\n",
            "36/36 [==============================] - ETA: 0s - loss: 0.0012 - mean_absolute_error: 0.0257\n",
            "Epoch 00038: loss did not improve from 0.00114\n",
            "36/36 [==============================] - 6s 166ms/step - loss: 0.0012 - mean_absolute_error: 0.0257 - lr: 4.0000e-05\n",
            "Epoch 39/100\n",
            "36/36 [==============================] - ETA: 0s - loss: 0.0012 - mean_absolute_error: 0.0258\n",
            "Epoch 00039: loss did not improve from 0.00114\n",
            "36/36 [==============================] - 6s 169ms/step - loss: 0.0012 - mean_absolute_error: 0.0258 - lr: 4.0000e-05\n",
            "Epoch 40/100\n",
            "36/36 [==============================] - ETA: 0s - loss: 0.0011 - mean_absolute_error: 0.0251\n",
            "Epoch 00040: loss did not improve from 0.00114\n",
            "36/36 [==============================] - 6s 168ms/step - loss: 0.0011 - mean_absolute_error: 0.0251 - lr: 4.0000e-05\n",
            "Epoch 41/100\n",
            "36/36 [==============================] - ETA: 0s - loss: 0.0012 - mean_absolute_error: 0.0255\n",
            "Epoch 00041: loss did not improve from 0.00114\n",
            "36/36 [==============================] - 6s 167ms/step - loss: 0.0012 - mean_absolute_error: 0.0255 - lr: 4.0000e-05\n",
            "Epoch 42/100\n",
            "36/36 [==============================] - ETA: 0s - loss: 0.0012 - mean_absolute_error: 0.0256\n",
            "Epoch 00042: ReduceLROnPlateau reducing learning rate to 8.000000525498762e-06.\n",
            "\n",
            "Epoch 00042: loss did not improve from 0.00114\n",
            "36/36 [==============================] - 6s 170ms/step - loss: 0.0012 - mean_absolute_error: 0.0256 - lr: 4.0000e-05\n",
            "Epoch 43/100\n",
            "36/36 [==============================] - ETA: 0s - loss: 0.0012 - mean_absolute_error: 0.0259\n",
            "Epoch 00043: loss did not improve from 0.00114\n",
            "36/36 [==============================] - 6s 166ms/step - loss: 0.0012 - mean_absolute_error: 0.0259 - lr: 8.0000e-06\n",
            "Epoch 44/100\n",
            "36/36 [==============================] - ETA: 0s - loss: 0.0012 - mean_absolute_error: 0.0256\n",
            "Epoch 00044: loss did not improve from 0.00114\n",
            "36/36 [==============================] - 6s 169ms/step - loss: 0.0012 - mean_absolute_error: 0.0256 - lr: 8.0000e-06\n",
            "Epoch 45/100\n",
            "36/36 [==============================] - ETA: 0s - loss: 0.0011 - mean_absolute_error: 0.0251\n",
            "Epoch 00045: loss improved from 0.00114 to 0.00112, saving model to pesos.h5\n",
            "36/36 [==============================] - 6s 169ms/step - loss: 0.0011 - mean_absolute_error: 0.0251 - lr: 8.0000e-06\n",
            "Epoch 46/100\n",
            "36/36 [==============================] - ETA: 0s - loss: 0.0011 - mean_absolute_error: 0.0244\n",
            "Epoch 00046: loss did not improve from 0.00112\n",
            "36/36 [==============================] - 6s 168ms/step - loss: 0.0011 - mean_absolute_error: 0.0244 - lr: 8.0000e-06\n",
            "Epoch 47/100\n",
            "36/36 [==============================] - ETA: 0s - loss: 0.0012 - mean_absolute_error: 0.0253\n",
            "Epoch 00047: ReduceLROnPlateau reducing learning rate to 1.6000001778593287e-06.\n",
            "\n",
            "Epoch 00047: loss did not improve from 0.00112\n",
            "36/36 [==============================] - 6s 168ms/step - loss: 0.0012 - mean_absolute_error: 0.0253 - lr: 8.0000e-06\n",
            "Epoch 48/100\n",
            "36/36 [==============================] - ETA: 0s - loss: 0.0012 - mean_absolute_error: 0.0258\n",
            "Epoch 00048: loss did not improve from 0.00112\n",
            "36/36 [==============================] - 6s 167ms/step - loss: 0.0012 - mean_absolute_error: 0.0258 - lr: 1.6000e-06\n",
            "Epoch 49/100\n",
            "36/36 [==============================] - ETA: 0s - loss: 0.0012 - mean_absolute_error: 0.0257\n",
            "Epoch 00049: loss did not improve from 0.00112\n",
            "36/36 [==============================] - 6s 169ms/step - loss: 0.0012 - mean_absolute_error: 0.0257 - lr: 1.6000e-06\n",
            "Epoch 50/100\n",
            "36/36 [==============================] - ETA: 0s - loss: 0.0012 - mean_absolute_error: 0.0253\n",
            "Epoch 00050: loss did not improve from 0.00112\n",
            "36/36 [==============================] - 6s 169ms/step - loss: 0.0012 - mean_absolute_error: 0.0253 - lr: 1.6000e-06\n",
            "Epoch 51/100\n",
            "36/36 [==============================] - ETA: 0s - loss: 0.0012 - mean_absolute_error: 0.0252\n",
            "Epoch 00051: loss did not improve from 0.00112\n",
            "36/36 [==============================] - 6s 170ms/step - loss: 0.0012 - mean_absolute_error: 0.0252 - lr: 1.6000e-06\n",
            "Epoch 52/100\n",
            "36/36 [==============================] - ETA: 0s - loss: 0.0012 - mean_absolute_error: 0.0262\n",
            "Epoch 00052: ReduceLROnPlateau reducing learning rate to 3.200000264769187e-07.\n",
            "\n",
            "Epoch 00052: loss did not improve from 0.00112\n",
            "36/36 [==============================] - 6s 170ms/step - loss: 0.0012 - mean_absolute_error: 0.0262 - lr: 1.6000e-06\n",
            "Epoch 53/100\n",
            "36/36 [==============================] - ETA: 0s - loss: 0.0011 - mean_absolute_error: 0.0252\n",
            "Epoch 00053: loss did not improve from 0.00112\n",
            "36/36 [==============================] - 6s 172ms/step - loss: 0.0011 - mean_absolute_error: 0.0252 - lr: 3.2000e-07\n",
            "Epoch 54/100\n",
            "36/36 [==============================] - ETA: 0s - loss: 0.0012 - mean_absolute_error: 0.0258\n",
            "Epoch 00054: loss did not improve from 0.00112\n",
            "36/36 [==============================] - 6s 170ms/step - loss: 0.0012 - mean_absolute_error: 0.0258 - lr: 3.2000e-07\n",
            "Epoch 55/100\n",
            "36/36 [==============================] - ETA: 0s - loss: 0.0012 - mean_absolute_error: 0.0259\n",
            "Epoch 00055: loss did not improve from 0.00112\n",
            "36/36 [==============================] - 6s 169ms/step - loss: 0.0012 - mean_absolute_error: 0.0259 - lr: 3.2000e-07\n",
            "Epoch 00055: early stopping\n"
          ]
        },
        {
          "output_type": "execute_result",
          "data": {
            "text/plain": [
              "<keras.callbacks.History at 0x7fd81a43dd90>"
            ]
          },
          "metadata": {},
          "execution_count": 8
        }
      ]
    },
    {
      "cell_type": "code",
      "source": [
        "base_teste = pd.read_csv('/content/drive/MyDrive/UdemyDeepCSVs/petr4_teste.csv')\n",
        "preco_real_teste = base_teste.iloc[:, 1:2].values\n",
        "frames = [base, base_teste]\n",
        "base_completa = pd.concat(frames)\n",
        "base_completa = base_completa.drop('Date', axis = 1)"
      ],
      "metadata": {
        "id": "r2Iyezb670br"
      },
      "execution_count": 9,
      "outputs": []
    },
    {
      "cell_type": "code",
      "source": [
        "entradas = base_completa[len(base_completa) - len(base_teste) - 90:].values\n",
        "entradas = normalizador.transform(entradas)\n",
        "\n",
        "X_teste = []\n",
        "for i in range(90, 112):\n",
        "    X_teste.append(entradas[i-90:i, 0:6])\n",
        "X_teste = np.array(X_teste)\n"
      ],
      "metadata": {
        "id": "hnRWOAUB8DRT"
      },
      "execution_count": 10,
      "outputs": []
    },
    {
      "cell_type": "code",
      "source": [
        "previsoes = regressor.predict(X_teste)\n",
        "previsoes = normalizador_previsao.inverse_transform(previsoes)"
      ],
      "metadata": {
        "id": "sV2jz_3r8GHX"
      },
      "execution_count": 11,
      "outputs": []
    },
    {
      "cell_type": "code",
      "source": [
        "previsoes.mean()\n",
        "preco_real_teste.mean()"
      ],
      "metadata": {
        "colab": {
          "base_uri": "https://localhost:8080/"
        },
        "id": "hFfgl_n08MIP",
        "outputId": "eacd3439-7295-4201-e648-f91aa900748b"
      },
      "execution_count": 12,
      "outputs": [
        {
          "output_type": "execute_result",
          "data": {
            "text/plain": [
              "17.87454563636364"
            ]
          },
          "metadata": {},
          "execution_count": 12
        }
      ]
    },
    {
      "cell_type": "code",
      "source": [
        "plt.plot(preco_real_teste, color = 'red', label = 'Preço real')\n",
        "plt.plot(previsoes, color = 'blue', label = 'Previsões')\n",
        "plt.title('Previsão preço das ações')\n",
        "plt.xlabel('Tempo')\n",
        "plt.ylabel('Valor Yahoo')\n",
        "plt.legend()\n",
        "plt.show()\n"
      ],
      "metadata": {
        "colab": {
          "base_uri": "https://localhost:8080/",
          "height": 295
        },
        "id": "0EDMnRvy8OaJ",
        "outputId": "5db47923-6063-4452-9849-2f118f9cfee3"
      },
      "execution_count": 13,
      "outputs": [
        {
          "output_type": "display_data",
          "data": {
            "image/png": "[encoded data removed]",
            "text/plain": [
              "<Figure size 432x288 with 1 Axes>"
            ]
          },
          "metadata": {
            "needs_background": "light"
          }
        }
      ]
    }
  ]
}