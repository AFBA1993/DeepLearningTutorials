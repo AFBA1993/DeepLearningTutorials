{
  "nbformat": 4,
  "nbformat_minor": 0,
  "metadata": {
    "colab": {
      "name": "breast_cancer_cruzada.ipynb",
      "provenance": [],
      "mount_file_id": "https://github.com/AFBA1993/DeepLearningTutorials/blob/main/FFNN_BreastCancer/breast_cancer_cruzada.ipynb",
      "authorship_tag": "ABX9TyMDgwIHrmlDjbTemdL41e1o",
      "include_colab_link": true
    },
    "kernelspec": {
      "name": "python3",
      "display_name": "Python 3"
    },
    "language_info": {
      "name": "python"
    }
  },
  "cells": [
    {
      "cell_type": "markdown",
      "metadata": {
        "id": "view-in-github",
        "colab_type": "text"
      },
      "source": [
        "<a href=\"https://colab.research.google.com/github/AFBA1993/DeepLearningTutorials/blob/main/FFNN_BreastCancer/breast_cancer_tuning.ipynb\" target=\"_parent\"><img src=\"https://colab.research.google.com/assets/colab-badge.svg\" alt=\"Open In Colab\"/></a>"
      ]
    },
    {
      "cell_type": "code",
      "execution_count": null,
      "metadata": {
        "id": "IFOr0x-YM7n8"
      },
      "outputs": [],
      "source": [
        "from tensorflow import keras\n",
        "import pandas as pd\n",
        "from keras.models import Sequential\n",
        "from keras.layers import Dense, Dropout\n",
        "from keras.wrappers.scikit_learn import KerasClassifier\n",
        "from sklearn.model_selection import cross_val_score"
      ]
    },
    {
      "cell_type": "code",
      "source": [
        "previsores=pd.read_csv(\"/content/drive/MyDrive/UdemyDeepCSVs/entradas_breast.csv\")\n",
        "classe=pd.read_csv(\"/content/drive/MyDrive/UdemyDeepCSVs/saidas_breast.csv\")"
      ],
      "metadata": {
        "id": "EDK2GiXHNexi"
      },
      "execution_count": null,
      "outputs": []
    },
    {
      "cell_type": "code",
      "source": [
        "def criarRede():\n",
        "  classificador = Sequential()\n",
        "  classificador.add(Dense(units = 16, activation='relu',\n",
        "                        kernel_initializer = \"random_uniform\",\n",
        "                        input_dim = 30))\n",
        "  classificador.add(Dropout(0.2))\n",
        "  classificador.add(Dense(units = 16, activation='relu',\n",
        "                        kernel_initializer = \"random_uniform\"))\n",
        "  classificador.add(Dropout(0.2))\n",
        "  classificador.add(Dense(units = 1, activation = 'sigmoid'))\n",
        "  otimizador = keras.optimizers.Adam(learning_rate = 0.001, decay = 0.0001, \n",
        "                                                            clipvalue = 0.5)\n",
        "\n",
        "  classificador.compile(optimizer = otimizador, loss = 'binary_crossentropy',\n",
        "                      metrics = ['binary_accuracy'])\n",
        "  return classificador"
      ],
      "metadata": {
        "id": "7whqavu5Op65"
      },
      "execution_count": null,
      "outputs": []
    }
  ]
}