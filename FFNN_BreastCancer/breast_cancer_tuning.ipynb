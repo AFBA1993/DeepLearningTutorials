{
  "nbformat": 4,
  "nbformat_minor": 0,
  "metadata": {
    "colab": {
      "name": "breast_cancer_cruzada.ipynb",
      "provenance": [],
      "mount_file_id": "https://github.com/AFBA1993/DeepLearningTutorials/blob/main/FFNN_BreastCancer/breast_cancer_cruzada.ipynb",
      "authorship_tag": "ABX9TyNoJ3cOlsKeDZEg4/5RN2te",
      "include_colab_link": true
    },
    "kernelspec": {
      "name": "python3",
      "display_name": "Python 3"
    },
    "language_info": {
      "name": "python"
    }
  },
  "cells": [
    {
      "cell_type": "markdown",
      "metadata": {
        "id": "view-in-github",
        "colab_type": "text"
      },
      "source": [
        "<a href=\"https://colab.research.google.com/github/AFBA1993/DeepLearningTutorials/blob/main/FFNN_BreastCancer/breast_cancer_tuning.ipynb\" target=\"_parent\"><img src=\"https://colab.research.google.com/assets/colab-badge.svg\" alt=\"Open In Colab\"/></a>"
      ]
    },
    {
      "cell_type": "code",
      "execution_count": 14,
      "metadata": {
        "id": "IFOr0x-YM7n8"
      },
      "outputs": [],
      "source": [
        "from tensorflow import keras\n",
        "import pandas as pd\n",
        "from keras.models import Sequential\n",
        "from keras.layers import Dense, Dropout\n",
        "from keras.wrappers.scikit_learn import KerasClassifier\n",
        "from sklearn.model_selection import cross_val_score"
      ]
    },
    {
      "cell_type": "code",
      "source": [
        "previsores=pd.read_csv(\"/content/drive/MyDrive/UdemyDeepCSVs/entradas_breast.csv\")\n",
        "classe=pd.read_csv(\"/content/drive/MyDrive/UdemyDeepCSVs/saidas_breast.csv\")"
      ],
      "metadata": {
        "id": "EDK2GiXHNexi"
      },
      "execution_count": 3,
      "outputs": []
    },
    {
      "cell_type": "code",
      "source": [
        "def criarRede():\n",
        "  classificador = Sequential()\n",
        "  classificador.add(Dense(units = 16, activation='relu',\n",
        "                        kernel_initializer = \"random_uniform\",\n",
        "                        input_dim = 30))\n",
        "  classificador.add(Dropout(0.2))\n",
        "  classificador.add(Dense(units = 16, activation='relu',\n",
        "                        kernel_initializer = \"random_uniform\"))\n",
        "  classificador.add(Dropout(0.2))\n",
        "  classificador.add(Dense(units = 1, activation = 'sigmoid'))\n",
        "  otimizador = keras.optimizers.Adam(learning_rate = 0.001, decay = 0.0001, \n",
        "                                                            clipvalue = 0.5)\n",
        "\n",
        "  classificador.compile(optimizer = otimizador, loss = 'binary_crossentropy',\n",
        "                      metrics = ['binary_accuracy'])\n",
        "  return classificador"
      ],
      "metadata": {
        "id": "7whqavu5Op65"
      },
      "execution_count": 15,
      "outputs": []
    },
    {
      "cell_type": "code",
      "source": [
        "classificador = KerasClassifier(build_fn= criarRede,\n",
        "                                epochs = 100, \n",
        "                                batch_size = 10)"
      ],
      "metadata": {
        "colab": {
          "base_uri": "https://localhost:8080/"
        },
        "id": "W4d3TKHqPYat",
        "outputId": "30393d11-c008-4482-bebd-6072f351c5f6"
      },
      "execution_count": 16,
      "outputs": [
        {
          "output_type": "stream",
          "name": "stderr",
          "text": [
            "/usr/local/lib/python3.7/dist-packages/ipykernel_launcher.py:3: DeprecationWarning: KerasClassifier is deprecated, use Sci-Keras (https://github.com/adriangb/scikeras) instead.\n",
            "  This is separate from the ipykernel package so we can avoid doing imports until\n"
          ]
        }
      ]
    },
    {
      "cell_type": "code",
      "source": [
        "resultados = cross_val_score(estimator = classificador,\n",
        "                             X = previsores, y = classe,\n",
        "                             cv = 10, scoring = 'accuracy',\n",
        "                                                n_jobs = -1)"
      ],
      "metadata": {
        "id": "yMgQc3L_Pwgf"
      },
      "execution_count": 17,
      "outputs": []
    },
    {
      "cell_type": "code",
      "source": [
        "resultados"
      ],
      "metadata": {
        "colab": {
          "base_uri": "https://localhost:8080/"
        },
        "id": "T2BMT5pGQ4NA",
        "outputId": "f87894b4-05c1-4903-da5b-01ecb7cab642"
      },
      "execution_count": 18,
      "outputs": [
        {
          "output_type": "execute_result",
          "data": {
            "text/plain": [
              "array([0.71929825, 0.89473684, 0.96491228, 0.77192982, 0.9122807 ,\n",
              "       0.92982456, 0.94736842, 0.92982456, 0.84210526, 0.91071429])"
            ]
          },
          "metadata": {},
          "execution_count": 18
        }
      ]
    },
    {
      "cell_type": "code",
      "source": [
        "mediaResultados = resultados.mean()\n",
        "mediaResultados"
      ],
      "metadata": {
        "colab": {
          "base_uri": "https://localhost:8080/"
        },
        "id": "GUfrF30dQ8ce",
        "outputId": "406cf3be-ea24-41aa-c039-7b46500f5d35"
      },
      "execution_count": 19,
      "outputs": [
        {
          "output_type": "execute_result",
          "data": {
            "text/plain": [
              "0.8822994987468672"
            ]
          },
          "metadata": {},
          "execution_count": 19
        }
      ]
    },
    {
      "cell_type": "code",
      "source": [
        "desvResultados = resultados.std()\n",
        "desvResultados"
      ],
      "metadata": {
        "colab": {
          "base_uri": "https://localhost:8080/"
        },
        "id": "YJ3WqNIrRLVo",
        "outputId": "e577cd4e-d129-46bf-ed3e-bc8bc65c5c72"
      },
      "execution_count": 20,
      "outputs": [
        {
          "output_type": "execute_result",
          "data": {
            "text/plain": [
              "0.07602861947493987"
            ]
          },
          "metadata": {},
          "execution_count": 20
        }
      ]
    }
  ]
}