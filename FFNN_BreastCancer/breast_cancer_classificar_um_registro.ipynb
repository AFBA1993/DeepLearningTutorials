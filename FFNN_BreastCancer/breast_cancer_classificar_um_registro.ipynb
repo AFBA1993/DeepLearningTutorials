{
  "nbformat": 4,
  "nbformat_minor": 0,
  "metadata": {
    "colab": {
      "name": "breast_cancer_classificar_um_registro.ipynb",
      "provenance": [],
      "mount_file_id": "1NVO6pYvvqQgaamdjKgnlwi_KE5yiiUnt",
      "authorship_tag": "ABX9TyNV+NjgISyxjulWL739Y6xK",
      "include_colab_link": true
    },
    "kernelspec": {
      "name": "python3",
      "display_name": "Python 3"
    },
    "language_info": {
      "name": "python"
    }
  },
  "cells": [
    {
      "cell_type": "markdown",
      "metadata": {
        "id": "view-in-github",
        "colab_type": "text"
      },
      "source": [
        "<a href=\"https://colab.research.google.com/github/AFBA1993/DeepLearningTutorials/blob/main/FFNN_BreastCancer/breast_cancer_classificar_um_registro.ipynb\" target=\"_parent\"><img src=\"https://colab.research.google.com/assets/colab-badge.svg\" alt=\"Open In Colab\"/></a>"
      ]
    },
    {
      "cell_type": "code",
      "execution_count": 5,
      "metadata": {
        "id": "jvh9GI8WcpHZ"
      },
      "outputs": [],
      "source": [
        "from tensorflow import keras\n",
        "import pandas as pd\n",
        "import numpy as np\n",
        "from keras.models import Sequential\n",
        "from keras.layers import Dense, Dropout"
      ]
    },
    {
      "cell_type": "code",
      "source": [
        "previsores=pd.read_csv(\"/content/drive/MyDrive/UdemyDeepCSVs/entradas_breast.csv\")\n",
        "classe=pd.read_csv(\"/content/drive/MyDrive/UdemyDeepCSVs/saidas_breast.csv\")"
      ],
      "metadata": {
        "id": "sO72cYlvdOYG"
      },
      "execution_count": 3,
      "outputs": []
    },
    {
      "cell_type": "code",
      "source": [
        "classificador = Sequential()\n",
        "classificador.add(Dense(units = 8, activation= 'relu',\n",
        "                      kernel_initializer = 'normal',\n",
        "                      input_dim = 30))\n",
        "classificador.add(Dropout(0.2))\n",
        "classificador.add(Dense(units = 8, activation = 'relu',\n",
        "                      kernel_initializer = 'normal'))\n",
        "classificador.add(Dropout(0.2))\n",
        "classificador.add(Dense(units = 1, activation = 'sigmoid'))\n",
        "\n",
        "classificador.compile(optimizer = 'adam', loss = 'binary_crossentropy',\n",
        "                    metrics = ['binary_accuracy'])\n",
        "classificador.fit(previsores, classe, batch_size = 10, epochs = 100)"
      ],
      "metadata": {
        "colab": {
          "base_uri": "https://localhost:8080/"
        },
        "id": "kvJFQRt8dVQE",
        "outputId": "1fc837db-cd3f-4e34-b17c-9e608a278a22"
      },
      "execution_count": 4,
      "outputs": [
        {
          "output_type": "stream",
          "name": "stdout",
          "text": [
            "Epoch 1/100\n",
            "57/57 [==============================] - 2s 4ms/step - loss: 5.5891 - binary_accuracy: 0.4710\n",
            "Epoch 2/100\n",
            "57/57 [==============================] - 0s 2ms/step - loss: 1.3372 - binary_accuracy: 0.5993\n",
            "Epoch 3/100\n",
            "57/57 [==============================] - 0s 2ms/step - loss: 0.8048 - binary_accuracy: 0.6503\n",
            "Epoch 4/100\n",
            "57/57 [==============================] - 0s 2ms/step - loss: 0.6578 - binary_accuracy: 0.6608\n",
            "Epoch 5/100\n",
            "57/57 [==============================] - 0s 2ms/step - loss: 0.6021 - binary_accuracy: 0.6661\n",
            "Epoch 6/100\n",
            "57/57 [==============================] - 0s 2ms/step - loss: 0.6117 - binary_accuracy: 0.6661\n",
            "Epoch 7/100\n",
            "57/57 [==============================] - 0s 2ms/step - loss: 0.5926 - binary_accuracy: 0.6626\n",
            "Epoch 8/100\n",
            "57/57 [==============================] - 0s 2ms/step - loss: 0.5877 - binary_accuracy: 0.6696\n",
            "Epoch 9/100\n",
            "57/57 [==============================] - 0s 2ms/step - loss: 0.5576 - binary_accuracy: 0.7118\n",
            "Epoch 10/100\n",
            "57/57 [==============================] - 0s 2ms/step - loss: 0.5404 - binary_accuracy: 0.7065\n",
            "Epoch 11/100\n",
            "57/57 [==============================] - 0s 2ms/step - loss: 0.5453 - binary_accuracy: 0.7047\n",
            "Epoch 12/100\n",
            "57/57 [==============================] - 0s 2ms/step - loss: 0.5451 - binary_accuracy: 0.7188\n",
            "Epoch 13/100\n",
            "57/57 [==============================] - 0s 2ms/step - loss: 0.5087 - binary_accuracy: 0.7381\n",
            "Epoch 14/100\n",
            "57/57 [==============================] - 0s 2ms/step - loss: 0.4929 - binary_accuracy: 0.7434\n",
            "Epoch 15/100\n",
            "57/57 [==============================] - 0s 2ms/step - loss: 0.4675 - binary_accuracy: 0.7856\n",
            "Epoch 16/100\n",
            "57/57 [==============================] - 0s 2ms/step - loss: 0.4382 - binary_accuracy: 0.7873\n",
            "Epoch 17/100\n",
            "57/57 [==============================] - 0s 2ms/step - loss: 0.4340 - binary_accuracy: 0.8137\n",
            "Epoch 18/100\n",
            "57/57 [==============================] - 0s 2ms/step - loss: 0.4085 - binary_accuracy: 0.8207\n",
            "Epoch 19/100\n",
            "57/57 [==============================] - 0s 2ms/step - loss: 0.3890 - binary_accuracy: 0.8313\n",
            "Epoch 20/100\n",
            "57/57 [==============================] - 0s 2ms/step - loss: 0.4084 - binary_accuracy: 0.8295\n",
            "Epoch 21/100\n",
            "57/57 [==============================] - 0s 2ms/step - loss: 0.3539 - binary_accuracy: 0.8594\n",
            "Epoch 22/100\n",
            "57/57 [==============================] - 0s 2ms/step - loss: 0.3962 - binary_accuracy: 0.8243\n",
            "Epoch 23/100\n",
            "57/57 [==============================] - 0s 2ms/step - loss: 0.3790 - binary_accuracy: 0.8366\n",
            "Epoch 24/100\n",
            "57/57 [==============================] - 0s 2ms/step - loss: 0.3841 - binary_accuracy: 0.8348\n",
            "Epoch 25/100\n",
            "57/57 [==============================] - 0s 2ms/step - loss: 0.3544 - binary_accuracy: 0.8453\n",
            "Epoch 26/100\n",
            "57/57 [==============================] - 0s 2ms/step - loss: 0.3709 - binary_accuracy: 0.8366\n",
            "Epoch 27/100\n",
            "57/57 [==============================] - 0s 2ms/step - loss: 0.3810 - binary_accuracy: 0.8278\n",
            "Epoch 28/100\n",
            "57/57 [==============================] - 0s 2ms/step - loss: 0.3462 - binary_accuracy: 0.8506\n",
            "Epoch 29/100\n",
            "57/57 [==============================] - 0s 2ms/step - loss: 0.3613 - binary_accuracy: 0.8489\n",
            "Epoch 30/100\n",
            "57/57 [==============================] - 0s 2ms/step - loss: 0.3551 - binary_accuracy: 0.8541\n",
            "Epoch 31/100\n",
            "57/57 [==============================] - 0s 2ms/step - loss: 0.3574 - binary_accuracy: 0.8489\n",
            "Epoch 32/100\n",
            "57/57 [==============================] - 0s 2ms/step - loss: 0.3759 - binary_accuracy: 0.8453\n",
            "Epoch 33/100\n",
            "57/57 [==============================] - 0s 2ms/step - loss: 0.3628 - binary_accuracy: 0.8506\n",
            "Epoch 34/100\n",
            "57/57 [==============================] - 0s 2ms/step - loss: 0.3384 - binary_accuracy: 0.8594\n",
            "Epoch 35/100\n",
            "57/57 [==============================] - 0s 2ms/step - loss: 0.3408 - binary_accuracy: 0.8612\n",
            "Epoch 36/100\n",
            "57/57 [==============================] - 0s 2ms/step - loss: 0.3550 - binary_accuracy: 0.8436\n",
            "Epoch 37/100\n",
            "57/57 [==============================] - 0s 2ms/step - loss: 0.3693 - binary_accuracy: 0.8348\n",
            "Epoch 38/100\n",
            "57/57 [==============================] - 0s 2ms/step - loss: 0.3674 - binary_accuracy: 0.8366\n",
            "Epoch 39/100\n",
            "57/57 [==============================] - 0s 2ms/step - loss: 0.3477 - binary_accuracy: 0.8418\n",
            "Epoch 40/100\n",
            "57/57 [==============================] - 0s 2ms/step - loss: 0.3639 - binary_accuracy: 0.8366\n",
            "Epoch 41/100\n",
            "57/57 [==============================] - 0s 2ms/step - loss: 0.3405 - binary_accuracy: 0.8629\n",
            "Epoch 42/100\n",
            "57/57 [==============================] - 0s 2ms/step - loss: 0.3323 - binary_accuracy: 0.8524\n",
            "Epoch 43/100\n",
            "57/57 [==============================] - 0s 2ms/step - loss: 0.3577 - binary_accuracy: 0.8401\n",
            "Epoch 44/100\n",
            "57/57 [==============================] - 0s 2ms/step - loss: 0.3390 - binary_accuracy: 0.8629\n",
            "Epoch 45/100\n",
            "57/57 [==============================] - 0s 2ms/step - loss: 0.3678 - binary_accuracy: 0.8401\n",
            "Epoch 46/100\n",
            "57/57 [==============================] - 0s 2ms/step - loss: 0.3471 - binary_accuracy: 0.8594\n",
            "Epoch 47/100\n",
            "57/57 [==============================] - 0s 2ms/step - loss: 0.3278 - binary_accuracy: 0.8559\n",
            "Epoch 48/100\n",
            "57/57 [==============================] - 0s 2ms/step - loss: 0.3050 - binary_accuracy: 0.8682\n",
            "Epoch 49/100\n",
            "57/57 [==============================] - 0s 2ms/step - loss: 0.3346 - binary_accuracy: 0.8576\n",
            "Epoch 50/100\n",
            "57/57 [==============================] - 0s 2ms/step - loss: 0.3291 - binary_accuracy: 0.8559\n",
            "Epoch 51/100\n",
            "57/57 [==============================] - 0s 2ms/step - loss: 0.3603 - binary_accuracy: 0.8278\n",
            "Epoch 52/100\n",
            "57/57 [==============================] - 0s 2ms/step - loss: 0.3510 - binary_accuracy: 0.8383\n",
            "Epoch 53/100\n",
            "57/57 [==============================] - 0s 2ms/step - loss: 0.3557 - binary_accuracy: 0.8436\n",
            "Epoch 54/100\n",
            "57/57 [==============================] - 0s 2ms/step - loss: 0.3294 - binary_accuracy: 0.8559\n",
            "Epoch 55/100\n",
            "57/57 [==============================] - 0s 2ms/step - loss: 0.3296 - binary_accuracy: 0.8664\n",
            "Epoch 56/100\n",
            "57/57 [==============================] - 0s 2ms/step - loss: 0.3473 - binary_accuracy: 0.8418\n",
            "Epoch 57/100\n",
            "57/57 [==============================] - 0s 2ms/step - loss: 0.3115 - binary_accuracy: 0.8647\n",
            "Epoch 58/100\n",
            "57/57 [==============================] - 0s 2ms/step - loss: 0.3442 - binary_accuracy: 0.8418\n",
            "Epoch 59/100\n",
            "57/57 [==============================] - 0s 2ms/step - loss: 0.3300 - binary_accuracy: 0.8612\n",
            "Epoch 60/100\n",
            "57/57 [==============================] - 0s 2ms/step - loss: 0.3037 - binary_accuracy: 0.8787\n",
            "Epoch 61/100\n",
            "57/57 [==============================] - 0s 2ms/step - loss: 0.3286 - binary_accuracy: 0.8541\n",
            "Epoch 62/100\n",
            "57/57 [==============================] - 0s 2ms/step - loss: 0.2987 - binary_accuracy: 0.8752\n",
            "Epoch 63/100\n",
            "57/57 [==============================] - 0s 2ms/step - loss: 0.2968 - binary_accuracy: 0.8787\n",
            "Epoch 64/100\n",
            "57/57 [==============================] - 0s 2ms/step - loss: 0.3495 - binary_accuracy: 0.8401\n",
            "Epoch 65/100\n",
            "57/57 [==============================] - 0s 2ms/step - loss: 0.3353 - binary_accuracy: 0.8401\n",
            "Epoch 66/100\n",
            "57/57 [==============================] - 0s 2ms/step - loss: 0.3440 - binary_accuracy: 0.8559\n",
            "Epoch 67/100\n",
            "57/57 [==============================] - 0s 2ms/step - loss: 0.3267 - binary_accuracy: 0.8629\n",
            "Epoch 68/100\n",
            "57/57 [==============================] - 0s 2ms/step - loss: 0.3368 - binary_accuracy: 0.8489\n",
            "Epoch 69/100\n",
            "57/57 [==============================] - 0s 2ms/step - loss: 0.3224 - binary_accuracy: 0.8541\n",
            "Epoch 70/100\n",
            "57/57 [==============================] - 0s 2ms/step - loss: 0.3303 - binary_accuracy: 0.8489\n",
            "Epoch 71/100\n",
            "57/57 [==============================] - 0s 2ms/step - loss: 0.3293 - binary_accuracy: 0.8594\n",
            "Epoch 72/100\n",
            "57/57 [==============================] - 0s 2ms/step - loss: 0.3015 - binary_accuracy: 0.8735\n",
            "Epoch 73/100\n",
            "57/57 [==============================] - 0s 2ms/step - loss: 0.3314 - binary_accuracy: 0.8682\n",
            "Epoch 74/100\n",
            "57/57 [==============================] - 0s 2ms/step - loss: 0.3171 - binary_accuracy: 0.8594\n",
            "Epoch 75/100\n",
            "57/57 [==============================] - 0s 2ms/step - loss: 0.3310 - binary_accuracy: 0.8401\n",
            "Epoch 76/100\n",
            "57/57 [==============================] - 0s 2ms/step - loss: 0.3231 - binary_accuracy: 0.8664\n",
            "Epoch 77/100\n",
            "57/57 [==============================] - 0s 2ms/step - loss: 0.3298 - binary_accuracy: 0.8489\n",
            "Epoch 78/100\n",
            "57/57 [==============================] - 0s 2ms/step - loss: 0.3182 - binary_accuracy: 0.8576\n",
            "Epoch 79/100\n",
            "57/57 [==============================] - 0s 2ms/step - loss: 0.3257 - binary_accuracy: 0.8524\n",
            "Epoch 80/100\n",
            "57/57 [==============================] - 0s 2ms/step - loss: 0.3268 - binary_accuracy: 0.8664\n",
            "Epoch 81/100\n",
            "57/57 [==============================] - 0s 2ms/step - loss: 0.3278 - binary_accuracy: 0.8594\n",
            "Epoch 82/100\n",
            "57/57 [==============================] - 0s 2ms/step - loss: 0.3436 - binary_accuracy: 0.8436\n",
            "Epoch 83/100\n",
            "57/57 [==============================] - 0s 2ms/step - loss: 0.3233 - binary_accuracy: 0.8559\n",
            "Epoch 84/100\n",
            "57/57 [==============================] - 0s 2ms/step - loss: 0.3451 - binary_accuracy: 0.8436\n",
            "Epoch 85/100\n",
            "57/57 [==============================] - 0s 2ms/step - loss: 0.3119 - binary_accuracy: 0.8594\n",
            "Epoch 86/100\n",
            "57/57 [==============================] - 0s 2ms/step - loss: 0.2990 - binary_accuracy: 0.8717\n",
            "Epoch 87/100\n",
            "57/57 [==============================] - 0s 2ms/step - loss: 0.3410 - binary_accuracy: 0.8436\n",
            "Epoch 88/100\n",
            "57/57 [==============================] - 0s 2ms/step - loss: 0.3120 - binary_accuracy: 0.8647\n",
            "Epoch 89/100\n",
            "57/57 [==============================] - 0s 2ms/step - loss: 0.2971 - binary_accuracy: 0.8682\n",
            "Epoch 90/100\n",
            "57/57 [==============================] - 0s 2ms/step - loss: 0.3629 - binary_accuracy: 0.8418\n",
            "Epoch 91/100\n",
            "57/57 [==============================] - 0s 2ms/step - loss: 0.3563 - binary_accuracy: 0.8383\n",
            "Epoch 92/100\n",
            "57/57 [==============================] - 0s 2ms/step - loss: 0.3084 - binary_accuracy: 0.8594\n",
            "Epoch 93/100\n",
            "57/57 [==============================] - 0s 2ms/step - loss: 0.3573 - binary_accuracy: 0.8401\n",
            "Epoch 94/100\n",
            "57/57 [==============================] - 0s 2ms/step - loss: 0.3497 - binary_accuracy: 0.8506\n",
            "Epoch 95/100\n",
            "57/57 [==============================] - 0s 2ms/step - loss: 0.3216 - binary_accuracy: 0.8576\n",
            "Epoch 96/100\n",
            "57/57 [==============================] - 0s 2ms/step - loss: 0.3380 - binary_accuracy: 0.8524\n",
            "Epoch 97/100\n",
            "57/57 [==============================] - 0s 2ms/step - loss: 0.3091 - binary_accuracy: 0.8717\n",
            "Epoch 98/100\n",
            "57/57 [==============================] - 0s 2ms/step - loss: 0.3048 - binary_accuracy: 0.8735\n",
            "Epoch 99/100\n",
            "57/57 [==============================] - 0s 2ms/step - loss: 0.3319 - binary_accuracy: 0.8436\n",
            "Epoch 100/100\n",
            "57/57 [==============================] - 0s 2ms/step - loss: 0.3521 - binary_accuracy: 0.8541\n"
          ]
        },
        {
          "output_type": "execute_result",
          "data": {
            "text/plain": [
              "<keras.callbacks.History at 0x7f22842a1dd0>"
            ]
          },
          "metadata": {},
          "execution_count": 4
        }
      ]
    },
    {
      "cell_type": "code",
      "source": [
        "novo = np.array([[15.80, 8.34, 118, 900, 0.10, 0.26, 0.08, 0.134, 0.178,\n",
        "                  0.2, 0.05, 1098, 0.87, 4500, 145.2, 0.005, 0.04, 0.05, \n",
        "                  0.015, 0.03, 0.007, 23.15, 16.64, 178.5, 2018, 0.14, \n",
        "                  0.185, 0.84, 158, 0.363]])"
      ],
      "metadata": {
        "id": "HDuUCqQxeofS"
      },
      "execution_count": 6,
      "outputs": []
    },
    {
      "cell_type": "code",
      "source": [
        "previsao1 = classificador.predict(novo)\n",
        "(previsao1 > 0.5)"
      ],
      "metadata": {
        "colab": {
          "base_uri": "https://localhost:8080/"
        },
        "id": "b4zIrfCKfwd_",
        "outputId": "f77fe974-b1af-459b-fe36-a790a530c7dd"
      },
      "execution_count": 12,
      "outputs": [
        {
          "output_type": "execute_result",
          "data": {
            "text/plain": [
              "array([[ True]])"
            ]
          },
          "metadata": {},
          "execution_count": 12
        }
      ]
    },
    {
      "cell_type": "code",
      "source": [
        "previsao1"
      ],
      "metadata": {
        "colab": {
          "base_uri": "https://localhost:8080/"
        },
        "id": "56pwtH5hgNOD",
        "outputId": "c91d31fe-ed17-4d0f-8a4a-f96719b5f448"
      },
      "execution_count": 13,
      "outputs": [
        {
          "output_type": "execute_result",
          "data": {
            "text/plain": [
              "array([[1.]], dtype=float32)"
            ]
          },
          "metadata": {},
          "execution_count": 13
        }
      ]
    }
  ]
}