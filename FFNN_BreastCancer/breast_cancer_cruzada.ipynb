{
  "nbformat": 4,
  "nbformat_minor": 0,
  "metadata": {
    "colab": {
      "name": "breast_cancer_cruzada.ipynb",
      "provenance": [],
      "mount_file_id": "https://github.com/AFBA1993/DeepLearningTutorials/blob/main/FFNN_BreastCancer/breast_cancer_cruzada.ipynb",
      "authorship_tag": "ABX9TyOTw10Hw9WdYjaykAngZJUL",
      "include_colab_link": true
    },
    "kernelspec": {
      "name": "python3",
      "display_name": "Python 3"
    },
    "language_info": {
      "name": "python"
    }
  },
  "cells": [
    {
      "cell_type": "markdown",
      "metadata": {
        "id": "view-in-github",
        "colab_type": "text"
      },
      "source": [
        "<a href=\"https://colab.research.google.com/github/AFBA1993/DeepLearningTutorials/blob/main/FFNN_BreastCancer/breast_cancer_cruzada.ipynb\" target=\"_parent\"><img src=\"https://colab.research.google.com/assets/colab-badge.svg\" alt=\"Open In Colab\"/></a>"
      ]
    },
    {
      "cell_type": "code",
      "execution_count": 5,
      "metadata": {
        "id": "IFOr0x-YM7n8"
      },
      "outputs": [],
      "source": [
        "from tensorflow import keras\n",
        "import pandas as pd\n",
        "from keras.models import Sequential\n",
        "from keras.layers import Dense\n",
        "from keras.wrappers.scikit_learn import KerasClassifier\n",
        "from sklearn.model_selection import cross_val_score"
      ]
    },
    {
      "cell_type": "code",
      "source": [
        "previsores=pd.read_csv(\"/content/drive/MyDrive/UdemyDeepCSVs/entradas_breast.csv\")\n",
        "classe=pd.read_csv(\"/content/drive/MyDrive/UdemyDeepCSVs/saidas_breast.csv\")"
      ],
      "metadata": {
        "id": "EDK2GiXHNexi"
      },
      "execution_count": 3,
      "outputs": []
    },
    {
      "cell_type": "code",
      "source": [
        "def criarRede():\n",
        "  classificador = Sequential()\n",
        "  classificador.add(Dense(units = 16, activation='relu',\n",
        "                        kernel_initializer = \"random_uniform\",\n",
        "                        input_dim = 30))\n",
        "  classificador.add(Dense(units = 16, activation='relu',\n",
        "                        kernel_initializer = \"random_uniform\"))\n",
        "  classificador.add(Dense(units = 1, activation = 'sigmoid'))\n",
        "  otimizador = keras.optimizers.Adam(learning_rate = 0.001, decay = 0.0001, \n",
        "                                                            clipvalue = 0.5)\n",
        "\n",
        "  classificador.compile(optimizer = otimizador, loss = 'binary_crossentropy',\n",
        "                      metrics = ['binary_accuracy'])\n",
        "  return classificador"
      ],
      "metadata": {
        "id": "7whqavu5Op65"
      },
      "execution_count": 6,
      "outputs": []
    },
    {
      "cell_type": "code",
      "source": [
        "classificador = KerasClassifier(build_fn= criarRede,\n",
        "                                epochs = 100, \n",
        "                                batch_size = 10)"
      ],
      "metadata": {
        "id": "W4d3TKHqPYat",
        "outputId": "9188f313-81cb-41d0-a6e9-6ec40393c605",
        "colab": {
          "base_uri": "https://localhost:8080/"
        }
      },
      "execution_count": 7,
      "outputs": [
        {
          "output_type": "stream",
          "name": "stderr",
          "text": [
            "/usr/local/lib/python3.7/dist-packages/ipykernel_launcher.py:3: DeprecationWarning: KerasClassifier is deprecated, use Sci-Keras (https://github.com/adriangb/scikeras) instead.\n",
            "  This is separate from the ipykernel package so we can avoid doing imports until\n"
          ]
        }
      ]
    },
    {
      "cell_type": "code",
      "source": [
        "resultados = cross_val_score(estimator = classificador,\n",
        "                             X = previsores, y = classe,\n",
        "                             cv = 10, scoring = 'accuracy',\n",
        "                                                n_jobs = -1)"
      ],
      "metadata": {
        "id": "yMgQc3L_Pwgf"
      },
      "execution_count": 8,
      "outputs": []
    },
    {
      "cell_type": "code",
      "source": [
        "resultados"
      ],
      "metadata": {
        "id": "T2BMT5pGQ4NA",
        "outputId": "4a2d304f-2da8-406e-b054-1ff11dcc2054",
        "colab": {
          "base_uri": "https://localhost:8080/"
        }
      },
      "execution_count": 9,
      "outputs": [
        {
          "output_type": "execute_result",
          "data": {
            "text/plain": [
              "array([0.75438596, 0.8245614 , 0.84210526, 0.64912281, 0.8245614 ,\n",
              "       0.84210526, 0.89473684, 0.87719298, 0.68421053, 0.76785714])"
            ]
          },
          "metadata": {},
          "execution_count": 9
        }
      ]
    },
    {
      "cell_type": "code",
      "source": [
        "mediaResultados = resultados.mean()\n",
        "mediaResultados"
      ],
      "metadata": {
        "id": "GUfrF30dQ8ce",
        "outputId": "ba30a34e-7224-422a-9b2a-3ebd63e76839",
        "colab": {
          "base_uri": "https://localhost:8080/"
        }
      },
      "execution_count": 11,
      "outputs": [
        {
          "output_type": "execute_result",
          "data": {
            "text/plain": [
              "0.7960839598997494"
            ]
          },
          "metadata": {},
          "execution_count": 11
        }
      ]
    },
    {
      "cell_type": "code",
      "source": [
        "desvResultados = resultados.std()\n",
        "desvResultados"
      ],
      "metadata": {
        "id": "YJ3WqNIrRLVo",
        "outputId": "7b33629d-29ba-49b0-80e4-df5a353aa030",
        "colab": {
          "base_uri": "https://localhost:8080/"
        }
      },
      "execution_count": 12,
      "outputs": [
        {
          "output_type": "execute_result",
          "data": {
            "text/plain": [
              "0.0766926571376543"
            ]
          },
          "metadata": {},
          "execution_count": 12
        }
      ]
    }
  ]
}