{
  "nbformat": 4,
  "nbformat_minor": 0,
  "metadata": {
    "colab": {
      "name": "breast_cancer_simples.ipynb",
      "provenance": [],
      "collapsed_sections": [],
      "mount_file_id": "1fjNZ88NZUUowos5JJvciER-0hgANmBMF",
      "authorship_tag": "ABX9TyOsW5zizCp2Y7bEzHuXLIQ6",
      "include_colab_link": true
    },
    "kernelspec": {
      "name": "python3",
      "display_name": "Python 3"
    },
    "language_info": {
      "name": "python"
    }
  },
  "cells": [
    {
      "cell_type": "markdown",
      "metadata": {
        "id": "view-in-github",
        "colab_type": "text"
      },
      "source": [
        "<a href=\"https://colab.research.google.com/github/AFBA1993/DeepLearningTutorials/blob/main/FFNN_BreastCancer/breast_cancer_simples.ipynb\" target=\"_parent\"><img src=\"https://colab.research.google.com/assets/colab-badge.svg\" alt=\"Open In Colab\"/></a>"
      ]
    },
    {
      "cell_type": "code",
      "execution_count": 20,
      "metadata": {
        "id": "Mc_ubhP4wLKm"
      },
      "outputs": [],
      "source": [
        "import pandas as pd\n",
        "from sklearn.model_selection import train_test_split\n",
        "import keras\n",
        "from keras.models import Sequential\n",
        "from keras.layers import Dense\n"
      ]
    },
    {
      "cell_type": "code",
      "source": [
        "previsores=pd.read_csv(\"/content/drive/MyDrive/UdemyDeepCSVs/entradas_breast.csv\")\n",
        "classe=pd.read_csv(\"/content/drive/MyDrive/UdemyDeepCSVs/saidas_breast.csv\")"
      ],
      "metadata": {
        "id": "kSQkNuVGxNmJ"
      },
      "execution_count": 3,
      "outputs": []
    },
    {
      "cell_type": "code",
      "source": [
        "previsores_treinamento, previsores_teste, classe_treinamento, classe_teste \\\n",
        "= train_test_split( previsores, classe, test_size = 0.25)"
      ],
      "metadata": {
        "id": "cBM2DJwqzAep"
      },
      "execution_count": 18,
      "outputs": []
    },
    {
      "cell_type": "code",
      "source": [
        "classificador = Sequential()\n",
        "classificador.add(Dense(units = 16, activation='relu',\n",
        "                        kernel_initializer = \"random_uniform\",\n",
        "                        input_dim = 30))\n",
        "classificador.add(Dense(units = 1, activation = 'sigmoid'))"
      ],
      "metadata": {
        "id": "Dz0xLLBy0-tF"
      },
      "execution_count": 22,
      "outputs": []
    },
    {
      "cell_type": "code",
      "source": [
        "classificador.compile(optimizer = 'adam', loss = 'binary_crossentropy',\n",
        "                      metrics = ['binary_accuracy'])"
      ],
      "metadata": {
        "id": "5B18qPUH3egH"
      },
      "execution_count": 23,
      "outputs": []
    },
    {
      "cell_type": "code",
      "source": [
        "classificador.fit(previsores_treinamento, classe_treinamento,\n",
        "                  batch_size =10, epochs = 100)"
      ],
      "metadata": {
        "colab": {
          "base_uri": "https://localhost:8080/"
        },
        "id": "_qSntAHY4tVi",
        "outputId": "2bd2e33d-86e4-4a7c-ca74-db4a5fb0a83e"
      },
      "execution_count": 24,
      "outputs": [
        {
          "output_type": "stream",
          "name": "stdout",
          "text": [
            "Epoch 1/100\n",
            "43/43 [==============================] - 1s 2ms/step - loss: 6.4035 - binary_accuracy: 0.5915\n",
            "Epoch 2/100\n",
            "43/43 [==============================] - 0s 2ms/step - loss: 1.2484 - binary_accuracy: 0.7700\n",
            "Epoch 3/100\n",
            "43/43 [==============================] - 0s 2ms/step - loss: 0.7243 - binary_accuracy: 0.8192\n",
            "Epoch 4/100\n",
            "43/43 [==============================] - 0s 2ms/step - loss: 0.7683 - binary_accuracy: 0.7770\n",
            "Epoch 5/100\n",
            "43/43 [==============================] - 0s 2ms/step - loss: 0.5689 - binary_accuracy: 0.8192\n",
            "Epoch 6/100\n",
            "43/43 [==============================] - 0s 2ms/step - loss: 0.4425 - binary_accuracy: 0.8380\n",
            "Epoch 7/100\n",
            "43/43 [==============================] - 0s 2ms/step - loss: 0.4168 - binary_accuracy: 0.8545\n",
            "Epoch 8/100\n",
            "43/43 [==============================] - 0s 2ms/step - loss: 0.6348 - binary_accuracy: 0.8498\n",
            "Epoch 9/100\n",
            "43/43 [==============================] - 0s 2ms/step - loss: 0.3678 - binary_accuracy: 0.8732\n",
            "Epoch 10/100\n",
            "43/43 [==============================] - 0s 2ms/step - loss: 0.3380 - binary_accuracy: 0.8944\n",
            "Epoch 11/100\n",
            "43/43 [==============================] - 0s 2ms/step - loss: 0.3074 - binary_accuracy: 0.8920\n",
            "Epoch 12/100\n",
            "43/43 [==============================] - 0s 2ms/step - loss: 0.2636 - binary_accuracy: 0.8991\n",
            "Epoch 13/100\n",
            "43/43 [==============================] - 0s 2ms/step - loss: 0.3829 - binary_accuracy: 0.8850\n",
            "Epoch 14/100\n",
            "43/43 [==============================] - 0s 2ms/step - loss: 0.3241 - binary_accuracy: 0.8873\n",
            "Epoch 15/100\n",
            "43/43 [==============================] - 0s 2ms/step - loss: 0.8466 - binary_accuracy: 0.8263\n",
            "Epoch 16/100\n",
            "43/43 [==============================] - 0s 2ms/step - loss: 0.6265 - binary_accuracy: 0.8568\n",
            "Epoch 17/100\n",
            "43/43 [==============================] - 0s 2ms/step - loss: 0.3938 - binary_accuracy: 0.8920\n",
            "Epoch 18/100\n",
            "43/43 [==============================] - 0s 2ms/step - loss: 0.3432 - binary_accuracy: 0.8803\n",
            "Epoch 19/100\n",
            "43/43 [==============================] - 0s 2ms/step - loss: 0.3191 - binary_accuracy: 0.9085\n",
            "Epoch 20/100\n",
            "43/43 [==============================] - 0s 2ms/step - loss: 0.4519 - binary_accuracy: 0.8873\n",
            "Epoch 21/100\n",
            "43/43 [==============================] - 0s 2ms/step - loss: 0.2385 - binary_accuracy: 0.9085\n",
            "Epoch 22/100\n",
            "43/43 [==============================] - 0s 2ms/step - loss: 0.3610 - binary_accuracy: 0.8920\n",
            "Epoch 23/100\n",
            "43/43 [==============================] - 0s 2ms/step - loss: 0.3085 - binary_accuracy: 0.9085\n",
            "Epoch 24/100\n",
            "43/43 [==============================] - 0s 2ms/step - loss: 0.6966 - binary_accuracy: 0.8451\n",
            "Epoch 25/100\n",
            "43/43 [==============================] - 0s 1ms/step - loss: 0.5837 - binary_accuracy: 0.8850\n",
            "Epoch 26/100\n",
            "43/43 [==============================] - 0s 2ms/step - loss: 0.3635 - binary_accuracy: 0.8897\n",
            "Epoch 27/100\n",
            "43/43 [==============================] - 0s 2ms/step - loss: 0.2686 - binary_accuracy: 0.9108\n",
            "Epoch 28/100\n",
            "43/43 [==============================] - 0s 2ms/step - loss: 0.3354 - binary_accuracy: 0.9202\n",
            "Epoch 29/100\n",
            "43/43 [==============================] - 0s 2ms/step - loss: 0.2384 - binary_accuracy: 0.9272\n",
            "Epoch 30/100\n",
            "43/43 [==============================] - 0s 2ms/step - loss: 0.6398 - binary_accuracy: 0.8545\n",
            "Epoch 31/100\n",
            "43/43 [==============================] - 0s 2ms/step - loss: 0.5067 - binary_accuracy: 0.8803\n",
            "Epoch 32/100\n",
            "43/43 [==============================] - 0s 2ms/step - loss: 0.3377 - binary_accuracy: 0.8920\n",
            "Epoch 33/100\n",
            "43/43 [==============================] - 0s 2ms/step - loss: 0.6071 - binary_accuracy: 0.8756\n",
            "Epoch 34/100\n",
            "43/43 [==============================] - 0s 2ms/step - loss: 0.2859 - binary_accuracy: 0.9108\n",
            "Epoch 35/100\n",
            "43/43 [==============================] - 0s 2ms/step - loss: 0.3967 - binary_accuracy: 0.9085\n",
            "Epoch 36/100\n",
            "43/43 [==============================] - 0s 2ms/step - loss: 0.5342 - binary_accuracy: 0.8732\n",
            "Epoch 37/100\n",
            "43/43 [==============================] - 0s 2ms/step - loss: 0.3107 - binary_accuracy: 0.9319\n",
            "Epoch 38/100\n",
            "43/43 [==============================] - 0s 2ms/step - loss: 0.1858 - binary_accuracy: 0.9225\n",
            "Epoch 39/100\n",
            "43/43 [==============================] - 0s 2ms/step - loss: 0.2646 - binary_accuracy: 0.9296\n",
            "Epoch 40/100\n",
            "43/43 [==============================] - 0s 2ms/step - loss: 0.3574 - binary_accuracy: 0.9014\n",
            "Epoch 41/100\n",
            "43/43 [==============================] - 0s 2ms/step - loss: 0.3152 - binary_accuracy: 0.9061\n",
            "Epoch 42/100\n",
            "43/43 [==============================] - 0s 2ms/step - loss: 0.3879 - binary_accuracy: 0.8967\n",
            "Epoch 43/100\n",
            "43/43 [==============================] - 0s 2ms/step - loss: 0.3267 - binary_accuracy: 0.9038\n",
            "Epoch 44/100\n",
            "43/43 [==============================] - 0s 2ms/step - loss: 0.2788 - binary_accuracy: 0.9061\n",
            "Epoch 45/100\n",
            "43/43 [==============================] - 0s 2ms/step - loss: 0.3996 - binary_accuracy: 0.9061\n",
            "Epoch 46/100\n",
            "43/43 [==============================] - 0s 2ms/step - loss: 0.2706 - binary_accuracy: 0.9202\n",
            "Epoch 47/100\n",
            "43/43 [==============================] - 0s 2ms/step - loss: 0.1914 - binary_accuracy: 0.9296\n",
            "Epoch 48/100\n",
            "43/43 [==============================] - 0s 2ms/step - loss: 0.3644 - binary_accuracy: 0.9061\n",
            "Epoch 49/100\n",
            "43/43 [==============================] - 0s 2ms/step - loss: 0.3755 - binary_accuracy: 0.9061\n",
            "Epoch 50/100\n",
            "43/43 [==============================] - 0s 2ms/step - loss: 0.7228 - binary_accuracy: 0.8404\n",
            "Epoch 51/100\n",
            "43/43 [==============================] - 0s 2ms/step - loss: 0.3053 - binary_accuracy: 0.9061\n",
            "Epoch 52/100\n",
            "43/43 [==============================] - 0s 2ms/step - loss: 0.2497 - binary_accuracy: 0.9249\n",
            "Epoch 53/100\n",
            "43/43 [==============================] - 0s 2ms/step - loss: 0.8883 - binary_accuracy: 0.8521\n",
            "Epoch 54/100\n",
            "43/43 [==============================] - 0s 2ms/step - loss: 0.3414 - binary_accuracy: 0.8967\n",
            "Epoch 55/100\n",
            "43/43 [==============================] - 0s 2ms/step - loss: 0.4027 - binary_accuracy: 0.8803\n",
            "Epoch 56/100\n",
            "43/43 [==============================] - 0s 2ms/step - loss: 0.6892 - binary_accuracy: 0.8756\n",
            "Epoch 57/100\n",
            "43/43 [==============================] - 0s 2ms/step - loss: 0.4632 - binary_accuracy: 0.8967\n",
            "Epoch 58/100\n",
            "43/43 [==============================] - 0s 2ms/step - loss: 0.2703 - binary_accuracy: 0.9272\n",
            "Epoch 59/100\n",
            "43/43 [==============================] - 0s 2ms/step - loss: 0.3085 - binary_accuracy: 0.9225\n",
            "Epoch 60/100\n",
            "43/43 [==============================] - 0s 2ms/step - loss: 0.3425 - binary_accuracy: 0.9061\n",
            "Epoch 61/100\n",
            "43/43 [==============================] - 0s 2ms/step - loss: 0.1952 - binary_accuracy: 0.9366\n",
            "Epoch 62/100\n",
            "43/43 [==============================] - 0s 2ms/step - loss: 0.2840 - binary_accuracy: 0.9272\n",
            "Epoch 63/100\n",
            "43/43 [==============================] - 0s 2ms/step - loss: 0.2652 - binary_accuracy: 0.9249\n",
            "Epoch 64/100\n",
            "43/43 [==============================] - 0s 2ms/step - loss: 0.2572 - binary_accuracy: 0.9296\n",
            "Epoch 65/100\n",
            "43/43 [==============================] - 0s 2ms/step - loss: 0.2867 - binary_accuracy: 0.9178\n",
            "Epoch 66/100\n",
            "43/43 [==============================] - 0s 2ms/step - loss: 0.3715 - binary_accuracy: 0.9155\n",
            "Epoch 67/100\n",
            "43/43 [==============================] - 0s 2ms/step - loss: 0.2218 - binary_accuracy: 0.9319\n",
            "Epoch 68/100\n",
            "43/43 [==============================] - 0s 2ms/step - loss: 0.2429 - binary_accuracy: 0.9366\n",
            "Epoch 69/100\n",
            "43/43 [==============================] - 0s 2ms/step - loss: 0.7540 - binary_accuracy: 0.8568\n",
            "Epoch 70/100\n",
            "43/43 [==============================] - 0s 2ms/step - loss: 0.8043 - binary_accuracy: 0.8732\n",
            "Epoch 71/100\n",
            "43/43 [==============================] - 0s 2ms/step - loss: 0.2270 - binary_accuracy: 0.9296\n",
            "Epoch 72/100\n",
            "43/43 [==============================] - 0s 2ms/step - loss: 0.4835 - binary_accuracy: 0.8967\n",
            "Epoch 73/100\n",
            "43/43 [==============================] - 0s 2ms/step - loss: 0.3547 - binary_accuracy: 0.8967\n",
            "Epoch 74/100\n",
            "43/43 [==============================] - 0s 2ms/step - loss: 0.2173 - binary_accuracy: 0.9343\n",
            "Epoch 75/100\n",
            "43/43 [==============================] - 0s 2ms/step - loss: 0.3062 - binary_accuracy: 0.9202\n",
            "Epoch 76/100\n",
            "43/43 [==============================] - 0s 2ms/step - loss: 0.2698 - binary_accuracy: 0.9225\n",
            "Epoch 77/100\n",
            "43/43 [==============================] - 0s 2ms/step - loss: 0.4503 - binary_accuracy: 0.9014\n",
            "Epoch 78/100\n",
            "43/43 [==============================] - 0s 2ms/step - loss: 0.3201 - binary_accuracy: 0.9202\n",
            "Epoch 79/100\n",
            "43/43 [==============================] - 0s 2ms/step - loss: 0.1942 - binary_accuracy: 0.9366\n",
            "Epoch 80/100\n",
            "43/43 [==============================] - 0s 2ms/step - loss: 0.3253 - binary_accuracy: 0.9202\n",
            "Epoch 81/100\n",
            "43/43 [==============================] - 0s 2ms/step - loss: 0.7112 - binary_accuracy: 0.8709\n",
            "Epoch 82/100\n",
            "43/43 [==============================] - 0s 2ms/step - loss: 0.2501 - binary_accuracy: 0.9178\n",
            "Epoch 83/100\n",
            "43/43 [==============================] - 0s 2ms/step - loss: 0.2681 - binary_accuracy: 0.9249\n",
            "Epoch 84/100\n",
            "43/43 [==============================] - 0s 2ms/step - loss: 0.2278 - binary_accuracy: 0.9296\n",
            "Epoch 85/100\n",
            "43/43 [==============================] - 0s 2ms/step - loss: 0.6750 - binary_accuracy: 0.8615\n",
            "Epoch 86/100\n",
            "43/43 [==============================] - 0s 2ms/step - loss: 0.2303 - binary_accuracy: 0.9272\n",
            "Epoch 87/100\n",
            "43/43 [==============================] - 0s 2ms/step - loss: 0.4864 - binary_accuracy: 0.9038\n",
            "Epoch 88/100\n",
            "43/43 [==============================] - 0s 2ms/step - loss: 0.2355 - binary_accuracy: 0.9437\n",
            "Epoch 89/100\n",
            "43/43 [==============================] - 0s 2ms/step - loss: 0.3313 - binary_accuracy: 0.9178\n",
            "Epoch 90/100\n",
            "43/43 [==============================] - 0s 2ms/step - loss: 0.2010 - binary_accuracy: 0.9343\n",
            "Epoch 91/100\n",
            "43/43 [==============================] - 0s 2ms/step - loss: 0.3638 - binary_accuracy: 0.8991\n",
            "Epoch 92/100\n",
            "43/43 [==============================] - 0s 2ms/step - loss: 0.1936 - binary_accuracy: 0.9296\n",
            "Epoch 93/100\n",
            "43/43 [==============================] - 0s 2ms/step - loss: 0.1881 - binary_accuracy: 0.9319\n",
            "Epoch 94/100\n",
            "43/43 [==============================] - 0s 2ms/step - loss: 0.1787 - binary_accuracy: 0.9296\n",
            "Epoch 95/100\n",
            "43/43 [==============================] - 0s 2ms/step - loss: 0.2578 - binary_accuracy: 0.9343\n",
            "Epoch 96/100\n",
            "43/43 [==============================] - 0s 2ms/step - loss: 0.2161 - binary_accuracy: 0.9343\n",
            "Epoch 97/100\n",
            "43/43 [==============================] - 0s 2ms/step - loss: 0.2516 - binary_accuracy: 0.9319\n",
            "Epoch 98/100\n",
            "43/43 [==============================] - 0s 2ms/step - loss: 0.2288 - binary_accuracy: 0.9343\n",
            "Epoch 99/100\n",
            "43/43 [==============================] - 0s 2ms/step - loss: 0.2699 - binary_accuracy: 0.9437\n",
            "Epoch 100/100\n",
            "43/43 [==============================] - 0s 2ms/step - loss: 0.2084 - binary_accuracy: 0.9343\n"
          ]
        },
        {
          "output_type": "execute_result",
          "data": {
            "text/plain": [
              "<keras.callbacks.History at 0x7fe91ce50c90>"
            ]
          },
          "metadata": {},
          "execution_count": 24
        }
      ]
    },
    {
      "cell_type": "code",
      "source": [
        "previsoes = classificador.predict(previsores_teste)\n",
        "previsoes = (previsoes > 0.5)\n",
        "previsoes"
      ],
      "metadata": {
        "colab": {
          "base_uri": "https://localhost:8080/"
        },
        "id": "LejDT6VJ51zV",
        "outputId": "4ececb44-3d0f-4a72-8e59-5c18186490c0"
      },
      "execution_count": 27,
      "outputs": [
        {
          "output_type": "execute_result",
          "data": {
            "text/plain": [
              "array([[False],\n",
              "       [False],\n",
              "       [ True],\n",
              "       [False],\n",
              "       [False],\n",
              "       [ True],\n",
              "       [False],\n",
              "       [False],\n",
              "       [False],\n",
              "       [ True],\n",
              "       [ True],\n",
              "       [False],\n",
              "       [False],\n",
              "       [False],\n",
              "       [ True],\n",
              "       [False],\n",
              "       [False],\n",
              "       [ True],\n",
              "       [False],\n",
              "       [ True],\n",
              "       [ True],\n",
              "       [ True],\n",
              "       [False],\n",
              "       [ True],\n",
              "       [False],\n",
              "       [False],\n",
              "       [False],\n",
              "       [ True],\n",
              "       [False],\n",
              "       [False],\n",
              "       [False],\n",
              "       [ True],\n",
              "       [ True],\n",
              "       [False],\n",
              "       [ True],\n",
              "       [False],\n",
              "       [ True],\n",
              "       [ True],\n",
              "       [ True],\n",
              "       [False],\n",
              "       [False],\n",
              "       [False],\n",
              "       [False],\n",
              "       [False],\n",
              "       [ True],\n",
              "       [ True],\n",
              "       [ True],\n",
              "       [False],\n",
              "       [False],\n",
              "       [False],\n",
              "       [ True],\n",
              "       [False],\n",
              "       [False],\n",
              "       [False],\n",
              "       [False],\n",
              "       [False],\n",
              "       [False],\n",
              "       [ True],\n",
              "       [ True],\n",
              "       [False],\n",
              "       [False],\n",
              "       [ True],\n",
              "       [ True],\n",
              "       [ True],\n",
              "       [False],\n",
              "       [ True],\n",
              "       [False],\n",
              "       [False],\n",
              "       [ True],\n",
              "       [ True],\n",
              "       [False],\n",
              "       [False],\n",
              "       [ True],\n",
              "       [ True],\n",
              "       [ True],\n",
              "       [False],\n",
              "       [False],\n",
              "       [False],\n",
              "       [ True],\n",
              "       [ True],\n",
              "       [ True],\n",
              "       [ True],\n",
              "       [ True],\n",
              "       [False],\n",
              "       [ True],\n",
              "       [False],\n",
              "       [ True],\n",
              "       [ True],\n",
              "       [ True],\n",
              "       [ True],\n",
              "       [ True],\n",
              "       [ True],\n",
              "       [ True],\n",
              "       [False],\n",
              "       [ True],\n",
              "       [False],\n",
              "       [ True],\n",
              "       [ True],\n",
              "       [ True],\n",
              "       [ True],\n",
              "       [False],\n",
              "       [ True],\n",
              "       [ True],\n",
              "       [ True],\n",
              "       [False],\n",
              "       [ True],\n",
              "       [False],\n",
              "       [ True],\n",
              "       [ True],\n",
              "       [ True],\n",
              "       [False],\n",
              "       [False],\n",
              "       [False],\n",
              "       [False],\n",
              "       [False],\n",
              "       [ True],\n",
              "       [False],\n",
              "       [ True],\n",
              "       [ True],\n",
              "       [False],\n",
              "       [False],\n",
              "       [False],\n",
              "       [ True],\n",
              "       [False],\n",
              "       [False],\n",
              "       [False],\n",
              "       [False],\n",
              "       [ True],\n",
              "       [ True],\n",
              "       [False],\n",
              "       [ True],\n",
              "       [ True],\n",
              "       [ True],\n",
              "       [ True],\n",
              "       [ True],\n",
              "       [ True],\n",
              "       [ True],\n",
              "       [ True],\n",
              "       [False],\n",
              "       [ True],\n",
              "       [ True],\n",
              "       [False],\n",
              "       [False]])"
            ]
          },
          "metadata": {},
          "execution_count": 27
        }
      ]
    },
    {
      "cell_type": "code",
      "source": [
        "from sklearn.metrics import confusion_matrix, accuracy_score\n",
        "precisao = accuracy_score(classe_teste, previsoes)\n",
        "matriz_confusao = confusion_matrix(classe_teste, previsoes)\n",
        "print(precisao)\n",
        "print(matriz_confusao)"
      ],
      "metadata": {
        "colab": {
          "base_uri": "https://localhost:8080/"
        },
        "id": "Fj7uLSYz6zuT",
        "outputId": "2f5dda39-5e6c-490f-e9ac-a0a4cb4ebdc2"
      },
      "execution_count": 28,
      "outputs": [
        {
          "output_type": "stream",
          "name": "stdout",
          "text": [
            "0.8391608391608392\n",
            "[[51  4]\n",
            " [19 69]]\n"
          ]
        }
      ]
    },
    {
      "cell_type": "code",
      "source": [
        "resultado = classificador.evaluate (previsores_teste, classe_teste)"
      ],
      "metadata": {
        "colab": {
          "base_uri": "https://localhost:8080/"
        },
        "id": "xGXY6-t-8LX6",
        "outputId": "fc162038-a764-465f-83c0-ff01f4ad5cb8"
      },
      "execution_count": 29,
      "outputs": [
        {
          "output_type": "stream",
          "name": "stdout",
          "text": [
            "5/5 [==============================] - 0s 4ms/step - loss: 0.6224 - binary_accuracy: 0.8392\n"
          ]
        }
      ]
    }
  ]
}