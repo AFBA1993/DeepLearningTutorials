{
  "nbformat": 4,
  "nbformat_minor": 0,
  "metadata": {
    "colab": {
      "name": "breast_cancer_simples.ipynb",
      "provenance": [],
      "collapsed_sections": [],
      "mount_file_id": "https://github.com/AFBA1993/DeepLearningTutorials/blob/main/FFNN_BreastCancer/breast_cancer_simples.ipynb",
      "authorship_tag": "ABX9TyPNKWeT20bF6x5ocIPD7/ZN",
      "include_colab_link": true
    },
    "kernelspec": {
      "name": "python3",
      "display_name": "Python 3"
    },
    "language_info": {
      "name": "python"
    }
  },
  "cells": [
    {
      "cell_type": "markdown",
      "metadata": {
        "id": "view-in-github",
        "colab_type": "text"
      },
      "source": [
        "<a href=\"https://colab.research.google.com/github/AFBA1993/DeepLearningTutorials/blob/main/FFNN_BreastCancer/breast_cancer_simples.ipynb\" target=\"_parent\"><img src=\"https://colab.research.google.com/assets/colab-badge.svg\" alt=\"Open In Colab\"/></a>"
      ]
    },
    {
      "cell_type": "code",
      "execution_count": null,
      "metadata": {
        "id": "Mc_ubhP4wLKm"
      },
      "outputs": [],
      "source": [
        "import pandas as pd\n",
        "from sklearn.model_selection import train_test_split\n",
        "import keras\n",
        "from keras.models import Sequential\n",
        "from keras.layers import Dense\n"
      ]
    },
    {
      "cell_type": "code",
      "source": [
        "previsores=pd.read_csv(\"/content/drive/MyDrive/UdemyDeepCSVs/entradas_breast.csv\")\n",
        "classe=pd.read_csv(\"/content/drive/MyDrive/UdemyDeepCSVs/saidas_breast.csv\")"
      ],
      "metadata": {
        "id": "kSQkNuVGxNmJ"
      },
      "execution_count": 5,
      "outputs": []
    },
    {
      "cell_type": "code",
      "source": [
        "previsores_treinamento, previsores_teste, classe_treinamento, classe_teste \\\n",
        "= train_test_split( previsores, classe, test_size = 0.25)"
      ],
      "metadata": {
        "id": "cBM2DJwqzAep"
      },
      "execution_count": 6,
      "outputs": []
    },
    {
      "cell_type": "code",
      "source": [
        "classificador = Sequential()\n",
        "classificador.add(Dense(units = 16, activation='relu',\n",
        "                        kernel_initializer = \"random_uniform\",\n",
        "                        input_dim = 30))\n",
        "classificador.add(Dense(units = 1, activation = 'sigmoid'))"
      ],
      "metadata": {
        "id": "Dz0xLLBy0-tF"
      },
      "execution_count": 7,
      "outputs": []
    },
    {
      "cell_type": "code",
      "source": [
        "classificador.compile(optimizer = 'adam', loss = 'binary_crossentropy',\n",
        "                      metrics = ['binary_accuracy'])"
      ],
      "metadata": {
        "id": "5B18qPUH3egH"
      },
      "execution_count": 8,
      "outputs": []
    },
    {
      "cell_type": "code",
      "source": [
        "classificador.fit(previsores_treinamento, classe_treinamento,\n",
        "                  batch_size =10, epochs = 100)"
      ],
      "metadata": {
        "colab": {
          "base_uri": "https://localhost:8080/"
        },
        "id": "_qSntAHY4tVi",
        "outputId": "111390d4-c878-4c16-9248-59f325b2070d"
      },
      "execution_count": 9,
      "outputs": [
        {
          "output_type": "stream",
          "name": "stdout",
          "text": [
            "Epoch 1/100\n",
            "43/43 [==============================] - 1s 2ms/step - loss: 9.8834 - binary_accuracy: 0.6502\n",
            "Epoch 2/100\n",
            "43/43 [==============================] - 0s 2ms/step - loss: 1.4009 - binary_accuracy: 0.7606\n",
            "Epoch 3/100\n",
            "43/43 [==============================] - 0s 2ms/step - loss: 0.7222 - binary_accuracy: 0.8216\n",
            "Epoch 4/100\n",
            "43/43 [==============================] - 0s 2ms/step - loss: 0.7218 - binary_accuracy: 0.8263\n",
            "Epoch 5/100\n",
            "43/43 [==============================] - 0s 2ms/step - loss: 0.4272 - binary_accuracy: 0.8568\n",
            "Epoch 6/100\n",
            "43/43 [==============================] - 0s 2ms/step - loss: 0.4220 - binary_accuracy: 0.8850\n",
            "Epoch 7/100\n",
            "43/43 [==============================] - 0s 2ms/step - loss: 0.4216 - binary_accuracy: 0.8709\n",
            "Epoch 8/100\n",
            "43/43 [==============================] - 0s 2ms/step - loss: 0.3607 - binary_accuracy: 0.8897\n",
            "Epoch 9/100\n",
            "43/43 [==============================] - 0s 2ms/step - loss: 0.2486 - binary_accuracy: 0.9131\n",
            "Epoch 10/100\n",
            "43/43 [==============================] - 0s 2ms/step - loss: 0.2498 - binary_accuracy: 0.9178\n",
            "Epoch 11/100\n",
            "43/43 [==============================] - 0s 2ms/step - loss: 0.4134 - binary_accuracy: 0.8662\n",
            "Epoch 12/100\n",
            "43/43 [==============================] - 0s 2ms/step - loss: 0.4874 - binary_accuracy: 0.8779\n",
            "Epoch 13/100\n",
            "43/43 [==============================] - 0s 2ms/step - loss: 0.3233 - binary_accuracy: 0.8991\n",
            "Epoch 14/100\n",
            "43/43 [==============================] - 0s 2ms/step - loss: 0.2724 - binary_accuracy: 0.9131\n",
            "Epoch 15/100\n",
            "43/43 [==============================] - 0s 2ms/step - loss: 0.3224 - binary_accuracy: 0.9014\n",
            "Epoch 16/100\n",
            "43/43 [==============================] - 0s 2ms/step - loss: 0.5678 - binary_accuracy: 0.8545\n",
            "Epoch 17/100\n",
            "43/43 [==============================] - 0s 2ms/step - loss: 0.2944 - binary_accuracy: 0.9014\n",
            "Epoch 18/100\n",
            "43/43 [==============================] - 0s 2ms/step - loss: 0.2806 - binary_accuracy: 0.9038\n",
            "Epoch 19/100\n",
            "43/43 [==============================] - 0s 2ms/step - loss: 0.3451 - binary_accuracy: 0.8944\n",
            "Epoch 20/100\n",
            "43/43 [==============================] - 0s 2ms/step - loss: 0.2927 - binary_accuracy: 0.8991\n",
            "Epoch 21/100\n",
            "43/43 [==============================] - 0s 2ms/step - loss: 0.3877 - binary_accuracy: 0.8850\n",
            "Epoch 22/100\n",
            "43/43 [==============================] - 0s 2ms/step - loss: 0.3832 - binary_accuracy: 0.8920\n",
            "Epoch 23/100\n",
            "43/43 [==============================] - 0s 2ms/step - loss: 0.3616 - binary_accuracy: 0.8850\n",
            "Epoch 24/100\n",
            "43/43 [==============================] - 0s 2ms/step - loss: 0.3508 - binary_accuracy: 0.9014\n",
            "Epoch 25/100\n",
            "43/43 [==============================] - 0s 2ms/step - loss: 0.2622 - binary_accuracy: 0.9131\n",
            "Epoch 26/100\n",
            "43/43 [==============================] - 0s 2ms/step - loss: 0.3597 - binary_accuracy: 0.9038\n",
            "Epoch 27/100\n",
            "43/43 [==============================] - 0s 2ms/step - loss: 0.5072 - binary_accuracy: 0.8638\n",
            "Epoch 28/100\n",
            "43/43 [==============================] - 0s 2ms/step - loss: 0.3103 - binary_accuracy: 0.9061\n",
            "Epoch 29/100\n",
            "43/43 [==============================] - 0s 2ms/step - loss: 0.2822 - binary_accuracy: 0.9061\n",
            "Epoch 30/100\n",
            "43/43 [==============================] - 0s 2ms/step - loss: 0.2414 - binary_accuracy: 0.9155\n",
            "Epoch 31/100\n",
            "43/43 [==============================] - 0s 2ms/step - loss: 0.3256 - binary_accuracy: 0.9038\n",
            "Epoch 32/100\n",
            "43/43 [==============================] - 0s 2ms/step - loss: 0.3577 - binary_accuracy: 0.9155\n",
            "Epoch 33/100\n",
            "43/43 [==============================] - 0s 2ms/step - loss: 0.7597 - binary_accuracy: 0.8404\n",
            "Epoch 34/100\n",
            "43/43 [==============================] - 0s 2ms/step - loss: 0.4632 - binary_accuracy: 0.8803\n",
            "Epoch 35/100\n",
            "43/43 [==============================] - 0s 2ms/step - loss: 0.3316 - binary_accuracy: 0.9038\n",
            "Epoch 36/100\n",
            "43/43 [==============================] - 0s 2ms/step - loss: 0.3041 - binary_accuracy: 0.9061\n",
            "Epoch 37/100\n",
            "43/43 [==============================] - 0s 2ms/step - loss: 0.3637 - binary_accuracy: 0.9131\n",
            "Epoch 38/100\n",
            "43/43 [==============================] - 0s 2ms/step - loss: 0.4623 - binary_accuracy: 0.8967\n",
            "Epoch 39/100\n",
            "43/43 [==============================] - 0s 2ms/step - loss: 0.6930 - binary_accuracy: 0.8380\n",
            "Epoch 40/100\n",
            "43/43 [==============================] - 0s 2ms/step - loss: 0.8626 - binary_accuracy: 0.8568\n",
            "Epoch 41/100\n",
            "43/43 [==============================] - 0s 2ms/step - loss: 0.4698 - binary_accuracy: 0.8756\n",
            "Epoch 42/100\n",
            "43/43 [==============================] - 0s 2ms/step - loss: 0.2299 - binary_accuracy: 0.9343\n",
            "Epoch 43/100\n",
            "43/43 [==============================] - 0s 2ms/step - loss: 0.2850 - binary_accuracy: 0.9202\n",
            "Epoch 44/100\n",
            "43/43 [==============================] - 0s 2ms/step - loss: 0.2677 - binary_accuracy: 0.9272\n",
            "Epoch 45/100\n",
            "43/43 [==============================] - 0s 2ms/step - loss: 0.3072 - binary_accuracy: 0.9155\n",
            "Epoch 46/100\n",
            "43/43 [==============================] - 0s 2ms/step - loss: 0.2964 - binary_accuracy: 0.9061\n",
            "Epoch 47/100\n",
            "43/43 [==============================] - 0s 2ms/step - loss: 0.3347 - binary_accuracy: 0.9038\n",
            "Epoch 48/100\n",
            "43/43 [==============================] - 0s 2ms/step - loss: 0.3856 - binary_accuracy: 0.9038\n",
            "Epoch 49/100\n",
            "43/43 [==============================] - 0s 2ms/step - loss: 0.1928 - binary_accuracy: 0.9413\n",
            "Epoch 50/100\n",
            "43/43 [==============================] - 0s 2ms/step - loss: 0.5627 - binary_accuracy: 0.8498\n",
            "Epoch 51/100\n",
            "43/43 [==============================] - 0s 2ms/step - loss: 0.3481 - binary_accuracy: 0.9178\n",
            "Epoch 52/100\n",
            "43/43 [==============================] - 0s 2ms/step - loss: 0.2530 - binary_accuracy: 0.9272\n",
            "Epoch 53/100\n",
            "43/43 [==============================] - 0s 2ms/step - loss: 0.2564 - binary_accuracy: 0.9296\n",
            "Epoch 54/100\n",
            "43/43 [==============================] - 0s 2ms/step - loss: 0.3115 - binary_accuracy: 0.9155\n",
            "Epoch 55/100\n",
            "43/43 [==============================] - 0s 2ms/step - loss: 0.2672 - binary_accuracy: 0.9249\n",
            "Epoch 56/100\n",
            "43/43 [==============================] - 0s 2ms/step - loss: 0.3777 - binary_accuracy: 0.9202\n",
            "Epoch 57/100\n",
            "43/43 [==============================] - 0s 2ms/step - loss: 0.3025 - binary_accuracy: 0.9343\n",
            "Epoch 58/100\n",
            "43/43 [==============================] - 0s 2ms/step - loss: 0.5447 - binary_accuracy: 0.8615\n",
            "Epoch 59/100\n",
            "43/43 [==============================] - 0s 2ms/step - loss: 0.5451 - binary_accuracy: 0.8850\n",
            "Epoch 60/100\n",
            "43/43 [==============================] - 0s 2ms/step - loss: 0.5082 - binary_accuracy: 0.8826\n",
            "Epoch 61/100\n",
            "43/43 [==============================] - 0s 2ms/step - loss: 0.2648 - binary_accuracy: 0.9343\n",
            "Epoch 62/100\n",
            "43/43 [==============================] - 0s 2ms/step - loss: 0.2065 - binary_accuracy: 0.9296\n",
            "Epoch 63/100\n",
            "43/43 [==============================] - 0s 2ms/step - loss: 0.2634 - binary_accuracy: 0.9249\n",
            "Epoch 64/100\n",
            "43/43 [==============================] - 0s 2ms/step - loss: 0.2771 - binary_accuracy: 0.9108\n",
            "Epoch 65/100\n",
            "43/43 [==============================] - 0s 2ms/step - loss: 0.2285 - binary_accuracy: 0.9296\n",
            "Epoch 66/100\n",
            "43/43 [==============================] - 0s 2ms/step - loss: 0.4972 - binary_accuracy: 0.8920\n",
            "Epoch 67/100\n",
            "43/43 [==============================] - 0s 2ms/step - loss: 0.2718 - binary_accuracy: 0.9155\n",
            "Epoch 68/100\n",
            "43/43 [==============================] - 0s 2ms/step - loss: 0.3121 - binary_accuracy: 0.9343\n",
            "Epoch 69/100\n",
            "43/43 [==============================] - 0s 2ms/step - loss: 0.2122 - binary_accuracy: 0.9343\n",
            "Epoch 70/100\n",
            "43/43 [==============================] - 0s 2ms/step - loss: 0.2328 - binary_accuracy: 0.9178\n",
            "Epoch 71/100\n",
            "43/43 [==============================] - 0s 2ms/step - loss: 0.2952 - binary_accuracy: 0.9131\n",
            "Epoch 72/100\n",
            "43/43 [==============================] - 0s 2ms/step - loss: 0.2418 - binary_accuracy: 0.9343\n",
            "Epoch 73/100\n",
            "43/43 [==============================] - 0s 2ms/step - loss: 0.2418 - binary_accuracy: 0.9319\n",
            "Epoch 74/100\n",
            "43/43 [==============================] - 0s 2ms/step - loss: 0.2131 - binary_accuracy: 0.9413\n",
            "Epoch 75/100\n",
            "43/43 [==============================] - 0s 2ms/step - loss: 0.4603 - binary_accuracy: 0.8920\n",
            "Epoch 76/100\n",
            "43/43 [==============================] - 0s 2ms/step - loss: 0.3460 - binary_accuracy: 0.8944\n",
            "Epoch 77/100\n",
            "43/43 [==============================] - 0s 2ms/step - loss: 0.2987 - binary_accuracy: 0.9061\n",
            "Epoch 78/100\n",
            "43/43 [==============================] - 0s 2ms/step - loss: 0.2464 - binary_accuracy: 0.9202\n",
            "Epoch 79/100\n",
            "43/43 [==============================] - 0s 2ms/step - loss: 0.2808 - binary_accuracy: 0.9249\n",
            "Epoch 80/100\n",
            "43/43 [==============================] - 0s 3ms/step - loss: 0.2310 - binary_accuracy: 0.9202\n",
            "Epoch 81/100\n",
            "43/43 [==============================] - 0s 3ms/step - loss: 0.3457 - binary_accuracy: 0.9155\n",
            "Epoch 82/100\n",
            "43/43 [==============================] - 0s 2ms/step - loss: 0.3450 - binary_accuracy: 0.8944\n",
            "Epoch 83/100\n",
            "43/43 [==============================] - 0s 2ms/step - loss: 0.4249 - binary_accuracy: 0.8850\n",
            "Epoch 84/100\n",
            "43/43 [==============================] - 0s 4ms/step - loss: 0.6047 - binary_accuracy: 0.8897\n",
            "Epoch 85/100\n",
            "43/43 [==============================] - 0s 2ms/step - loss: 0.3611 - binary_accuracy: 0.9225\n",
            "Epoch 86/100\n",
            "43/43 [==============================] - 0s 2ms/step - loss: 0.2616 - binary_accuracy: 0.9296\n",
            "Epoch 87/100\n",
            "43/43 [==============================] - 0s 4ms/step - loss: 0.2097 - binary_accuracy: 0.9296\n",
            "Epoch 88/100\n",
            "43/43 [==============================] - 0s 4ms/step - loss: 0.2029 - binary_accuracy: 0.9390\n",
            "Epoch 89/100\n",
            "43/43 [==============================] - 0s 4ms/step - loss: 0.3999 - binary_accuracy: 0.9061\n",
            "Epoch 90/100\n",
            "43/43 [==============================] - 0s 3ms/step - loss: 0.7259 - binary_accuracy: 0.8638\n",
            "Epoch 91/100\n",
            "43/43 [==============================] - 0s 3ms/step - loss: 0.2343 - binary_accuracy: 0.9319\n",
            "Epoch 92/100\n",
            "43/43 [==============================] - 0s 5ms/step - loss: 0.1960 - binary_accuracy: 0.9343\n",
            "Epoch 93/100\n",
            "43/43 [==============================] - 0s 5ms/step - loss: 0.3592 - binary_accuracy: 0.9038\n",
            "Epoch 94/100\n",
            "43/43 [==============================] - 0s 2ms/step - loss: 0.3065 - binary_accuracy: 0.9131\n",
            "Epoch 95/100\n",
            "43/43 [==============================] - 0s 2ms/step - loss: 0.1817 - binary_accuracy: 0.9413\n",
            "Epoch 96/100\n",
            "43/43 [==============================] - 0s 3ms/step - loss: 0.2125 - binary_accuracy: 0.9366\n",
            "Epoch 97/100\n",
            "43/43 [==============================] - 0s 4ms/step - loss: 0.2660 - binary_accuracy: 0.9225\n",
            "Epoch 98/100\n",
            "43/43 [==============================] - 0s 5ms/step - loss: 0.2598 - binary_accuracy: 0.9202\n",
            "Epoch 99/100\n",
            "43/43 [==============================] - 0s 5ms/step - loss: 0.2736 - binary_accuracy: 0.9225\n",
            "Epoch 100/100\n",
            "43/43 [==============================] - 0s 3ms/step - loss: 0.2026 - binary_accuracy: 0.9366\n"
          ]
        },
        {
          "output_type": "execute_result",
          "data": {
            "text/plain": [
              "<keras.callbacks.History at 0x7f4c167e1390>"
            ]
          },
          "metadata": {},
          "execution_count": 9
        }
      ]
    },
    {
      "cell_type": "code",
      "source": [
        "previsoes = classificador.predict(previsores_teste)\n",
        "previsoes = (previsoes > 0.5)"
      ],
      "metadata": {
        "id": "LejDT6VJ51zV"
      },
      "execution_count": 10,
      "outputs": []
    },
    {
      "cell_type": "code",
      "source": [
        "from sklearn.metrics import confusion_matrix, accuracy_score\n",
        "precisao = accuracy_score(classe_teste, previsoes)\n",
        "matriz_confusao = confusion_matrix(classe_teste, previsoes)\n",
        "print(precisao)\n",
        "print(matriz_confusao)"
      ],
      "metadata": {
        "colab": {
          "base_uri": "https://localhost:8080/"
        },
        "id": "Fj7uLSYz6zuT",
        "outputId": "36d48117-0e40-4caf-fa26-f2dd0081a59f"
      },
      "execution_count": 11,
      "outputs": [
        {
          "output_type": "stream",
          "name": "stdout",
          "text": [
            "0.8951048951048951\n",
            "[[41  7]\n",
            " [ 8 87]]\n"
          ]
        }
      ]
    },
    {
      "cell_type": "code",
      "source": [
        "resultado = classificador.evaluate (previsores_teste, classe_teste)"
      ],
      "metadata": {
        "colab": {
          "base_uri": "https://localhost:8080/"
        },
        "id": "xGXY6-t-8LX6",
        "outputId": "ec436d25-a721-404f-f05d-8353c48922b6"
      },
      "execution_count": 12,
      "outputs": [
        {
          "output_type": "stream",
          "name": "stdout",
          "text": [
            "5/5 [==============================] - 0s 2ms/step - loss: 0.4843 - binary_accuracy: 0.8951\n"
          ]
        }
      ]
    }
  ]
}