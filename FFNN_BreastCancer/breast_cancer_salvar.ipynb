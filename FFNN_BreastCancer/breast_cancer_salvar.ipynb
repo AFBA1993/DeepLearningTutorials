{
  "nbformat": 4,
  "nbformat_minor": 0,
  "metadata": {
    "colab": {
      "name": "breast_cancer_salvar.ipynb",
      "provenance": [],
      "mount_file_id": "1F-3kdc1JwwEyvwsKEJuSStyShKGKDKxi",
      "authorship_tag": "ABX9TyOGPa5pzqyK6/ReMA30ZN4P",
      "include_colab_link": true
    },
    "kernelspec": {
      "name": "python3",
      "display_name": "Python 3"
    },
    "language_info": {
      "name": "python"
    }
  },
  "cells": [
    {
      "cell_type": "markdown",
      "metadata": {
        "id": "view-in-github",
        "colab_type": "text"
      },
      "source": [
        "<a href=\"https://colab.research.google.com/github/AFBA1993/DeepLearningTutorials/blob/main/FFNN_BreastCancer/breast_cancer_salvar.ipynb\" target=\"_parent\"><img src=\"https://colab.research.google.com/assets/colab-badge.svg\" alt=\"Open In Colab\"/></a>"
      ]
    },
    {
      "cell_type": "code",
      "execution_count": 2,
      "metadata": {
        "id": "Yj82w1cMiNwm"
      },
      "outputs": [],
      "source": [
        "import pandas as pd \n",
        "from keras.models import Sequential\n",
        "from keras.layers import Dense, Dropout"
      ]
    },
    {
      "cell_type": "code",
      "source": [
        "previsores=pd.read_csv(\"/content/drive/MyDrive/UdemyDeepCSVs/entradas_breast.csv\")\n",
        "classe=pd.read_csv(\"/content/drive/MyDrive/UdemyDeepCSVs/saidas_breast.csv\")"
      ],
      "metadata": {
        "id": "FqeE6ot7ipby"
      },
      "execution_count": 3,
      "outputs": []
    },
    {
      "cell_type": "code",
      "source": [
        "classificador = Sequential()\n",
        "classificador.add(Dense(units = 8, activation= 'relu',\n",
        "                      kernel_initializer = 'normal',\n",
        "                      input_dim = 30))\n",
        "classificador.add(Dropout(0.2))\n",
        "classificador.add(Dense(units = 8, activation = 'relu',\n",
        "                      kernel_initializer = 'normal'))\n",
        "classificador.add(Dropout(0.2))\n",
        "classificador.add(Dense(units = 1, activation = 'sigmoid'))\n",
        "\n",
        "classificador.compile(optimizer = 'adam', loss = 'binary_crossentropy',\n",
        "                    metrics = ['binary_accuracy'])\n",
        "classificador.fit(previsores, classe, batch_size = 10, epochs = 100)"
      ],
      "metadata": {
        "colab": {
          "base_uri": "https://localhost:8080/"
        },
        "id": "lVHKZR0ri2-r",
        "outputId": "f9dc7de0-878c-4ffa-ebab-931728a963ab"
      },
      "execution_count": 4,
      "outputs": [
        {
          "output_type": "stream",
          "name": "stdout",
          "text": [
            "Epoch 1/100\n",
            "57/57 [==============================] - 1s 1ms/step - loss: 5.5935 - binary_accuracy: 0.4552\n",
            "Epoch 2/100\n",
            "57/57 [==============================] - 0s 1ms/step - loss: 1.3429 - binary_accuracy: 0.5606\n",
            "Epoch 3/100\n",
            "57/57 [==============================] - 0s 1ms/step - loss: 0.8186 - binary_accuracy: 0.6151\n",
            "Epoch 4/100\n",
            "57/57 [==============================] - 0s 1ms/step - loss: 0.6881 - binary_accuracy: 0.6450\n",
            "Epoch 5/100\n",
            "57/57 [==============================] - 0s 1ms/step - loss: 0.6691 - binary_accuracy: 0.6784\n",
            "Epoch 6/100\n",
            "57/57 [==============================] - 0s 1ms/step - loss: 0.6236 - binary_accuracy: 0.6907\n",
            "Epoch 7/100\n",
            "57/57 [==============================] - 0s 1ms/step - loss: 0.6666 - binary_accuracy: 0.6380\n",
            "Epoch 8/100\n",
            "57/57 [==============================] - 0s 1ms/step - loss: 0.6279 - binary_accuracy: 0.6503\n",
            "Epoch 9/100\n",
            "57/57 [==============================] - 0s 2ms/step - loss: 0.5317 - binary_accuracy: 0.7346\n",
            "Epoch 10/100\n",
            "57/57 [==============================] - 0s 1ms/step - loss: 0.6006 - binary_accuracy: 0.6801\n",
            "Epoch 11/100\n",
            "57/57 [==============================] - 0s 2ms/step - loss: 0.5702 - binary_accuracy: 0.7083\n",
            "Epoch 12/100\n",
            "57/57 [==============================] - 0s 1ms/step - loss: 0.5564 - binary_accuracy: 0.7135\n",
            "Epoch 13/100\n",
            "57/57 [==============================] - 0s 1ms/step - loss: 0.5251 - binary_accuracy: 0.7346\n",
            "Epoch 14/100\n",
            "57/57 [==============================] - 0s 1ms/step - loss: 0.5531 - binary_accuracy: 0.7100\n",
            "Epoch 15/100\n",
            "57/57 [==============================] - 0s 1ms/step - loss: 0.5180 - binary_accuracy: 0.7223\n",
            "Epoch 16/100\n",
            "57/57 [==============================] - 0s 2ms/step - loss: 0.5103 - binary_accuracy: 0.7346\n",
            "Epoch 17/100\n",
            "57/57 [==============================] - 0s 2ms/step - loss: 0.4957 - binary_accuracy: 0.7381\n",
            "Epoch 18/100\n",
            "57/57 [==============================] - 0s 1ms/step - loss: 0.5277 - binary_accuracy: 0.7715\n",
            "Epoch 19/100\n",
            "57/57 [==============================] - 0s 1ms/step - loss: 0.4748 - binary_accuracy: 0.7768\n",
            "Epoch 20/100\n",
            "57/57 [==============================] - 0s 1ms/step - loss: 0.4918 - binary_accuracy: 0.7680\n",
            "Epoch 21/100\n",
            "57/57 [==============================] - 0s 1ms/step - loss: 0.4861 - binary_accuracy: 0.7891\n",
            "Epoch 22/100\n",
            "57/57 [==============================] - 0s 2ms/step - loss: 0.4986 - binary_accuracy: 0.7680\n",
            "Epoch 23/100\n",
            "57/57 [==============================] - 0s 1ms/step - loss: 0.4759 - binary_accuracy: 0.7838\n",
            "Epoch 24/100\n",
            "57/57 [==============================] - 0s 1ms/step - loss: 0.4469 - binary_accuracy: 0.7996\n",
            "Epoch 25/100\n",
            "57/57 [==============================] - 0s 1ms/step - loss: 0.4522 - binary_accuracy: 0.7891\n",
            "Epoch 26/100\n",
            "57/57 [==============================] - 0s 1ms/step - loss: 0.4358 - binary_accuracy: 0.8172\n",
            "Epoch 27/100\n",
            "57/57 [==============================] - 0s 1ms/step - loss: 0.4298 - binary_accuracy: 0.7926\n",
            "Epoch 28/100\n",
            "57/57 [==============================] - 0s 2ms/step - loss: 0.4359 - binary_accuracy: 0.7803\n",
            "Epoch 29/100\n",
            "57/57 [==============================] - 0s 1ms/step - loss: 0.4316 - binary_accuracy: 0.8207\n",
            "Epoch 30/100\n",
            "57/57 [==============================] - 0s 1ms/step - loss: 0.4479 - binary_accuracy: 0.7891\n",
            "Epoch 31/100\n",
            "57/57 [==============================] - 0s 1ms/step - loss: 0.4068 - binary_accuracy: 0.8084\n",
            "Epoch 32/100\n",
            "57/57 [==============================] - 0s 1ms/step - loss: 0.3887 - binary_accuracy: 0.8260\n",
            "Epoch 33/100\n",
            "57/57 [==============================] - 0s 1ms/step - loss: 0.4166 - binary_accuracy: 0.8225\n",
            "Epoch 34/100\n",
            "57/57 [==============================] - 0s 2ms/step - loss: 0.4271 - binary_accuracy: 0.8172\n",
            "Epoch 35/100\n",
            "57/57 [==============================] - 0s 1ms/step - loss: 0.3781 - binary_accuracy: 0.8295\n",
            "Epoch 36/100\n",
            "57/57 [==============================] - 0s 1ms/step - loss: 0.3890 - binary_accuracy: 0.8348\n",
            "Epoch 37/100\n",
            "57/57 [==============================] - 0s 1ms/step - loss: 0.3851 - binary_accuracy: 0.8330\n",
            "Epoch 38/100\n",
            "57/57 [==============================] - 0s 1ms/step - loss: 0.3771 - binary_accuracy: 0.8524\n",
            "Epoch 39/100\n",
            "57/57 [==============================] - 0s 1ms/step - loss: 0.3648 - binary_accuracy: 0.8418\n",
            "Epoch 40/100\n",
            "57/57 [==============================] - 0s 1ms/step - loss: 0.3390 - binary_accuracy: 0.8664\n",
            "Epoch 41/100\n",
            "57/57 [==============================] - 0s 1ms/step - loss: 0.3414 - binary_accuracy: 0.8629\n",
            "Epoch 42/100\n",
            "57/57 [==============================] - 0s 1ms/step - loss: 0.3419 - binary_accuracy: 0.8647\n",
            "Epoch 43/100\n",
            "57/57 [==============================] - 0s 2ms/step - loss: 0.3717 - binary_accuracy: 0.8348\n",
            "Epoch 44/100\n",
            "57/57 [==============================] - 0s 1ms/step - loss: 0.3303 - binary_accuracy: 0.8612\n",
            "Epoch 45/100\n",
            "57/57 [==============================] - 0s 1ms/step - loss: 0.3317 - binary_accuracy: 0.8647\n",
            "Epoch 46/100\n",
            "57/57 [==============================] - 0s 2ms/step - loss: 0.3395 - binary_accuracy: 0.8559\n",
            "Epoch 47/100\n",
            "57/57 [==============================] - 0s 1ms/step - loss: 0.3362 - binary_accuracy: 0.8629\n",
            "Epoch 48/100\n",
            "57/57 [==============================] - 0s 1ms/step - loss: 0.3373 - binary_accuracy: 0.8576\n",
            "Epoch 49/100\n",
            "57/57 [==============================] - 0s 1ms/step - loss: 0.3170 - binary_accuracy: 0.8699\n",
            "Epoch 50/100\n",
            "57/57 [==============================] - 0s 1ms/step - loss: 0.3201 - binary_accuracy: 0.8506\n",
            "Epoch 51/100\n",
            "57/57 [==============================] - 0s 1ms/step - loss: 0.2803 - binary_accuracy: 0.8822\n",
            "Epoch 52/100\n",
            "57/57 [==============================] - 0s 1ms/step - loss: 0.2770 - binary_accuracy: 0.8893\n",
            "Epoch 53/100\n",
            "57/57 [==============================] - 0s 1ms/step - loss: 0.3213 - binary_accuracy: 0.8629\n",
            "Epoch 54/100\n",
            "57/57 [==============================] - 0s 2ms/step - loss: 0.2937 - binary_accuracy: 0.8699\n",
            "Epoch 55/100\n",
            "57/57 [==============================] - 0s 1ms/step - loss: 0.3120 - binary_accuracy: 0.8612\n",
            "Epoch 56/100\n",
            "57/57 [==============================] - 0s 1ms/step - loss: 0.2815 - binary_accuracy: 0.8699\n",
            "Epoch 57/100\n",
            "57/57 [==============================] - 0s 2ms/step - loss: 0.2986 - binary_accuracy: 0.8699\n",
            "Epoch 58/100\n",
            "57/57 [==============================] - 0s 1ms/step - loss: 0.2711 - binary_accuracy: 0.8875\n",
            "Epoch 59/100\n",
            "57/57 [==============================] - 0s 1ms/step - loss: 0.2931 - binary_accuracy: 0.8717\n",
            "Epoch 60/100\n",
            "57/57 [==============================] - 0s 2ms/step - loss: 0.2829 - binary_accuracy: 0.8840\n",
            "Epoch 61/100\n",
            "57/57 [==============================] - 0s 1ms/step - loss: 0.2791 - binary_accuracy: 0.8735\n",
            "Epoch 62/100\n",
            "57/57 [==============================] - 0s 1ms/step - loss: 0.2560 - binary_accuracy: 0.8946\n",
            "Epoch 63/100\n",
            "57/57 [==============================] - 0s 1ms/step - loss: 0.2789 - binary_accuracy: 0.8787\n",
            "Epoch 64/100\n",
            "57/57 [==============================] - 0s 1ms/step - loss: 0.2691 - binary_accuracy: 0.8770\n",
            "Epoch 65/100\n",
            "57/57 [==============================] - 0s 1ms/step - loss: 0.2792 - binary_accuracy: 0.8858\n",
            "Epoch 66/100\n",
            "57/57 [==============================] - 0s 1ms/step - loss: 0.2668 - binary_accuracy: 0.8858\n",
            "Epoch 67/100\n",
            "57/57 [==============================] - 0s 2ms/step - loss: 0.2583 - binary_accuracy: 0.8893\n",
            "Epoch 68/100\n",
            "57/57 [==============================] - 0s 1ms/step - loss: 0.2781 - binary_accuracy: 0.8822\n",
            "Epoch 69/100\n",
            "57/57 [==============================] - 0s 2ms/step - loss: 0.2682 - binary_accuracy: 0.8875\n",
            "Epoch 70/100\n",
            "57/57 [==============================] - 0s 1ms/step - loss: 0.2670 - binary_accuracy: 0.8893\n",
            "Epoch 71/100\n",
            "57/57 [==============================] - 0s 1ms/step - loss: 0.2603 - binary_accuracy: 0.8858\n",
            "Epoch 72/100\n",
            "57/57 [==============================] - 0s 2ms/step - loss: 0.2831 - binary_accuracy: 0.8699\n",
            "Epoch 73/100\n",
            "57/57 [==============================] - 0s 2ms/step - loss: 0.2831 - binary_accuracy: 0.8664\n",
            "Epoch 74/100\n",
            "57/57 [==============================] - 0s 1ms/step - loss: 0.2778 - binary_accuracy: 0.8875\n",
            "Epoch 75/100\n",
            "57/57 [==============================] - 0s 1ms/step - loss: 0.2675 - binary_accuracy: 0.8840\n",
            "Epoch 76/100\n",
            "57/57 [==============================] - 0s 1ms/step - loss: 0.2557 - binary_accuracy: 0.8822\n",
            "Epoch 77/100\n",
            "57/57 [==============================] - 0s 1ms/step - loss: 0.2505 - binary_accuracy: 0.8770\n",
            "Epoch 78/100\n",
            "57/57 [==============================] - 0s 1ms/step - loss: 0.2470 - binary_accuracy: 0.8928\n",
            "Epoch 79/100\n",
            "57/57 [==============================] - 0s 1ms/step - loss: 0.2502 - binary_accuracy: 0.8893\n",
            "Epoch 80/100\n",
            "57/57 [==============================] - 0s 2ms/step - loss: 0.2405 - binary_accuracy: 0.9139\n",
            "Epoch 81/100\n",
            "57/57 [==============================] - 0s 1ms/step - loss: 0.2493 - binary_accuracy: 0.8858\n",
            "Epoch 82/100\n",
            "57/57 [==============================] - 0s 1ms/step - loss: 0.2647 - binary_accuracy: 0.8963\n",
            "Epoch 83/100\n",
            "57/57 [==============================] - 0s 1ms/step - loss: 0.2520 - binary_accuracy: 0.8963\n",
            "Epoch 84/100\n",
            "57/57 [==============================] - 0s 2ms/step - loss: 0.2397 - binary_accuracy: 0.8998\n",
            "Epoch 85/100\n",
            "57/57 [==============================] - 0s 1ms/step - loss: 0.2496 - binary_accuracy: 0.8893\n",
            "Epoch 86/100\n",
            "57/57 [==============================] - 0s 1ms/step - loss: 0.2696 - binary_accuracy: 0.8717\n",
            "Epoch 87/100\n",
            "57/57 [==============================] - 0s 2ms/step - loss: 0.2811 - binary_accuracy: 0.8805\n",
            "Epoch 88/100\n",
            "57/57 [==============================] - 0s 1ms/step - loss: 0.2959 - binary_accuracy: 0.8682\n",
            "Epoch 89/100\n",
            "57/57 [==============================] - 0s 1ms/step - loss: 0.2358 - binary_accuracy: 0.9051\n",
            "Epoch 90/100\n",
            "57/57 [==============================] - 0s 1ms/step - loss: 0.2689 - binary_accuracy: 0.8893\n",
            "Epoch 91/100\n",
            "57/57 [==============================] - 0s 1ms/step - loss: 0.2644 - binary_accuracy: 0.8717\n",
            "Epoch 92/100\n",
            "57/57 [==============================] - 0s 2ms/step - loss: 0.2626 - binary_accuracy: 0.8840\n",
            "Epoch 93/100\n",
            "57/57 [==============================] - 0s 1ms/step - loss: 0.2582 - binary_accuracy: 0.8787\n",
            "Epoch 94/100\n",
            "57/57 [==============================] - 0s 1ms/step - loss: 0.2598 - binary_accuracy: 0.8822\n",
            "Epoch 95/100\n",
            "57/57 [==============================] - 0s 2ms/step - loss: 0.2495 - binary_accuracy: 0.8981\n",
            "Epoch 96/100\n",
            "57/57 [==============================] - 0s 1ms/step - loss: 0.2479 - binary_accuracy: 0.9016\n",
            "Epoch 97/100\n",
            "57/57 [==============================] - 0s 1ms/step - loss: 0.2531 - binary_accuracy: 0.8963\n",
            "Epoch 98/100\n",
            "57/57 [==============================] - 0s 1ms/step - loss: 0.2306 - binary_accuracy: 0.8998\n",
            "Epoch 99/100\n",
            "57/57 [==============================] - 0s 1ms/step - loss: 0.2563 - binary_accuracy: 0.8928\n",
            "Epoch 100/100\n",
            "57/57 [==============================] - 0s 1ms/step - loss: 0.2465 - binary_accuracy: 0.8752\n"
          ]
        },
        {
          "output_type": "execute_result",
          "data": {
            "text/plain": [
              "<keras.callbacks.History at 0x7fe5871d1fd0>"
            ]
          },
          "metadata": {},
          "execution_count": 4
        }
      ]
    },
    {
      "cell_type": "code",
      "source": [
        "classificador_json = classificador.to_json()"
      ],
      "metadata": {
        "id": "QpjvVf7Ui8uJ"
      },
      "execution_count": 5,
      "outputs": []
    },
    {
      "cell_type": "code",
      "source": [
        "with open ('classificador_breast.json','w') as json_file:\n",
        "  json_file.write(classificador_json)"
      ],
      "metadata": {
        "id": "F6uMC0N5jcYx"
      },
      "execution_count": 6,
      "outputs": []
    },
    {
      "cell_type": "code",
      "source": [
        "classificador.save_weights('classificador_breast.h5')"
      ],
      "metadata": {
        "id": "eSxQ3ozMjo0Y"
      },
      "execution_count": 7,
      "outputs": []
    }
  ]
}