{
  "nbformat": 4,
  "nbformat_minor": 0,
  "metadata": {
    "colab": {
      "name": "reducao_rbm.ipynb",
      "provenance": [],
      "authorship_tag": "ABX9TyN9yEB49fsp6xtrimJOBtL7",
      "include_colab_link": true
    },
    "kernelspec": {
      "name": "python3",
      "display_name": "Python 3"
    },
    "language_info": {
      "name": "python"
    }
  },
  "cells": [
    {
      "cell_type": "markdown",
      "metadata": {
        "id": "view-in-github",
        "colab_type": "text"
      },
      "source": [
        "<a href=\"https://colab.research.google.com/github/AFBA1993/DeepLearningTutorials/blob/main/RBM/reducao_rbm.ipynb\" target=\"_parent\"><img src=\"https://colab.research.google.com/assets/colab-badge.svg\" alt=\"Open In Colab\"/></a>"
      ]
    },
    {
      "cell_type": "code",
      "execution_count": 3,
      "metadata": {
        "id": "i_YZHHqPe8c4"
      },
      "outputs": [],
      "source": [
        "import numpy as np\n",
        "import matplotlib.pyplot as plt\n",
        "from sklearn import datasets, metrics\n",
        "from sklearn.model_selection import train_test_split\n",
        "from sklearn.preprocessing import MinMaxScaler\n",
        "from sklearn.neural_network import BernoulliRBM\n",
        "from sklearn.naive_bayes import GaussianNB\n",
        "from sklearn.pipeline import Pipeline"
      ]
    },
    {
      "cell_type": "code",
      "source": [
        "base = datasets.load_digits()\n",
        "previsores = np.asarray(base.data, \"float32\")\n",
        "classe = base.target"
      ],
      "metadata": {
        "id": "VLCwWbLlgHoP"
      },
      "execution_count": 4,
      "outputs": []
    },
    {
      "cell_type": "code",
      "source": [
        "normalizador = MinMaxScaler(feature_range = (0,1))\n",
        "previsores = normalizador.fit_transform(previsores)"
      ],
      "metadata": {
        "id": "g8u4CqUsgn6y"
      },
      "execution_count": 5,
      "outputs": []
    },
    {
      "cell_type": "code",
      "source": [
        "previsores_treinamento, previsores_teste, classe_treinamento, classe_teste = \\\n",
        "train_test_split(previsores, classe, test_size = 0.2, random_state=0)"
      ],
      "metadata": {
        "id": "ihZ038jqg-z6"
      },
      "execution_count": 7,
      "outputs": []
    },
    {
      "cell_type": "code",
      "source": [
        "rbm = BernoulliRBM(random_state = 0)\n",
        "rbm.n_iter = 25\n",
        "rbm.n_components = 50\n",
        "naive_rbm = GaussianNB()\n",
        "classificador_rbm = Pipeline(steps = [('rbm',rbm), ('naive',naive_rbm)])\n",
        "classificador_rbm.fit(previsores_treinamento, classe_treinamento)"
      ],
      "metadata": {
        "colab": {
          "base_uri": "https://localhost:8080/"
        },
        "id": "a55fk1ZhiHUj",
        "outputId": "bf70726b-5339-454a-e76e-bae7319e5c37"
      },
      "execution_count": 8,
      "outputs": [
        {
          "output_type": "execute_result",
          "data": {
            "text/plain": [
              "Pipeline(steps=[('rbm',\n",
              "                 BernoulliRBM(n_components=50, n_iter=25, random_state=0)),\n",
              "                ('naive', GaussianNB())])"
            ]
          },
          "metadata": {},
          "execution_count": 8
        }
      ]
    },
    {
      "cell_type": "code",
      "source": [
        "plt.figure(figsize=(20,20))\n",
        "for i, comp in enumerate(rbm.components_):\n",
        "    plt.subplot(10, 10, i + 1)\n",
        "    plt.imshow(comp.reshape((8,8)), cmap=plt.cm.gray_r)\n",
        "    plt.xticks(())\n",
        "    plt.yticks(())\n",
        "plt.show()"
      ],
      "metadata": {
        "colab": {
          "base_uri": "https://localhost:8080/",
          "height": 569
        },
        "id": "GJKRbyTnkFul",
        "outputId": "ccd59b6e-13ec-4289-e104-52c39f211fee"
      },
      "execution_count": 9,
      "outputs": [
        {
          "output_type": "display_data",
          "data": {
            "image/png": "[encoded data removed]",
            "text/plain": [
              "<Figure size 1440x1440 with 50 Axes>"
            ]
          },
          "metadata": {}
        }
      ]
    },
    {
      "cell_type": "code",
      "source": [
        "previsoes_rbm = classificador_rbm.predict(previsores_teste)\n",
        "previsoes_rbm"
      ],
      "metadata": {
        "colab": {
          "base_uri": "https://localhost:8080/"
        },
        "id": "Xb_JX-VBlSjJ",
        "outputId": "7a048581-655a-400a-ed72-708c39d8cef8"
      },
      "execution_count": 10,
      "outputs": [
        {
          "output_type": "execute_result",
          "data": {
            "text/plain": [
              "array([2, 8, 2, 6, 6, 7, 1, 9, 8, 5, 2, 8, 6, 6, 6, 6, 1, 0, 5, 8, 8, 7,\n",
              "       8, 4, 7, 5, 4, 9, 2, 9, 4, 7, 6, 8, 9, 4, 3, 8, 0, 1, 8, 6, 7, 7,\n",
              "       1, 0, 7, 6, 2, 1, 9, 6, 7, 9, 0, 0, 9, 8, 6, 3, 0, 2, 3, 4, 1, 3,\n",
              "       7, 6, 9, 8, 8, 3, 5, 1, 2, 8, 2, 2, 9, 7, 2, 3, 6, 0, 5, 3, 7, 5,\n",
              "       1, 2, 9, 9, 3, 1, 7, 7, 4, 8, 5, 8, 5, 5, 2, 5, 9, 0, 9, 1, 4, 5,\n",
              "       3, 4, 8, 9, 7, 7, 8, 9, 1, 9, 2, 5, 8, 4, 6, 7, 0, 6, 8, 5, 1, 9,\n",
              "       9, 5, 9, 9, 5, 7, 5, 6, 2, 8, 6, 9, 6, 1, 5, 8, 5, 9, 9, 1, 5, 3,\n",
              "       6, 8, 8, 9, 7, 7, 6, 3, 6, 5, 6, 0, 8, 8, 9, 3, 6, 1, 0, 4, 2, 6,\n",
              "       3, 8, 6, 7, 4, 3, 6, 3, 0, 3, 3, 3, 0, 7, 7, 5, 7, 8, 0, 7, 1, 9,\n",
              "       6, 4, 5, 0, 1, 4, 6, 4, 3, 3, 0, 9, 5, 3, 2, 9, 4, 1, 1, 6, 8, 9,\n",
              "       2, 4, 9, 3, 7, 6, 2, 3, 3, 8, 6, 9, 3, 6, 3, 3, 2, 0, 7, 6, 1, 1,\n",
              "       9, 7, 3, 7, 8, 5, 5, 7, 5, 2, 3, 7, 2, 7, 5, 5, 7, 0, 9, 1, 6, 5,\n",
              "       9, 7, 4, 3, 8, 0, 3, 6, 4, 6, 3, 2, 6, 8, 8, 2, 4, 6, 7, 5, 2, 4,\n",
              "       5, 3, 2, 4, 6, 9, 4, 5, 4, 3, 4, 6, 2, 9, 0, 1, 7, 2, 0, 3, 6, 0,\n",
              "       4, 2, 0, 7, 5, 8, 5, 7, 8, 2, 3, 4, 3, 7, 2, 6, 7, 1, 5, 1, 0, 8,\n",
              "       2, 5, 9, 5, 6, 5, 2, 7, 2, 1, 5, 2, 6, 4, 9, 0, 9, 4, 1, 1, 7, 0,\n",
              "       8, 9, 0, 5, 4, 8, 1, 9])"
            ]
          },
          "metadata": {},
          "execution_count": 10
        }
      ]
    },
    {
      "cell_type": "code",
      "source": [
        "precisao_rbm = metrics.accuracy_score(previsoes_rbm, classe_teste)\n",
        "precisao_rbm"
      ],
      "metadata": {
        "colab": {
          "base_uri": "https://localhost:8080/"
        },
        "id": "NfMQSB35lq79",
        "outputId": "f0c411dd-5584-40d2-b1e7-2204587be160"
      },
      "execution_count": 11,
      "outputs": [
        {
          "output_type": "execute_result",
          "data": {
            "text/plain": [
              "0.8833333333333333"
            ]
          },
          "metadata": {},
          "execution_count": 11
        }
      ]
    },
    {
      "cell_type": "code",
      "source": [
        "naive_simples = GaussianNB()\n",
        "naive_simples.fit(previsores_treinamento, classe_treinamento)\n",
        "previsoes_naive = naive_simples.predict(previsores_teste)\n",
        "precisao_naive = metrics.accuracy_score(previsoes_naive, classe_teste)\n",
        "precisao_naive"
      ],
      "metadata": {
        "colab": {
          "base_uri": "https://localhost:8080/"
        },
        "id": "gr8885Pel8sY",
        "outputId": "85b4a59f-ca32-4d61-d957-9a9b6f33fd89"
      },
      "execution_count": 12,
      "outputs": [
        {
          "output_type": "execute_result",
          "data": {
            "text/plain": [
              "0.8111111111111111"
            ]
          },
          "metadata": {},
          "execution_count": 12
        }
      ]
    }
  ]
}