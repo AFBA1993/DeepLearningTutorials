{
  "nbformat": 4,
  "nbformat_minor": 0,
  "metadata": {
    "colab": {
      "name": "mnist_cruzada.ipynb",
      "provenance": [],
      "authorship_tag": "ABX9TyNM+3NBmDRFop2u9PuHwTWf",
      "include_colab_link": true
    },
    "kernelspec": {
      "name": "python3",
      "display_name": "Python 3"
    },
    "language_info": {
      "name": "python"
    }
  },
  "cells": [
    {
      "cell_type": "markdown",
      "metadata": {
        "id": "view-in-github",
        "colab_type": "text"
      },
      "source": [
        "<a href=\"https://colab.research.google.com/github/AFBA1993/DeepLearningTutorials/blob/main/CNNmnist/mnist_cruzada.ipynb\" target=\"_parent\"><img src=\"https://colab.research.google.com/assets/colab-badge.svg\" alt=\"Open In Colab\"/></a>"
      ]
    },
    {
      "cell_type": "code",
      "execution_count": 2,
      "metadata": {
        "id": "MxwdcI2DDZtw"
      },
      "outputs": [],
      "source": [
        "from keras.datasets import mnist\n",
        "from keras.models import Sequential\n",
        "from keras.layers import Dense, Flatten, Conv2D, MaxPooling2D\n",
        "from keras.utils import np_utils\n",
        "import numpy as np\n",
        "from sklearn.model_selection import StratifiedKFold"
      ]
    },
    {
      "cell_type": "code",
      "source": [
        "seed = 5\n",
        "np.random.seed(5)"
      ],
      "metadata": {
        "id": "pY40P3W3EIy0"
      },
      "execution_count": 3,
      "outputs": []
    },
    {
      "cell_type": "code",
      "source": [
        "(X, y), (X_teste, y_teste) = mnist.load_data()\n",
        "previsores = X.reshape(X.shape[0], 28, 28 ,1)\n",
        "previsores = previsores.astype('float32')\n",
        "previsores /=255\n",
        "classe = np_utils.to_categorical(y, 10)"
      ],
      "metadata": {
        "id": "nSa9gkPzEj33"
      },
      "execution_count": 5,
      "outputs": []
    },
    {
      "cell_type": "code",
      "source": [
        "kfold = StratifiedKFold(n_splits = 5, shuffle = True, random_state = seed)\n",
        "resultados = []"
      ],
      "metadata": {
        "id": "x2YIr8AGFI5R"
      },
      "execution_count": 6,
      "outputs": []
    },
    {
      "cell_type": "code",
      "source": [
        "a = np.zeros(5)\n",
        "b = np.zeros(shape = (classe.shape[0], 1))"
      ],
      "metadata": {
        "id": "wENgy8bmF7Ap"
      },
      "execution_count": 7,
      "outputs": []
    },
    {
      "cell_type": "code",
      "source": [
        "for indice_treinamento, indice_teste in kfold.split(previsores,\n",
        "                                 np.zeros(shape = (classe.shape[0], 1))):\n",
        "  classificador = Sequential()\n",
        "  classificador.add(Conv2D(32, (3,3), input_shape = (28, 28, 1), \n",
        "                                            activation = 'relu'))\n",
        "  classificador.add(MaxPooling2D(pool_size = (2,2)))\n",
        "  classificador.add(Flatten())\n",
        "  classificador.add(Dense(units = 128, activation = 'relu'))\n",
        "  classificador.add(Dense(units = 10, activation = 'softmax'))\n",
        "  classificador.compile(loss = 'categorical_crossentropy', optimizer = 'adam',\n",
        "                        metrics = ['accuracy'])\n",
        "  classificador.fit(previsores[indice_treinamento], classe[indice_treinamento],\n",
        "                    batch_size = 128, epochs = 5)\n",
        "  \n",
        "  precisao = classificador.evaluate(previsores[indice_teste], \n",
        "                                                     classe[indice_teste])\n",
        "  resultados.append(precisao[1])"
      ],
      "metadata": {
        "colab": {
          "base_uri": "https://localhost:8080/"
        },
        "id": "cYIaFE3dGRML",
        "outputId": "fdb8ad05-38bc-4e64-f14f-fd4cad8ee223"
      },
      "execution_count": 11,
      "outputs": [
        {
          "output_type": "stream",
          "name": "stdout",
          "text": [
            "Epoch 1/5\n",
            "375/375 [==============================] - 15s 38ms/step - loss: 0.2695 - accuracy: 0.9222\n",
            "Epoch 2/5\n",
            "375/375 [==============================] - 14s 38ms/step - loss: 0.0840 - accuracy: 0.9757\n",
            "Epoch 3/5\n",
            "375/375 [==============================] - 14s 38ms/step - loss: 0.0556 - accuracy: 0.9835\n",
            "Epoch 4/5\n",
            "375/375 [==============================] - 14s 38ms/step - loss: 0.0398 - accuracy: 0.9883\n",
            "Epoch 5/5\n",
            "375/375 [==============================] - 14s 38ms/step - loss: 0.0321 - accuracy: 0.9904\n",
            "375/375 [==============================] - 2s 5ms/step - loss: 0.0597 - accuracy: 0.9833\n",
            "Epoch 1/5\n",
            "375/375 [==============================] - 15s 38ms/step - loss: 0.2550 - accuracy: 0.9270\n",
            "Epoch 2/5\n",
            "375/375 [==============================] - 14s 38ms/step - loss: 0.0794 - accuracy: 0.9771\n",
            "Epoch 3/5\n",
            "375/375 [==============================] - 14s 38ms/step - loss: 0.0515 - accuracy: 0.9847\n",
            "Epoch 4/5\n",
            "375/375 [==============================] - 14s 38ms/step - loss: 0.0370 - accuracy: 0.9893\n",
            "Epoch 5/5\n",
            "375/375 [==============================] - 15s 39ms/step - loss: 0.0286 - accuracy: 0.9918\n",
            "375/375 [==============================] - 2s 5ms/step - loss: 0.0557 - accuracy: 0.9825\n",
            "Epoch 1/5\n",
            "375/375 [==============================] - 15s 39ms/step - loss: 0.2470 - accuracy: 0.9300\n",
            "Epoch 2/5\n",
            "375/375 [==============================] - 14s 39ms/step - loss: 0.0779 - accuracy: 0.9770\n",
            "Epoch 3/5\n",
            "375/375 [==============================] - 14s 39ms/step - loss: 0.0521 - accuracy: 0.9846\n",
            "Epoch 4/5\n",
            "375/375 [==============================] - 14s 39ms/step - loss: 0.0382 - accuracy: 0.9888\n",
            "Epoch 5/5\n",
            "375/375 [==============================] - 15s 39ms/step - loss: 0.0288 - accuracy: 0.9917\n",
            "375/375 [==============================] - 2s 5ms/step - loss: 0.0488 - accuracy: 0.9852\n",
            "Epoch 1/5\n",
            "375/375 [==============================] - 15s 39ms/step - loss: 0.2532 - accuracy: 0.9272\n",
            "Epoch 2/5\n",
            "375/375 [==============================] - 15s 39ms/step - loss: 0.0826 - accuracy: 0.9764\n",
            "Epoch 3/5\n",
            "375/375 [==============================] - 15s 39ms/step - loss: 0.0537 - accuracy: 0.9841\n",
            "Epoch 4/5\n",
            "375/375 [==============================] - 15s 39ms/step - loss: 0.0395 - accuracy: 0.9882\n",
            "Epoch 5/5\n",
            "375/375 [==============================] - 15s 39ms/step - loss: 0.0303 - accuracy: 0.9910\n",
            "375/375 [==============================] - 2s 5ms/step - loss: 0.0546 - accuracy: 0.9839\n",
            "Epoch 1/5\n",
            "375/375 [==============================] - 15s 39ms/step - loss: 0.2640 - accuracy: 0.9249\n",
            "Epoch 2/5\n",
            "375/375 [==============================] - 14s 39ms/step - loss: 0.0822 - accuracy: 0.9759\n",
            "Epoch 3/5\n",
            "375/375 [==============================] - 15s 39ms/step - loss: 0.0527 - accuracy: 0.9847\n",
            "Epoch 4/5\n",
            "375/375 [==============================] - 15s 39ms/step - loss: 0.0395 - accuracy: 0.9881\n",
            "Epoch 5/5\n",
            "375/375 [==============================] - 14s 38ms/step - loss: 0.0298 - accuracy: 0.9915\n",
            "375/375 [==============================] - 2s 5ms/step - loss: 0.0531 - accuracy: 0.9857\n"
          ]
        }
      ]
    },
    {
      "cell_type": "code",
      "source": [
        "media = sum(resultados)/ len(resultados)\n",
        "media"
      ],
      "metadata": {
        "colab": {
          "base_uri": "https://localhost:8080/"
        },
        "id": "eeAE-JpfL6jM",
        "outputId": "fdc32b00-ee90-46d1-dbd9-ba9e5eed44ec"
      },
      "execution_count": 13,
      "outputs": [
        {
          "output_type": "execute_result",
          "data": {
            "text/plain": [
              "0.9841333389282226"
            ]
          },
          "metadata": {},
          "execution_count": 13
        }
      ]
    }
  ]
}