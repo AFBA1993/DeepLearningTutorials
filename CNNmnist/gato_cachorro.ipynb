{
  "nbformat": 4,
  "nbformat_minor": 0,
  "metadata": {
    "colab": {
      "name": "gato_cachorro.ipynb",
      "provenance": [],
      "mount_file_id": "13DwrV5XwicbtvDy7hDTATUZ7S__vGx4c",
      "authorship_tag": "ABX9TyOmZaRamNCBefsaFuLXB4Dg",
      "include_colab_link": true
    },
    "kernelspec": {
      "name": "python3",
      "display_name": "Python 3"
    },
    "language_info": {
      "name": "python"
    }
  },
  "cells": [
    {
      "cell_type": "markdown",
      "metadata": {
        "id": "view-in-github",
        "colab_type": "text"
      },
      "source": [
        "<a href=\"https://colab.research.google.com/github/AFBA1993/DeepLearningTutorials/blob/main/CNNmnist/gato_cachorro.ipynb\" target=\"_parent\"><img src=\"https://colab.research.google.com/assets/colab-badge.svg\" alt=\"Open In Colab\"/></a>"
      ]
    },
    {
      "cell_type": "code",
      "execution_count": 12,
      "metadata": {
        "id": "UnbDeWUbWxCC"
      },
      "outputs": [],
      "source": [
        "from keras.models import Sequential\n",
        "from keras.layers import Conv2D, MaxPooling2D, Flatten, Dense, Dropout \n",
        "from keras.layers import BatchNormalization\n",
        "from keras.preprocessing.image import ImageDataGenerator\n",
        "import numpy as np\n",
        "from keras.preprocessing import image"
      ]
    },
    {
      "cell_type": "code",
      "source": [
        "classificador = Sequential()\n",
        "classificador.add(Conv2D(32, (3,3), input_shape = (64, 64, 3),\n",
        "                         activation = 'relu'))\n",
        "classificador.add(BatchNormalization())\n",
        "classificador.add(MaxPooling2D(pool_size = (2,2)))\n",
        "\n",
        "classificador.add(Conv2D(32, (3,3), input_shape = (64, 64, 3),\n",
        "                         activation = 'relu'))\n",
        "classificador.add(BatchNormalization())\n",
        "classificador.add(MaxPooling2D(pool_size = (2,2)))\n",
        "\n",
        "classificador.add(Flatten())\n",
        "\n",
        "classificador.add(Dense(units = 128, activation = 'relu'))\n",
        "classificador.add(Dropout(0.2))\n",
        "classificador.add(Dense(units = 128, activation = 'relu'))\n",
        "classificador.add(Dropout(0.2))\n",
        "classificador.add(Dense(units = 1, activation = 'sigmoid'))\n",
        "\n",
        "classificador.compile(optimizer = 'adam', loss = 'binary_crossentropy',\n",
        "                                                metrics = ['accuracy'])"
      ],
      "metadata": {
        "id": "ACXsiC7EXdK7"
      },
      "execution_count": 5,
      "outputs": []
    },
    {
      "cell_type": "code",
      "source": [
        "gerador_treinamento = ImageDataGenerator(rescale = 1./255,\n",
        "                                         rotation_range = 7,\n",
        "                                         horizontal_flip = True,\n",
        "                                         shear_range = 0.2,\n",
        "                                         height_shift_range = 0.007,\n",
        "                                         zoom_range = 0.2)"
      ],
      "metadata": {
        "id": "cY-ezT1gaiHO"
      },
      "execution_count": 7,
      "outputs": []
    },
    {
      "cell_type": "code",
      "source": [
        "gerador_teste = ImageDataGenerator(rescale = 1./255)"
      ],
      "metadata": {
        "id": "AP011lSQbco5"
      },
      "execution_count": 8,
      "outputs": []
    },
    {
      "cell_type": "code",
      "source": [
        "base_treinamento = gerador_treinamento.flow_from_directory('/content/drive/MyDrive/UdemyDeepCSVs/dataset/dataset/training_set',\n",
        "                                                           target_size = (64, 64),\n",
        "                                                           batch_size = 32,\n",
        "                                                           class_mode = 'binary')"
      ],
      "metadata": {
        "colab": {
          "base_uri": "https://localhost:8080/"
        },
        "id": "aTnNO6lcxzt7",
        "outputId": "b483f880-16c7-4e8b-d375-2a0172ddbc6a"
      },
      "execution_count": 9,
      "outputs": [
        {
          "output_type": "stream",
          "name": "stdout",
          "text": [
            "Found 4000 images belonging to 2 classes.\n"
          ]
        }
      ]
    },
    {
      "cell_type": "code",
      "source": [
        "base_teste = gerador_treinamento.flow_from_directory('/content/drive/MyDrive/UdemyDeepCSVs/dataset/dataset/test_set',\n",
        "                                                           target_size = (64, 64),\n",
        "                                                           batch_size = 32,\n",
        "                                                           class_mode = 'binary')"
      ],
      "metadata": {
        "colab": {
          "base_uri": "https://localhost:8080/"
        },
        "id": "D8y7QrOWz2L5",
        "outputId": "46da5c05-3b62-475e-9f88-8f1589e9ac5c"
      },
      "execution_count": 10,
      "outputs": [
        {
          "output_type": "stream",
          "name": "stdout",
          "text": [
            "Found 1000 images belonging to 2 classes.\n"
          ]
        }
      ]
    },
    {
      "cell_type": "code",
      "source": [
        "classificador.fit_generator(base_treinamento, steps_per_epoch = 4000/32,\n",
        "                            epochs = 5, validation_data = base_teste,\n",
        "                            validation_steps = 1000/32)"
      ],
      "metadata": {
        "colab": {
          "base_uri": "https://localhost:8080/"
        },
        "id": "Heis-U700EFX",
        "outputId": "60e0592f-3ad0-4337-b7ba-a86860bf2e30"
      },
      "execution_count": 11,
      "outputs": [
        {
          "output_type": "stream",
          "name": "stderr",
          "text": [
            "/usr/local/lib/python3.7/dist-packages/ipykernel_launcher.py:3: UserWarning: `Model.fit_generator` is deprecated and will be removed in a future version. Please use `Model.fit`, which supports generators.\n",
            "  This is separate from the ipykernel package so we can avoid doing imports until\n"
          ]
        },
        {
          "output_type": "stream",
          "name": "stdout",
          "text": [
            "Epoch 1/5\n",
            "125/125 [==============================] - 1203s 10s/step - loss: 0.7956 - accuracy: 0.5738 - val_loss: 1.3218 - val_accuracy: 0.5000\n",
            "Epoch 2/5\n",
            "125/125 [==============================] - 52s 413ms/step - loss: 0.6604 - accuracy: 0.6140 - val_loss: 3.0270 - val_accuracy: 0.5000\n",
            "Epoch 3/5\n",
            "125/125 [==============================] - 52s 413ms/step - loss: 0.6268 - accuracy: 0.6490 - val_loss: 1.8586 - val_accuracy: 0.5020\n",
            "Epoch 4/5\n",
            "125/125 [==============================] - 51s 408ms/step - loss: 0.6083 - accuracy: 0.6628 - val_loss: 0.8351 - val_accuracy: 0.5740\n",
            "Epoch 5/5\n",
            "125/125 [==============================] - 51s 408ms/step - loss: 0.5999 - accuracy: 0.6842 - val_loss: 0.6489 - val_accuracy: 0.6230\n"
          ]
        },
        {
          "output_type": "execute_result",
          "data": {
            "text/plain": [
              "<keras.callbacks.History at 0x7f1e333d9d90>"
            ]
          },
          "metadata": {},
          "execution_count": 11
        }
      ]
    },
    {
      "cell_type": "code",
      "source": [
        "imagem_teste = image.load_img('/content/drive/MyDrive/UdemyDeepCSVs/dataset/dataset/test_set/gato/cat.3500.jpg',\n",
        "                              target_size = (64,64))"
      ],
      "metadata": {
        "id": "T1RO7PE-9_gQ"
      },
      "execution_count": 15,
      "outputs": []
    },
    {
      "cell_type": "code",
      "source": [
        "imagem_teste = image.img_to_array(imagem_teste)\n",
        "imagem_teste /= 255"
      ],
      "metadata": {
        "id": "xfVbq1Kp-r2f"
      },
      "execution_count": 16,
      "outputs": []
    },
    {
      "cell_type": "code",
      "source": [
        "imagem_teste = np.expand_dims(imagem_teste, axis = 0)\n",
        "previssao = classificador.predict(imagem_teste)"
      ],
      "metadata": {
        "id": "oEKkqvyP-4pj"
      },
      "execution_count": 17,
      "outputs": []
    },
    {
      "cell_type": "code",
      "source": [
        "previssao"
      ],
      "metadata": {
        "colab": {
          "base_uri": "https://localhost:8080/"
        },
        "id": "45po9vV2_ReM",
        "outputId": "b556ec4a-6102-4c62-898d-b10f921b6110"
      },
      "execution_count": 18,
      "outputs": [
        {
          "output_type": "execute_result",
          "data": {
            "text/plain": [
              "array([[0.2676353]], dtype=float32)"
            ]
          },
          "metadata": {},
          "execution_count": 18
        }
      ]
    },
    {
      "cell_type": "code",
      "source": [
        "base_treinamento.class_indices"
      ],
      "metadata": {
        "colab": {
          "base_uri": "https://localhost:8080/"
        },
        "id": "LaexpPl__Z9w",
        "outputId": "c15ac08b-8143-476d-b10e-f1b546a7e298"
      },
      "execution_count": 19,
      "outputs": [
        {
          "output_type": "execute_result",
          "data": {
            "text/plain": [
              "{'cachorro': 0, 'gato': 1}"
            ]
          },
          "metadata": {},
          "execution_count": 19
        }
      ]
    },
    {
      "cell_type": "markdown",
      "source": [
        ""
      ],
      "metadata": {
        "id": "HI3H3Um8bB14"
      }
    }
  ]
}