{
  "nbformat": 4,
  "nbformat_minor": 0,
  "metadata": {
    "colab": {
      "name": "mnist.ipynb",
      "provenance": [],
      "authorship_tag": "ABX9TyMV8Mo0O/3hENHtWKbJqy5/",
      "include_colab_link": true
    },
    "kernelspec": {
      "name": "python3",
      "display_name": "Python 3"
    },
    "language_info": {
      "name": "python"
    }
  },
  "cells": [
    {
      "cell_type": "markdown",
      "metadata": {
        "id": "view-in-github",
        "colab_type": "text"
      },
      "source": [
        "<a href=\"https://colab.research.google.com/github/AFBA1993/DeepLearningTutorials/blob/main/CNNmnist/mnist.ipynb\" target=\"_parent\"><img src=\"https://colab.research.google.com/assets/colab-badge.svg\" alt=\"Open In Colab\"/></a>"
      ]
    },
    {
      "cell_type": "code",
      "execution_count": 30,
      "metadata": {
        "id": "bHJDPfj8bL-b"
      },
      "outputs": [],
      "source": [
        "import matplotlib.pyplot as plt\n",
        "from keras.datasets import mnist\n",
        "from keras.models import Sequential\n",
        "from keras.layers import Dense, Flatten, Dropout\n",
        "from keras.utils import np_utils\n",
        "from keras.layers import Conv2D, MaxPooling2D\n"
      ]
    },
    {
      "cell_type": "code",
      "source": [
        "pip install keras-layer-normalization"
      ],
      "metadata": {
        "colab": {
          "base_uri": "https://localhost:8080/"
        },
        "id": "Vvpjtr4UVAre",
        "outputId": "83e53736-de51-422d-9c42-8a4740134181"
      },
      "execution_count": 18,
      "outputs": [
        {
          "output_type": "stream",
          "name": "stdout",
          "text": [
            "Collecting keras-layer-normalization\n",
            "  Downloading keras-layer-normalization-0.15.0.tar.gz (4.2 kB)\n",
            "Requirement already satisfied: numpy in /usr/local/lib/python3.7/dist-packages (from keras-layer-normalization) (1.19.5)\n",
            "Requirement already satisfied: Keras in /usr/local/lib/python3.7/dist-packages (from keras-layer-normalization) (2.7.0)\n",
            "Building wheels for collected packages: keras-layer-normalization\n",
            "  Building wheel for keras-layer-normalization (setup.py) ... \u001b[?25l\u001b[?25hdone\n",
            "  Created wheel for keras-layer-normalization: filename=keras_layer_normalization-0.15.0-py3-none-any.whl size=5224 sha256=3f7b3859b9c24ed4af12038aa6eb768a895b6cdf7abb261f3ba7708eb63a382c\n",
            "  Stored in directory: /root/.cache/pip/wheels/4d/be/fe/55422f77ac11fe6ddcb471198038de8a26b5a4dd1557883c1e\n",
            "Successfully built keras-layer-normalization\n",
            "Installing collected packages: keras-layer-normalization\n",
            "Successfully installed keras-layer-normalization-0.15.0\n"
          ]
        }
      ]
    },
    {
      "cell_type": "code",
      "source": [
        "from keras.layers import BatchNormalization"
      ],
      "metadata": {
        "id": "OvR5EASWUr1Y"
      },
      "execution_count": 20,
      "outputs": []
    },
    {
      "cell_type": "code",
      "source": [
        "(X_treinamento, y_treinamento), (X_teste, y_teste) = mnist.load_data()"
      ],
      "metadata": {
        "colab": {
          "base_uri": "https://localhost:8080/"
        },
        "id": "lD8emZH7b6gC",
        "outputId": "42b005d8-9a87-4397-b33d-60401cc93057"
      },
      "execution_count": 2,
      "outputs": [
        {
          "output_type": "stream",
          "name": "stdout",
          "text": [
            "Downloading data from https://storage.googleapis.com/tensorflow/tf-keras-datasets/mnist.npz\n",
            "11493376/11490434 [==============================] - 0s 0us/step\n",
            "11501568/11490434 [==============================] - 0s 0us/step\n"
          ]
        }
      ]
    },
    {
      "cell_type": "code",
      "source": [
        "plt.imshow(X_treinamento[4])"
      ],
      "metadata": {
        "colab": {
          "base_uri": "https://localhost:8080/",
          "height": 283
        },
        "id": "8WvVdGyicbxM",
        "outputId": "896952af-36a9-4ff7-cef6-a202db1c7829"
      },
      "execution_count": 3,
      "outputs": [
        {
          "output_type": "execute_result",
          "data": {
            "text/plain": [
              "<matplotlib.image.AxesImage at 0x7f2185c304d0>"
            ]
          },
          "metadata": {},
          "execution_count": 3
        },
        {
          "output_type": "display_data",
          "data": {
            "image/png": "[encoded data removed]",
            "text/plain": [
              "<Figure size 432x288 with 1 Axes>"
            ]
          },
          "metadata": {
            "needs_background": "light"
          }
        }
      ]
    },
    {
      "cell_type": "code",
      "source": [
        "previsores_treinamento = X_treinamento.reshape(X_treinamento.shape[0], \n",
        "                                               28, 28, 1)"
      ],
      "metadata": {
        "id": "SNr-bXO2dGqk"
      },
      "execution_count": 4,
      "outputs": []
    },
    {
      "cell_type": "code",
      "source": [
        "previsores_teste = X_teste.reshape(X_teste.shape[0], 28, 28, 1)"
      ],
      "metadata": {
        "id": "edGL9QJxds36"
      },
      "execution_count": 5,
      "outputs": []
    },
    {
      "cell_type": "code",
      "source": [
        "previsores_treinamento = previsores_treinamento.astype('float32')\n",
        "previsores_teste = previsores_teste.astype('float32')"
      ],
      "metadata": {
        "id": "TGCunhSQd5rf"
      },
      "execution_count": 6,
      "outputs": []
    },
    {
      "cell_type": "code",
      "source": [
        "previsores_treinamento /= 255\n",
        "previsores_teste /= 255"
      ],
      "metadata": {
        "id": "3AqaSW2weW7C"
      },
      "execution_count": 7,
      "outputs": []
    },
    {
      "cell_type": "code",
      "source": [
        "classe_treinamento = np_utils.to_categorical(y_treinamento, 10)\n",
        "classe_teste = np_utils.to_categorical(y_teste, 10)"
      ],
      "metadata": {
        "id": "LGHbbgRUe01j"
      },
      "execution_count": 8,
      "outputs": []
    },
    {
      "cell_type": "code",
      "source": [
        "classificador = Sequential()\n",
        "classificador.add(Conv2D(32, (3,3), input_shape = (28, 28, 1),\n",
        "                         activation = 'relu'))\n",
        "\n",
        "classificador.add(BatchNormalization())\n",
        "\n",
        "classificador.add(MaxPooling2D(pool_size = (2,2)))\n",
        "#classificador.add(Flatten())\n",
        "\n",
        "classificador.add(Conv2D(32, (3,3), activation = 'relu'))\n",
        "classificador.add(BatchNormalization())\n",
        "classificador.add(MaxPooling2D(pool_size = (2,2)))\n",
        "classificador.add(Flatten())\n",
        "\n",
        "classificador.add(Dense(units = 128, activation = 'relu'))\n",
        "classificador.add(Dropout(0.2))\n",
        "classificador.add(Dense(units = 10, activation = 'softmax'))\n",
        "classificador.add(Dropout(0.2))\n",
        "\n",
        "classificador.compile(loss = 'categorical_crossentropy',\n",
        "                      optimizer = 'adam', metrics = ['accuracy'])"
      ],
      "metadata": {
        "id": "H2h5HO04Ki7Z"
      },
      "execution_count": 33,
      "outputs": []
    },
    {
      "cell_type": "code",
      "source": [
        "classificador.fit(previsores_treinamento, classe_treinamento,\n",
        "                  batch_size = 128, epochs = 5,\n",
        "                  validation_data = (previsores_teste, classe_teste))"
      ],
      "metadata": {
        "colab": {
          "base_uri": "https://localhost:8080/"
        },
        "id": "G_9ZBiewQv4Y",
        "outputId": "d733e671-baba-4b42-a57a-9c5c29c86eed"
      },
      "execution_count": 34,
      "outputs": [
        {
          "output_type": "stream",
          "name": "stdout",
          "text": [
            "Epoch 1/5\n",
            "469/469 [==============================] - 55s 116ms/step - loss: 3.3569 - accuracy: 0.7582 - val_loss: 0.1356 - val_accuracy: 0.9654\n",
            "Epoch 2/5\n",
            "469/469 [==============================] - 54s 116ms/step - loss: 3.2417 - accuracy: 0.7886 - val_loss: 0.0418 - val_accuracy: 0.9866\n",
            "Epoch 3/5\n",
            "469/469 [==============================] - 54s 116ms/step - loss: 3.2380 - accuracy: 0.7917 - val_loss: 0.0421 - val_accuracy: 0.9875\n",
            "Epoch 4/5\n",
            "469/469 [==============================] - 54s 116ms/step - loss: 3.2810 - accuracy: 0.7901 - val_loss: 0.0396 - val_accuracy: 0.9867\n",
            "Epoch 5/5\n",
            "469/469 [==============================] - 55s 117ms/step - loss: 3.3120 - accuracy: 0.7892 - val_loss: 0.0365 - val_accuracy: 0.9899\n"
          ]
        },
        {
          "output_type": "execute_result",
          "data": {
            "text/plain": [
              "<keras.callbacks.History at 0x7f217d5d9710>"
            ]
          },
          "metadata": {},
          "execution_count": 34
        }
      ]
    },
    {
      "cell_type": "code",
      "source": [
        "resultado = classificador.evaluate(previsores_teste, classe_teste)"
      ],
      "metadata": {
        "colab": {
          "base_uri": "https://localhost:8080/"
        },
        "id": "wuK8BBOUTamW",
        "outputId": "6fa5d380-bb7e-4472-fe47-f0ed333052bc"
      },
      "execution_count": 35,
      "outputs": [
        {
          "output_type": "stream",
          "name": "stdout",
          "text": [
            "313/313 [==============================] - 3s 11ms/step - loss: 0.0365 - accuracy: 0.9899\n"
          ]
        }
      ]
    },
    {
      "cell_type": "code",
      "source": [
        "resultado"
      ],
      "metadata": {
        "colab": {
          "base_uri": "https://localhost:8080/"
        },
        "id": "o7oJ6pwvTney",
        "outputId": "0bc0996a-c516-4bbb-e754-8a0494583d8f"
      },
      "execution_count": 36,
      "outputs": [
        {
          "output_type": "execute_result",
          "data": {
            "text/plain": [
              "[0.03647742420434952, 0.9898999929428101]"
            ]
          },
          "metadata": {},
          "execution_count": 36
        }
      ]
    }
  ]
}