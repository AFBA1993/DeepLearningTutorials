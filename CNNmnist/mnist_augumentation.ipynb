{
  "nbformat": 4,
  "nbformat_minor": 0,
  "metadata": {
    "colab": {
      "name": "mnist_augumentation.ipynb",
      "provenance": [],
      "authorship_tag": "ABX9TyOxE9JCb00mMZCaCA/4gEH/",
      "include_colab_link": true
    },
    "kernelspec": {
      "name": "python3",
      "display_name": "Python 3"
    },
    "language_info": {
      "name": "python"
    }
  },
  "cells": [
    {
      "cell_type": "markdown",
      "metadata": {
        "id": "view-in-github",
        "colab_type": "text"
      },
      "source": [
        "<a href=\"https://colab.research.google.com/github/AFBA1993/DeepLearningTutorials/blob/main/CNNmnist/mnist_augumentation.ipynb\" target=\"_parent\"><img src=\"https://colab.research.google.com/assets/colab-badge.svg\" alt=\"Open In Colab\"/></a>"
      ]
    },
    {
      "cell_type": "code",
      "execution_count": 2,
      "metadata": {
        "id": "ncBWxXqnNUYT"
      },
      "outputs": [],
      "source": [
        "from keras.datasets import mnist\n",
        "from keras.models import Sequential \n",
        "from keras.layers import Dense, Flatten, Conv2D, MaxPooling2D\n",
        "from keras.utils import np_utils\n",
        "from keras.preprocessing.image import ImageDataGenerator"
      ]
    },
    {
      "cell_type": "code",
      "source": [
        "(X_treinamento, y_treinamento), (X_teste, y_teste) = mnist.load_data()\n",
        "previsores_treinamento = X_treinamento.reshape(X_treinamento.shape[0],\n",
        "                                                             28, 28, 1)\n",
        "previsores_teste = X_teste.reshape(X_teste.shape[0], 28, 28, 1)\n",
        "previsores_treinamento = previsores_treinamento.astype('float32')\n",
        "previsores_teste = previsores_teste.astype('float32')\n",
        "previsores_treinamento /= 255\n",
        "previsores_teste /=255\n",
        "classe_treinamento = np_utils.to_categorical(y_treinamento, 10)\n",
        "classe_teste = np_utils.to_categorical(y_teste, 10)\n",
        "\n",
        "classificador = Sequential()\n",
        "classificador.add(Conv2D(32, (3,3), input_shape = (28, 28, 1), \n",
        "                                          activation = 'relu'))\n",
        "classificador.add(MaxPooling2D(pool_size = (2,2)))\n",
        "classificador.add(Flatten())\n",
        "\n",
        "classificador.add(Dense(units = 128, activation = 'relu'))\n",
        "classificador.add(Dense(units = 10, activation = 'softmax'))\n",
        "classificador.compile(loss = 'categorical_crossentropy',\n",
        "                      optimizer = 'adam', metrics = ['accuracy'])"
      ],
      "metadata": {
        "id": "Yk9YsRlmOT3N"
      },
      "execution_count": 4,
      "outputs": []
    },
    {
      "cell_type": "code",
      "source": [
        "gerador_trinamento =ImageDataGenerator(rotation_range = 7,\n",
        "                                       horizontal_flip = True,\n",
        "                                       shear_range = 0.2,\n",
        "                                       height_shift_range = 0.07,\n",
        "                                       zoom_range = 0.2)"
      ],
      "metadata": {
        "id": "Ir_2omN2R5zk"
      },
      "execution_count": 5,
      "outputs": []
    },
    {
      "cell_type": "code",
      "source": [
        "gerador_teste =ImageDataGenerator()"
      ],
      "metadata": {
        "id": "RlMfJkyhSaIA"
      },
      "execution_count": 6,
      "outputs": []
    },
    {
      "cell_type": "code",
      "source": [
        "base_treinamento = gerador_trinamento.flow(previsores_treinamento,\n",
        "                                      classe_treinamento, batch_size = 128)\n",
        "\n",
        "base_teste = gerador_teste.flow(previsores_teste, classe_teste, \n",
        "                                                          batch_size = 128)"
      ],
      "metadata": {
        "id": "0x-WH7_uS-su"
      },
      "execution_count": 8,
      "outputs": []
    },
    {
      "cell_type": "code",
      "source": [
        "classificador.fit_generator(base_treinamento, steps_per_epoch = 600000/128,\n",
        "                            epochs = 5, validation_data = base_teste,\n",
        "                            validation_steps = 10000/128)"
      ],
      "metadata": {
        "colab": {
          "base_uri": "https://localhost:8080/"
        },
        "id": "3fwsvxurTsFw",
        "outputId": "83997119-e454-431e-aa5a-ec84219efaaa"
      },
      "execution_count": 9,
      "outputs": [
        {
          "output_type": "stream",
          "name": "stderr",
          "text": [
            "/usr/local/lib/python3.7/dist-packages/ipykernel_launcher.py:3: UserWarning: `Model.fit_generator` is deprecated and will be removed in a future version. Please use `Model.fit`, which supports generators.\n",
            "  This is separate from the ipykernel package so we can avoid doing imports until\n"
          ]
        },
        {
          "output_type": "stream",
          "name": "stdout",
          "text": [
            "Epoch 1/5\n",
            " 469/4687 [==>...........................] - ETA: 6:29 - loss: 0.5362 - accuracy: 0.8327WARNING:tensorflow:Your input ran out of data; interrupting training. Make sure that your dataset or generator can generate at least `steps_per_epoch * epochs` batches (in this case, 23437.5 batches). You may need to use the repeat() function when building your dataset.\n",
            "4687/4687 [==============================] - 46s 10ms/step - loss: 0.5362 - accuracy: 0.8327 - val_loss: 0.1734 - val_accuracy: 0.9469\n"
          ]
        },
        {
          "output_type": "execute_result",
          "data": {
            "text/plain": [
              "<keras.callbacks.History at 0x7f6d39237e90>"
            ]
          },
          "metadata": {},
          "execution_count": 9
        }
      ]
    }
  ]
}